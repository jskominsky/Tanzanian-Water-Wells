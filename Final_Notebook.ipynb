{
 "cells": [
  {
   "cell_type": "code",
   "execution_count": 1,
   "metadata": {},
   "outputs": [],
   "source": [
    "import pandas as pd\n",
    "import numpy as np\n",
    "from matplotlib import pyplot as plt\n",
    "import seaborn as sns\n",
    "import statsmodels.api as sm\n",
    "from sklearn.model_selection import train_test_split, GridSearchCV, cross_val_score\n",
    "from sklearn.pipeline import Pipeline\n",
    "from sklearn.preprocessing import StandardScaler, OneHotEncoder, FunctionTransformer, OrdinalEncoder\n",
    "from sklearn.impute import SimpleImputer\n",
    "from sklearn.compose import ColumnTransformer\n",
    "from sklearn.linear_model import LogisticRegression\n",
    "from sklearn.ensemble import RandomForestClassifier, GradientBoostingClassifier, StackingClassifier\n",
    "from sklearn.metrics import plot_confusion_matrix, recall_score,\\\n",
    "    accuracy_score, precision_score, f1_score\n",
    "%matplotlib inline\n",
    "from imblearn.over_sampling import SMOTE\n",
    "from imblearn.pipeline import Pipeline as ImPipeline\n",
    "from sklearn.dummy import DummyClassifier\n",
    "import xgboost\n",
    "import pickle\n",
    "import warnings\n",
    "warnings.simplefilter(action='ignore', category=FutureWarning)"
   ]
  },
  {
   "cell_type": "code",
   "execution_count": 2,
   "metadata": {},
   "outputs": [],
   "source": [
    "df_train = pd.read_csv('./data/training_set_values.csv')"
   ]
  },
  {
   "cell_type": "code",
   "execution_count": 3,
   "metadata": {
    "scrolled": true
   },
   "outputs": [
    {
     "data": {
      "text/html": [
       "<div>\n",
       "<style scoped>\n",
       "    .dataframe tbody tr th:only-of-type {\n",
       "        vertical-align: middle;\n",
       "    }\n",
       "\n",
       "    .dataframe tbody tr th {\n",
       "        vertical-align: top;\n",
       "    }\n",
       "\n",
       "    .dataframe thead th {\n",
       "        text-align: right;\n",
       "    }\n",
       "</style>\n",
       "<table border=\"1\" class=\"dataframe\">\n",
       "  <thead>\n",
       "    <tr style=\"text-align: right;\">\n",
       "      <th></th>\n",
       "      <th>id</th>\n",
       "      <th>amount_tsh</th>\n",
       "      <th>date_recorded</th>\n",
       "      <th>funder</th>\n",
       "      <th>gps_height</th>\n",
       "      <th>installer</th>\n",
       "      <th>longitude</th>\n",
       "      <th>latitude</th>\n",
       "      <th>wpt_name</th>\n",
       "      <th>num_private</th>\n",
       "      <th>...</th>\n",
       "      <th>payment_type</th>\n",
       "      <th>water_quality</th>\n",
       "      <th>quality_group</th>\n",
       "      <th>quantity</th>\n",
       "      <th>quantity_group</th>\n",
       "      <th>source</th>\n",
       "      <th>source_type</th>\n",
       "      <th>source_class</th>\n",
       "      <th>waterpoint_type</th>\n",
       "      <th>waterpoint_type_group</th>\n",
       "    </tr>\n",
       "  </thead>\n",
       "  <tbody>\n",
       "    <tr>\n",
       "      <th>0</th>\n",
       "      <td>69572</td>\n",
       "      <td>6000.0</td>\n",
       "      <td>2011-03-14</td>\n",
       "      <td>Roman</td>\n",
       "      <td>1390</td>\n",
       "      <td>Roman</td>\n",
       "      <td>34.938093</td>\n",
       "      <td>-9.856322</td>\n",
       "      <td>none</td>\n",
       "      <td>0</td>\n",
       "      <td>...</td>\n",
       "      <td>annually</td>\n",
       "      <td>soft</td>\n",
       "      <td>good</td>\n",
       "      <td>enough</td>\n",
       "      <td>enough</td>\n",
       "      <td>spring</td>\n",
       "      <td>spring</td>\n",
       "      <td>groundwater</td>\n",
       "      <td>communal standpipe</td>\n",
       "      <td>communal standpipe</td>\n",
       "    </tr>\n",
       "    <tr>\n",
       "      <th>1</th>\n",
       "      <td>8776</td>\n",
       "      <td>0.0</td>\n",
       "      <td>2013-03-06</td>\n",
       "      <td>Grumeti</td>\n",
       "      <td>1399</td>\n",
       "      <td>GRUMETI</td>\n",
       "      <td>34.698766</td>\n",
       "      <td>-2.147466</td>\n",
       "      <td>Zahanati</td>\n",
       "      <td>0</td>\n",
       "      <td>...</td>\n",
       "      <td>never pay</td>\n",
       "      <td>soft</td>\n",
       "      <td>good</td>\n",
       "      <td>insufficient</td>\n",
       "      <td>insufficient</td>\n",
       "      <td>rainwater harvesting</td>\n",
       "      <td>rainwater harvesting</td>\n",
       "      <td>surface</td>\n",
       "      <td>communal standpipe</td>\n",
       "      <td>communal standpipe</td>\n",
       "    </tr>\n",
       "    <tr>\n",
       "      <th>2</th>\n",
       "      <td>34310</td>\n",
       "      <td>25.0</td>\n",
       "      <td>2013-02-25</td>\n",
       "      <td>Lottery Club</td>\n",
       "      <td>686</td>\n",
       "      <td>World vision</td>\n",
       "      <td>37.460664</td>\n",
       "      <td>-3.821329</td>\n",
       "      <td>Kwa Mahundi</td>\n",
       "      <td>0</td>\n",
       "      <td>...</td>\n",
       "      <td>per bucket</td>\n",
       "      <td>soft</td>\n",
       "      <td>good</td>\n",
       "      <td>enough</td>\n",
       "      <td>enough</td>\n",
       "      <td>dam</td>\n",
       "      <td>dam</td>\n",
       "      <td>surface</td>\n",
       "      <td>communal standpipe multiple</td>\n",
       "      <td>communal standpipe</td>\n",
       "    </tr>\n",
       "    <tr>\n",
       "      <th>3</th>\n",
       "      <td>67743</td>\n",
       "      <td>0.0</td>\n",
       "      <td>2013-01-28</td>\n",
       "      <td>Unicef</td>\n",
       "      <td>263</td>\n",
       "      <td>UNICEF</td>\n",
       "      <td>38.486161</td>\n",
       "      <td>-11.155298</td>\n",
       "      <td>Zahanati Ya Nanyumbu</td>\n",
       "      <td>0</td>\n",
       "      <td>...</td>\n",
       "      <td>never pay</td>\n",
       "      <td>soft</td>\n",
       "      <td>good</td>\n",
       "      <td>dry</td>\n",
       "      <td>dry</td>\n",
       "      <td>machine dbh</td>\n",
       "      <td>borehole</td>\n",
       "      <td>groundwater</td>\n",
       "      <td>communal standpipe multiple</td>\n",
       "      <td>communal standpipe</td>\n",
       "    </tr>\n",
       "    <tr>\n",
       "      <th>4</th>\n",
       "      <td>19728</td>\n",
       "      <td>0.0</td>\n",
       "      <td>2011-07-13</td>\n",
       "      <td>Action In A</td>\n",
       "      <td>0</td>\n",
       "      <td>Artisan</td>\n",
       "      <td>31.130847</td>\n",
       "      <td>-1.825359</td>\n",
       "      <td>Shuleni</td>\n",
       "      <td>0</td>\n",
       "      <td>...</td>\n",
       "      <td>never pay</td>\n",
       "      <td>soft</td>\n",
       "      <td>good</td>\n",
       "      <td>seasonal</td>\n",
       "      <td>seasonal</td>\n",
       "      <td>rainwater harvesting</td>\n",
       "      <td>rainwater harvesting</td>\n",
       "      <td>surface</td>\n",
       "      <td>communal standpipe</td>\n",
       "      <td>communal standpipe</td>\n",
       "    </tr>\n",
       "  </tbody>\n",
       "</table>\n",
       "<p>5 rows × 40 columns</p>\n",
       "</div>"
      ],
      "text/plain": [
       "      id  amount_tsh date_recorded        funder  gps_height     installer  \\\n",
       "0  69572      6000.0    2011-03-14         Roman        1390         Roman   \n",
       "1   8776         0.0    2013-03-06       Grumeti        1399       GRUMETI   \n",
       "2  34310        25.0    2013-02-25  Lottery Club         686  World vision   \n",
       "3  67743         0.0    2013-01-28        Unicef         263        UNICEF   \n",
       "4  19728         0.0    2011-07-13   Action In A           0       Artisan   \n",
       "\n",
       "   longitude   latitude              wpt_name  num_private  ... payment_type  \\\n",
       "0  34.938093  -9.856322                  none            0  ...     annually   \n",
       "1  34.698766  -2.147466              Zahanati            0  ...    never pay   \n",
       "2  37.460664  -3.821329           Kwa Mahundi            0  ...   per bucket   \n",
       "3  38.486161 -11.155298  Zahanati Ya Nanyumbu            0  ...    never pay   \n",
       "4  31.130847  -1.825359               Shuleni            0  ...    never pay   \n",
       "\n",
       "  water_quality quality_group      quantity  quantity_group  \\\n",
       "0          soft          good        enough          enough   \n",
       "1          soft          good  insufficient    insufficient   \n",
       "2          soft          good        enough          enough   \n",
       "3          soft          good           dry             dry   \n",
       "4          soft          good      seasonal        seasonal   \n",
       "\n",
       "                 source           source_type  source_class  \\\n",
       "0                spring                spring   groundwater   \n",
       "1  rainwater harvesting  rainwater harvesting       surface   \n",
       "2                   dam                   dam       surface   \n",
       "3           machine dbh              borehole   groundwater   \n",
       "4  rainwater harvesting  rainwater harvesting       surface   \n",
       "\n",
       "               waterpoint_type waterpoint_type_group  \n",
       "0           communal standpipe    communal standpipe  \n",
       "1           communal standpipe    communal standpipe  \n",
       "2  communal standpipe multiple    communal standpipe  \n",
       "3  communal standpipe multiple    communal standpipe  \n",
       "4           communal standpipe    communal standpipe  \n",
       "\n",
       "[5 rows x 40 columns]"
      ]
     },
     "execution_count": 3,
     "metadata": {},
     "output_type": "execute_result"
    }
   ],
   "source": [
    "df_train.head()"
   ]
  },
  {
   "cell_type": "code",
   "execution_count": 4,
   "metadata": {},
   "outputs": [
    {
     "data": {
      "text/plain": [
       "(59400, 40)"
      ]
     },
     "execution_count": 4,
     "metadata": {},
     "output_type": "execute_result"
    }
   ],
   "source": [
    "df_train.shape"
   ]
  },
  {
   "cell_type": "code",
   "execution_count": 5,
   "metadata": {},
   "outputs": [],
   "source": [
    "df_train_labels = pd.read_csv('./data/training_set_labels.csv')"
   ]
  },
  {
   "cell_type": "code",
   "execution_count": 6,
   "metadata": {},
   "outputs": [
    {
     "data": {
      "text/plain": [
       "(59400, 2)"
      ]
     },
     "execution_count": 6,
     "metadata": {},
     "output_type": "execute_result"
    }
   ],
   "source": [
    "df_train_labels.shape"
   ]
  },
  {
   "cell_type": "code",
   "execution_count": 7,
   "metadata": {},
   "outputs": [
    {
     "data": {
      "text/html": [
       "<div>\n",
       "<style scoped>\n",
       "    .dataframe tbody tr th:only-of-type {\n",
       "        vertical-align: middle;\n",
       "    }\n",
       "\n",
       "    .dataframe tbody tr th {\n",
       "        vertical-align: top;\n",
       "    }\n",
       "\n",
       "    .dataframe thead th {\n",
       "        text-align: right;\n",
       "    }\n",
       "</style>\n",
       "<table border=\"1\" class=\"dataframe\">\n",
       "  <thead>\n",
       "    <tr style=\"text-align: right;\">\n",
       "      <th></th>\n",
       "      <th>id</th>\n",
       "      <th>status_group</th>\n",
       "    </tr>\n",
       "  </thead>\n",
       "  <tbody>\n",
       "    <tr>\n",
       "      <th>0</th>\n",
       "      <td>69572</td>\n",
       "      <td>functional</td>\n",
       "    </tr>\n",
       "    <tr>\n",
       "      <th>1</th>\n",
       "      <td>8776</td>\n",
       "      <td>functional</td>\n",
       "    </tr>\n",
       "    <tr>\n",
       "      <th>2</th>\n",
       "      <td>34310</td>\n",
       "      <td>functional</td>\n",
       "    </tr>\n",
       "    <tr>\n",
       "      <th>3</th>\n",
       "      <td>67743</td>\n",
       "      <td>non functional</td>\n",
       "    </tr>\n",
       "    <tr>\n",
       "      <th>4</th>\n",
       "      <td>19728</td>\n",
       "      <td>functional</td>\n",
       "    </tr>\n",
       "  </tbody>\n",
       "</table>\n",
       "</div>"
      ],
      "text/plain": [
       "      id    status_group\n",
       "0  69572      functional\n",
       "1   8776      functional\n",
       "2  34310      functional\n",
       "3  67743  non functional\n",
       "4  19728      functional"
      ]
     },
     "execution_count": 7,
     "metadata": {},
     "output_type": "execute_result"
    }
   ],
   "source": [
    "df_train_labels.head()"
   ]
  },
  {
   "cell_type": "code",
   "execution_count": 8,
   "metadata": {},
   "outputs": [
    {
     "name": "stdout",
     "output_type": "stream",
     "text": [
      "<class 'pandas.core.frame.DataFrame'>\n",
      "RangeIndex: 59400 entries, 0 to 59399\n",
      "Data columns (total 40 columns):\n",
      " #   Column                 Non-Null Count  Dtype  \n",
      "---  ------                 --------------  -----  \n",
      " 0   id                     59400 non-null  int64  \n",
      " 1   amount_tsh             59400 non-null  float64\n",
      " 2   date_recorded          59400 non-null  object \n",
      " 3   funder                 55765 non-null  object \n",
      " 4   gps_height             59400 non-null  int64  \n",
      " 5   installer              55745 non-null  object \n",
      " 6   longitude              59400 non-null  float64\n",
      " 7   latitude               59400 non-null  float64\n",
      " 8   wpt_name               59400 non-null  object \n",
      " 9   num_private            59400 non-null  int64  \n",
      " 10  basin                  59400 non-null  object \n",
      " 11  subvillage             59029 non-null  object \n",
      " 12  region                 59400 non-null  object \n",
      " 13  region_code            59400 non-null  int64  \n",
      " 14  district_code          59400 non-null  int64  \n",
      " 15  lga                    59400 non-null  object \n",
      " 16  ward                   59400 non-null  object \n",
      " 17  population             59400 non-null  int64  \n",
      " 18  public_meeting         56066 non-null  object \n",
      " 19  recorded_by            59400 non-null  object \n",
      " 20  scheme_management      55523 non-null  object \n",
      " 21  scheme_name            31234 non-null  object \n",
      " 22  permit                 56344 non-null  object \n",
      " 23  construction_year      59400 non-null  int64  \n",
      " 24  extraction_type        59400 non-null  object \n",
      " 25  extraction_type_group  59400 non-null  object \n",
      " 26  extraction_type_class  59400 non-null  object \n",
      " 27  management             59400 non-null  object \n",
      " 28  management_group       59400 non-null  object \n",
      " 29  payment                59400 non-null  object \n",
      " 30  payment_type           59400 non-null  object \n",
      " 31  water_quality          59400 non-null  object \n",
      " 32  quality_group          59400 non-null  object \n",
      " 33  quantity               59400 non-null  object \n",
      " 34  quantity_group         59400 non-null  object \n",
      " 35  source                 59400 non-null  object \n",
      " 36  source_type            59400 non-null  object \n",
      " 37  source_class           59400 non-null  object \n",
      " 38  waterpoint_type        59400 non-null  object \n",
      " 39  waterpoint_type_group  59400 non-null  object \n",
      "dtypes: float64(3), int64(7), object(30)\n",
      "memory usage: 18.1+ MB\n"
     ]
    }
   ],
   "source": [
    "df_train.info()"
   ]
  },
  {
   "cell_type": "code",
   "execution_count": 9,
   "metadata": {},
   "outputs": [],
   "source": [
    "# Merging my df_train with my df_train_labels, this will add one column status_group, from the df_train_labels\n",
    "df_train_merged = df_train.merge(df_train_labels, how='outer',\n",
    "               left_on='id',\n",
    "               right_on='id')"
   ]
  },
  {
   "cell_type": "code",
   "execution_count": 10,
   "metadata": {},
   "outputs": [
    {
     "data": {
      "text/plain": [
       "(59400, 41)"
      ]
     },
     "execution_count": 10,
     "metadata": {},
     "output_type": "execute_result"
    }
   ],
   "source": [
    "df_train_merged.shape"
   ]
  },
  {
   "cell_type": "code",
   "execution_count": 11,
   "metadata": {},
   "outputs": [],
   "source": [
    "plotty = df_train_merged['status_group'].value_counts(normalize=True)"
   ]
  },
  {
   "cell_type": "code",
   "execution_count": 12,
   "metadata": {},
   "outputs": [
    {
     "data": {
      "image/png": "[encoded data removed]",
      "text/plain": [
       "<Figure size 432x288 with 1 Axes>"
      ]
     },
     "metadata": {
      "needs_background": "light"
     },
     "output_type": "display_data"
    }
   ],
   "source": [
    "sns.countplot(df_train_merged['status_group']);\n",
    "#plt.savefig('./functional_bar.jpeg',bbox_inches='tight', dpi=200);"
   ]
  },
  {
   "cell_type": "code",
   "execution_count": 13,
   "metadata": {},
   "outputs": [
    {
     "data": {
      "text/plain": [
       "GeoData Consultants Ltd    59400\n",
       "Name: recorded_by, dtype: int64"
      ]
     },
     "execution_count": 13,
     "metadata": {},
     "output_type": "execute_result"
    }
   ],
   "source": [
    "df_train_merged['recorded_by'].value_counts()"
   ]
  },
  {
   "cell_type": "code",
   "execution_count": 14,
   "metadata": {},
   "outputs": [],
   "source": [
    "#Dropped the column recorded_by since all the values were recorded by the same company.  I dropped the id since this \n",
    "# was just a way to identify individual water wells.  I also dropped date_recorded since the date the company recorded\n",
    "# the information on the well is not important.\n",
    "df_train_merged.drop(['id', 'recorded_by', 'date_recorded'], axis=1, inplace=True)"
   ]
  },
  {
   "cell_type": "code",
   "execution_count": 15,
   "metadata": {},
   "outputs": [
    {
     "data": {
      "text/html": [
       "<div>\n",
       "<style scoped>\n",
       "    .dataframe tbody tr th:only-of-type {\n",
       "        vertical-align: middle;\n",
       "    }\n",
       "\n",
       "    .dataframe tbody tr th {\n",
       "        vertical-align: top;\n",
       "    }\n",
       "\n",
       "    .dataframe thead th {\n",
       "        text-align: right;\n",
       "    }\n",
       "</style>\n",
       "<table border=\"1\" class=\"dataframe\">\n",
       "  <thead>\n",
       "    <tr style=\"text-align: right;\">\n",
       "      <th></th>\n",
       "      <th>amount_tsh</th>\n",
       "      <th>funder</th>\n",
       "      <th>gps_height</th>\n",
       "      <th>installer</th>\n",
       "      <th>longitude</th>\n",
       "      <th>latitude</th>\n",
       "      <th>wpt_name</th>\n",
       "      <th>num_private</th>\n",
       "      <th>basin</th>\n",
       "      <th>subvillage</th>\n",
       "      <th>...</th>\n",
       "      <th>water_quality</th>\n",
       "      <th>quality_group</th>\n",
       "      <th>quantity</th>\n",
       "      <th>quantity_group</th>\n",
       "      <th>source</th>\n",
       "      <th>source_type</th>\n",
       "      <th>source_class</th>\n",
       "      <th>waterpoint_type</th>\n",
       "      <th>waterpoint_type_group</th>\n",
       "      <th>status_group</th>\n",
       "    </tr>\n",
       "  </thead>\n",
       "  <tbody>\n",
       "    <tr>\n",
       "      <th>0</th>\n",
       "      <td>6000.0</td>\n",
       "      <td>Roman</td>\n",
       "      <td>1390</td>\n",
       "      <td>Roman</td>\n",
       "      <td>34.938093</td>\n",
       "      <td>-9.856322</td>\n",
       "      <td>none</td>\n",
       "      <td>0</td>\n",
       "      <td>Lake Nyasa</td>\n",
       "      <td>Mnyusi B</td>\n",
       "      <td>...</td>\n",
       "      <td>soft</td>\n",
       "      <td>good</td>\n",
       "      <td>enough</td>\n",
       "      <td>enough</td>\n",
       "      <td>spring</td>\n",
       "      <td>spring</td>\n",
       "      <td>groundwater</td>\n",
       "      <td>communal standpipe</td>\n",
       "      <td>communal standpipe</td>\n",
       "      <td>functional</td>\n",
       "    </tr>\n",
       "    <tr>\n",
       "      <th>1</th>\n",
       "      <td>0.0</td>\n",
       "      <td>Grumeti</td>\n",
       "      <td>1399</td>\n",
       "      <td>GRUMETI</td>\n",
       "      <td>34.698766</td>\n",
       "      <td>-2.147466</td>\n",
       "      <td>Zahanati</td>\n",
       "      <td>0</td>\n",
       "      <td>Lake Victoria</td>\n",
       "      <td>Nyamara</td>\n",
       "      <td>...</td>\n",
       "      <td>soft</td>\n",
       "      <td>good</td>\n",
       "      <td>insufficient</td>\n",
       "      <td>insufficient</td>\n",
       "      <td>rainwater harvesting</td>\n",
       "      <td>rainwater harvesting</td>\n",
       "      <td>surface</td>\n",
       "      <td>communal standpipe</td>\n",
       "      <td>communal standpipe</td>\n",
       "      <td>functional</td>\n",
       "    </tr>\n",
       "    <tr>\n",
       "      <th>2</th>\n",
       "      <td>25.0</td>\n",
       "      <td>Lottery Club</td>\n",
       "      <td>686</td>\n",
       "      <td>World vision</td>\n",
       "      <td>37.460664</td>\n",
       "      <td>-3.821329</td>\n",
       "      <td>Kwa Mahundi</td>\n",
       "      <td>0</td>\n",
       "      <td>Pangani</td>\n",
       "      <td>Majengo</td>\n",
       "      <td>...</td>\n",
       "      <td>soft</td>\n",
       "      <td>good</td>\n",
       "      <td>enough</td>\n",
       "      <td>enough</td>\n",
       "      <td>dam</td>\n",
       "      <td>dam</td>\n",
       "      <td>surface</td>\n",
       "      <td>communal standpipe multiple</td>\n",
       "      <td>communal standpipe</td>\n",
       "      <td>functional</td>\n",
       "    </tr>\n",
       "    <tr>\n",
       "      <th>3</th>\n",
       "      <td>0.0</td>\n",
       "      <td>Unicef</td>\n",
       "      <td>263</td>\n",
       "      <td>UNICEF</td>\n",
       "      <td>38.486161</td>\n",
       "      <td>-11.155298</td>\n",
       "      <td>Zahanati Ya Nanyumbu</td>\n",
       "      <td>0</td>\n",
       "      <td>Ruvuma / Southern Coast</td>\n",
       "      <td>Mahakamani</td>\n",
       "      <td>...</td>\n",
       "      <td>soft</td>\n",
       "      <td>good</td>\n",
       "      <td>dry</td>\n",
       "      <td>dry</td>\n",
       "      <td>machine dbh</td>\n",
       "      <td>borehole</td>\n",
       "      <td>groundwater</td>\n",
       "      <td>communal standpipe multiple</td>\n",
       "      <td>communal standpipe</td>\n",
       "      <td>non functional</td>\n",
       "    </tr>\n",
       "    <tr>\n",
       "      <th>4</th>\n",
       "      <td>0.0</td>\n",
       "      <td>Action In A</td>\n",
       "      <td>0</td>\n",
       "      <td>Artisan</td>\n",
       "      <td>31.130847</td>\n",
       "      <td>-1.825359</td>\n",
       "      <td>Shuleni</td>\n",
       "      <td>0</td>\n",
       "      <td>Lake Victoria</td>\n",
       "      <td>Kyanyamisa</td>\n",
       "      <td>...</td>\n",
       "      <td>soft</td>\n",
       "      <td>good</td>\n",
       "      <td>seasonal</td>\n",
       "      <td>seasonal</td>\n",
       "      <td>rainwater harvesting</td>\n",
       "      <td>rainwater harvesting</td>\n",
       "      <td>surface</td>\n",
       "      <td>communal standpipe</td>\n",
       "      <td>communal standpipe</td>\n",
       "      <td>functional</td>\n",
       "    </tr>\n",
       "    <tr>\n",
       "      <th>...</th>\n",
       "      <td>...</td>\n",
       "      <td>...</td>\n",
       "      <td>...</td>\n",
       "      <td>...</td>\n",
       "      <td>...</td>\n",
       "      <td>...</td>\n",
       "      <td>...</td>\n",
       "      <td>...</td>\n",
       "      <td>...</td>\n",
       "      <td>...</td>\n",
       "      <td>...</td>\n",
       "      <td>...</td>\n",
       "      <td>...</td>\n",
       "      <td>...</td>\n",
       "      <td>...</td>\n",
       "      <td>...</td>\n",
       "      <td>...</td>\n",
       "      <td>...</td>\n",
       "      <td>...</td>\n",
       "      <td>...</td>\n",
       "      <td>...</td>\n",
       "    </tr>\n",
       "    <tr>\n",
       "      <th>59395</th>\n",
       "      <td>10.0</td>\n",
       "      <td>Germany Republi</td>\n",
       "      <td>1210</td>\n",
       "      <td>CES</td>\n",
       "      <td>37.169807</td>\n",
       "      <td>-3.253847</td>\n",
       "      <td>Area Three Namba 27</td>\n",
       "      <td>0</td>\n",
       "      <td>Pangani</td>\n",
       "      <td>Kiduruni</td>\n",
       "      <td>...</td>\n",
       "      <td>soft</td>\n",
       "      <td>good</td>\n",
       "      <td>enough</td>\n",
       "      <td>enough</td>\n",
       "      <td>spring</td>\n",
       "      <td>spring</td>\n",
       "      <td>groundwater</td>\n",
       "      <td>communal standpipe</td>\n",
       "      <td>communal standpipe</td>\n",
       "      <td>functional</td>\n",
       "    </tr>\n",
       "    <tr>\n",
       "      <th>59396</th>\n",
       "      <td>4700.0</td>\n",
       "      <td>Cefa-njombe</td>\n",
       "      <td>1212</td>\n",
       "      <td>Cefa</td>\n",
       "      <td>35.249991</td>\n",
       "      <td>-9.070629</td>\n",
       "      <td>Kwa Yahona Kuvala</td>\n",
       "      <td>0</td>\n",
       "      <td>Rufiji</td>\n",
       "      <td>Igumbilo</td>\n",
       "      <td>...</td>\n",
       "      <td>soft</td>\n",
       "      <td>good</td>\n",
       "      <td>enough</td>\n",
       "      <td>enough</td>\n",
       "      <td>river</td>\n",
       "      <td>river/lake</td>\n",
       "      <td>surface</td>\n",
       "      <td>communal standpipe</td>\n",
       "      <td>communal standpipe</td>\n",
       "      <td>functional</td>\n",
       "    </tr>\n",
       "    <tr>\n",
       "      <th>59397</th>\n",
       "      <td>0.0</td>\n",
       "      <td>NaN</td>\n",
       "      <td>0</td>\n",
       "      <td>NaN</td>\n",
       "      <td>34.017087</td>\n",
       "      <td>-8.750434</td>\n",
       "      <td>Mashine</td>\n",
       "      <td>0</td>\n",
       "      <td>Rufiji</td>\n",
       "      <td>Madungulu</td>\n",
       "      <td>...</td>\n",
       "      <td>fluoride</td>\n",
       "      <td>fluoride</td>\n",
       "      <td>enough</td>\n",
       "      <td>enough</td>\n",
       "      <td>machine dbh</td>\n",
       "      <td>borehole</td>\n",
       "      <td>groundwater</td>\n",
       "      <td>hand pump</td>\n",
       "      <td>hand pump</td>\n",
       "      <td>functional</td>\n",
       "    </tr>\n",
       "    <tr>\n",
       "      <th>59398</th>\n",
       "      <td>0.0</td>\n",
       "      <td>Malec</td>\n",
       "      <td>0</td>\n",
       "      <td>Musa</td>\n",
       "      <td>35.861315</td>\n",
       "      <td>-6.378573</td>\n",
       "      <td>Mshoro</td>\n",
       "      <td>0</td>\n",
       "      <td>Rufiji</td>\n",
       "      <td>Mwinyi</td>\n",
       "      <td>...</td>\n",
       "      <td>soft</td>\n",
       "      <td>good</td>\n",
       "      <td>insufficient</td>\n",
       "      <td>insufficient</td>\n",
       "      <td>shallow well</td>\n",
       "      <td>shallow well</td>\n",
       "      <td>groundwater</td>\n",
       "      <td>hand pump</td>\n",
       "      <td>hand pump</td>\n",
       "      <td>functional</td>\n",
       "    </tr>\n",
       "    <tr>\n",
       "      <th>59399</th>\n",
       "      <td>0.0</td>\n",
       "      <td>World Bank</td>\n",
       "      <td>191</td>\n",
       "      <td>World</td>\n",
       "      <td>38.104048</td>\n",
       "      <td>-6.747464</td>\n",
       "      <td>Kwa Mzee Lugawa</td>\n",
       "      <td>0</td>\n",
       "      <td>Wami / Ruvu</td>\n",
       "      <td>Kikatanyemba</td>\n",
       "      <td>...</td>\n",
       "      <td>salty</td>\n",
       "      <td>salty</td>\n",
       "      <td>enough</td>\n",
       "      <td>enough</td>\n",
       "      <td>shallow well</td>\n",
       "      <td>shallow well</td>\n",
       "      <td>groundwater</td>\n",
       "      <td>hand pump</td>\n",
       "      <td>hand pump</td>\n",
       "      <td>functional</td>\n",
       "    </tr>\n",
       "  </tbody>\n",
       "</table>\n",
       "<p>59400 rows × 38 columns</p>\n",
       "</div>"
      ],
      "text/plain": [
       "       amount_tsh           funder  gps_height     installer  longitude  \\\n",
       "0          6000.0            Roman        1390         Roman  34.938093   \n",
       "1             0.0          Grumeti        1399       GRUMETI  34.698766   \n",
       "2            25.0     Lottery Club         686  World vision  37.460664   \n",
       "3             0.0           Unicef         263        UNICEF  38.486161   \n",
       "4             0.0      Action In A           0       Artisan  31.130847   \n",
       "...           ...              ...         ...           ...        ...   \n",
       "59395        10.0  Germany Republi        1210           CES  37.169807   \n",
       "59396      4700.0      Cefa-njombe        1212          Cefa  35.249991   \n",
       "59397         0.0              NaN           0           NaN  34.017087   \n",
       "59398         0.0            Malec           0          Musa  35.861315   \n",
       "59399         0.0       World Bank         191         World  38.104048   \n",
       "\n",
       "        latitude              wpt_name  num_private                    basin  \\\n",
       "0      -9.856322                  none            0               Lake Nyasa   \n",
       "1      -2.147466              Zahanati            0            Lake Victoria   \n",
       "2      -3.821329           Kwa Mahundi            0                  Pangani   \n",
       "3     -11.155298  Zahanati Ya Nanyumbu            0  Ruvuma / Southern Coast   \n",
       "4      -1.825359               Shuleni            0            Lake Victoria   \n",
       "...          ...                   ...          ...                      ...   \n",
       "59395  -3.253847   Area Three Namba 27            0                  Pangani   \n",
       "59396  -9.070629     Kwa Yahona Kuvala            0                   Rufiji   \n",
       "59397  -8.750434               Mashine            0                   Rufiji   \n",
       "59398  -6.378573                Mshoro            0                   Rufiji   \n",
       "59399  -6.747464       Kwa Mzee Lugawa            0              Wami / Ruvu   \n",
       "\n",
       "         subvillage  ... water_quality  quality_group      quantity  \\\n",
       "0          Mnyusi B  ...          soft           good        enough   \n",
       "1           Nyamara  ...          soft           good  insufficient   \n",
       "2           Majengo  ...          soft           good        enough   \n",
       "3        Mahakamani  ...          soft           good           dry   \n",
       "4        Kyanyamisa  ...          soft           good      seasonal   \n",
       "...             ...  ...           ...            ...           ...   \n",
       "59395      Kiduruni  ...          soft           good        enough   \n",
       "59396      Igumbilo  ...          soft           good        enough   \n",
       "59397     Madungulu  ...      fluoride       fluoride        enough   \n",
       "59398        Mwinyi  ...          soft           good  insufficient   \n",
       "59399  Kikatanyemba  ...         salty          salty        enough   \n",
       "\n",
       "      quantity_group                source           source_type source_class  \\\n",
       "0             enough                spring                spring  groundwater   \n",
       "1       insufficient  rainwater harvesting  rainwater harvesting      surface   \n",
       "2             enough                   dam                   dam      surface   \n",
       "3                dry           machine dbh              borehole  groundwater   \n",
       "4           seasonal  rainwater harvesting  rainwater harvesting      surface   \n",
       "...              ...                   ...                   ...          ...   \n",
       "59395         enough                spring                spring  groundwater   \n",
       "59396         enough                 river            river/lake      surface   \n",
       "59397         enough           machine dbh              borehole  groundwater   \n",
       "59398   insufficient          shallow well          shallow well  groundwater   \n",
       "59399         enough          shallow well          shallow well  groundwater   \n",
       "\n",
       "                   waterpoint_type waterpoint_type_group    status_group  \n",
       "0               communal standpipe    communal standpipe      functional  \n",
       "1               communal standpipe    communal standpipe      functional  \n",
       "2      communal standpipe multiple    communal standpipe      functional  \n",
       "3      communal standpipe multiple    communal standpipe  non functional  \n",
       "4               communal standpipe    communal standpipe      functional  \n",
       "...                            ...                   ...             ...  \n",
       "59395           communal standpipe    communal standpipe      functional  \n",
       "59396           communal standpipe    communal standpipe      functional  \n",
       "59397                    hand pump             hand pump      functional  \n",
       "59398                    hand pump             hand pump      functional  \n",
       "59399                    hand pump             hand pump      functional  \n",
       "\n",
       "[59400 rows x 38 columns]"
      ]
     },
     "execution_count": 15,
     "metadata": {},
     "output_type": "execute_result"
    }
   ],
   "source": [
    "df_train_merged"
   ]
  },
  {
   "cell_type": "code",
   "execution_count": 16,
   "metadata": {},
   "outputs": [],
   "source": [
    "are_they_equal = df_train_merged['quantity'] == df_train_merged['quantity_group']"
   ]
  },
  {
   "cell_type": "code",
   "execution_count": 17,
   "metadata": {},
   "outputs": [
    {
     "data": {
      "text/plain": [
       "59400"
      ]
     },
     "execution_count": 17,
     "metadata": {},
     "output_type": "execute_result"
    }
   ],
   "source": [
    "are_they_equal.sum()"
   ]
  },
  {
   "cell_type": "markdown",
   "metadata": {},
   "source": [
    "I am dropping the quantity_group column since this is an exact replica of the quantity column."
   ]
  },
  {
   "cell_type": "code",
   "execution_count": 18,
   "metadata": {},
   "outputs": [],
   "source": [
    "df_train_merged.drop('quantity_group', axis=1, inplace=True)"
   ]
  },
  {
   "cell_type": "code",
   "execution_count": 19,
   "metadata": {},
   "outputs": [
    {
     "data": {
      "text/html": [
       "<div>\n",
       "<style scoped>\n",
       "    .dataframe tbody tr th:only-of-type {\n",
       "        vertical-align: middle;\n",
       "    }\n",
       "\n",
       "    .dataframe tbody tr th {\n",
       "        vertical-align: top;\n",
       "    }\n",
       "\n",
       "    .dataframe thead th {\n",
       "        text-align: right;\n",
       "    }\n",
       "</style>\n",
       "<table border=\"1\" class=\"dataframe\">\n",
       "  <thead>\n",
       "    <tr style=\"text-align: right;\">\n",
       "      <th></th>\n",
       "      <th>amount_tsh</th>\n",
       "      <th>funder</th>\n",
       "      <th>gps_height</th>\n",
       "      <th>installer</th>\n",
       "      <th>longitude</th>\n",
       "      <th>latitude</th>\n",
       "      <th>wpt_name</th>\n",
       "      <th>num_private</th>\n",
       "      <th>basin</th>\n",
       "      <th>subvillage</th>\n",
       "      <th>...</th>\n",
       "      <th>payment_type</th>\n",
       "      <th>water_quality</th>\n",
       "      <th>quality_group</th>\n",
       "      <th>quantity</th>\n",
       "      <th>source</th>\n",
       "      <th>source_type</th>\n",
       "      <th>source_class</th>\n",
       "      <th>waterpoint_type</th>\n",
       "      <th>waterpoint_type_group</th>\n",
       "      <th>status_group</th>\n",
       "    </tr>\n",
       "  </thead>\n",
       "  <tbody>\n",
       "    <tr>\n",
       "      <th>0</th>\n",
       "      <td>6000.0</td>\n",
       "      <td>Roman</td>\n",
       "      <td>1390</td>\n",
       "      <td>Roman</td>\n",
       "      <td>34.938093</td>\n",
       "      <td>-9.856322</td>\n",
       "      <td>none</td>\n",
       "      <td>0</td>\n",
       "      <td>Lake Nyasa</td>\n",
       "      <td>Mnyusi B</td>\n",
       "      <td>...</td>\n",
       "      <td>annually</td>\n",
       "      <td>soft</td>\n",
       "      <td>good</td>\n",
       "      <td>enough</td>\n",
       "      <td>spring</td>\n",
       "      <td>spring</td>\n",
       "      <td>groundwater</td>\n",
       "      <td>communal standpipe</td>\n",
       "      <td>communal standpipe</td>\n",
       "      <td>functional</td>\n",
       "    </tr>\n",
       "    <tr>\n",
       "      <th>1</th>\n",
       "      <td>0.0</td>\n",
       "      <td>Grumeti</td>\n",
       "      <td>1399</td>\n",
       "      <td>GRUMETI</td>\n",
       "      <td>34.698766</td>\n",
       "      <td>-2.147466</td>\n",
       "      <td>Zahanati</td>\n",
       "      <td>0</td>\n",
       "      <td>Lake Victoria</td>\n",
       "      <td>Nyamara</td>\n",
       "      <td>...</td>\n",
       "      <td>never pay</td>\n",
       "      <td>soft</td>\n",
       "      <td>good</td>\n",
       "      <td>insufficient</td>\n",
       "      <td>rainwater harvesting</td>\n",
       "      <td>rainwater harvesting</td>\n",
       "      <td>surface</td>\n",
       "      <td>communal standpipe</td>\n",
       "      <td>communal standpipe</td>\n",
       "      <td>functional</td>\n",
       "    </tr>\n",
       "    <tr>\n",
       "      <th>2</th>\n",
       "      <td>25.0</td>\n",
       "      <td>Lottery Club</td>\n",
       "      <td>686</td>\n",
       "      <td>World vision</td>\n",
       "      <td>37.460664</td>\n",
       "      <td>-3.821329</td>\n",
       "      <td>Kwa Mahundi</td>\n",
       "      <td>0</td>\n",
       "      <td>Pangani</td>\n",
       "      <td>Majengo</td>\n",
       "      <td>...</td>\n",
       "      <td>per bucket</td>\n",
       "      <td>soft</td>\n",
       "      <td>good</td>\n",
       "      <td>enough</td>\n",
       "      <td>dam</td>\n",
       "      <td>dam</td>\n",
       "      <td>surface</td>\n",
       "      <td>communal standpipe multiple</td>\n",
       "      <td>communal standpipe</td>\n",
       "      <td>functional</td>\n",
       "    </tr>\n",
       "    <tr>\n",
       "      <th>3</th>\n",
       "      <td>0.0</td>\n",
       "      <td>Unicef</td>\n",
       "      <td>263</td>\n",
       "      <td>UNICEF</td>\n",
       "      <td>38.486161</td>\n",
       "      <td>-11.155298</td>\n",
       "      <td>Zahanati Ya Nanyumbu</td>\n",
       "      <td>0</td>\n",
       "      <td>Ruvuma / Southern Coast</td>\n",
       "      <td>Mahakamani</td>\n",
       "      <td>...</td>\n",
       "      <td>never pay</td>\n",
       "      <td>soft</td>\n",
       "      <td>good</td>\n",
       "      <td>dry</td>\n",
       "      <td>machine dbh</td>\n",
       "      <td>borehole</td>\n",
       "      <td>groundwater</td>\n",
       "      <td>communal standpipe multiple</td>\n",
       "      <td>communal standpipe</td>\n",
       "      <td>non functional</td>\n",
       "    </tr>\n",
       "    <tr>\n",
       "      <th>4</th>\n",
       "      <td>0.0</td>\n",
       "      <td>Action In A</td>\n",
       "      <td>0</td>\n",
       "      <td>Artisan</td>\n",
       "      <td>31.130847</td>\n",
       "      <td>-1.825359</td>\n",
       "      <td>Shuleni</td>\n",
       "      <td>0</td>\n",
       "      <td>Lake Victoria</td>\n",
       "      <td>Kyanyamisa</td>\n",
       "      <td>...</td>\n",
       "      <td>never pay</td>\n",
       "      <td>soft</td>\n",
       "      <td>good</td>\n",
       "      <td>seasonal</td>\n",
       "      <td>rainwater harvesting</td>\n",
       "      <td>rainwater harvesting</td>\n",
       "      <td>surface</td>\n",
       "      <td>communal standpipe</td>\n",
       "      <td>communal standpipe</td>\n",
       "      <td>functional</td>\n",
       "    </tr>\n",
       "    <tr>\n",
       "      <th>...</th>\n",
       "      <td>...</td>\n",
       "      <td>...</td>\n",
       "      <td>...</td>\n",
       "      <td>...</td>\n",
       "      <td>...</td>\n",
       "      <td>...</td>\n",
       "      <td>...</td>\n",
       "      <td>...</td>\n",
       "      <td>...</td>\n",
       "      <td>...</td>\n",
       "      <td>...</td>\n",
       "      <td>...</td>\n",
       "      <td>...</td>\n",
       "      <td>...</td>\n",
       "      <td>...</td>\n",
       "      <td>...</td>\n",
       "      <td>...</td>\n",
       "      <td>...</td>\n",
       "      <td>...</td>\n",
       "      <td>...</td>\n",
       "      <td>...</td>\n",
       "    </tr>\n",
       "    <tr>\n",
       "      <th>59395</th>\n",
       "      <td>10.0</td>\n",
       "      <td>Germany Republi</td>\n",
       "      <td>1210</td>\n",
       "      <td>CES</td>\n",
       "      <td>37.169807</td>\n",
       "      <td>-3.253847</td>\n",
       "      <td>Area Three Namba 27</td>\n",
       "      <td>0</td>\n",
       "      <td>Pangani</td>\n",
       "      <td>Kiduruni</td>\n",
       "      <td>...</td>\n",
       "      <td>per bucket</td>\n",
       "      <td>soft</td>\n",
       "      <td>good</td>\n",
       "      <td>enough</td>\n",
       "      <td>spring</td>\n",
       "      <td>spring</td>\n",
       "      <td>groundwater</td>\n",
       "      <td>communal standpipe</td>\n",
       "      <td>communal standpipe</td>\n",
       "      <td>functional</td>\n",
       "    </tr>\n",
       "    <tr>\n",
       "      <th>59396</th>\n",
       "      <td>4700.0</td>\n",
       "      <td>Cefa-njombe</td>\n",
       "      <td>1212</td>\n",
       "      <td>Cefa</td>\n",
       "      <td>35.249991</td>\n",
       "      <td>-9.070629</td>\n",
       "      <td>Kwa Yahona Kuvala</td>\n",
       "      <td>0</td>\n",
       "      <td>Rufiji</td>\n",
       "      <td>Igumbilo</td>\n",
       "      <td>...</td>\n",
       "      <td>annually</td>\n",
       "      <td>soft</td>\n",
       "      <td>good</td>\n",
       "      <td>enough</td>\n",
       "      <td>river</td>\n",
       "      <td>river/lake</td>\n",
       "      <td>surface</td>\n",
       "      <td>communal standpipe</td>\n",
       "      <td>communal standpipe</td>\n",
       "      <td>functional</td>\n",
       "    </tr>\n",
       "    <tr>\n",
       "      <th>59397</th>\n",
       "      <td>0.0</td>\n",
       "      <td>NaN</td>\n",
       "      <td>0</td>\n",
       "      <td>NaN</td>\n",
       "      <td>34.017087</td>\n",
       "      <td>-8.750434</td>\n",
       "      <td>Mashine</td>\n",
       "      <td>0</td>\n",
       "      <td>Rufiji</td>\n",
       "      <td>Madungulu</td>\n",
       "      <td>...</td>\n",
       "      <td>monthly</td>\n",
       "      <td>fluoride</td>\n",
       "      <td>fluoride</td>\n",
       "      <td>enough</td>\n",
       "      <td>machine dbh</td>\n",
       "      <td>borehole</td>\n",
       "      <td>groundwater</td>\n",
       "      <td>hand pump</td>\n",
       "      <td>hand pump</td>\n",
       "      <td>functional</td>\n",
       "    </tr>\n",
       "    <tr>\n",
       "      <th>59398</th>\n",
       "      <td>0.0</td>\n",
       "      <td>Malec</td>\n",
       "      <td>0</td>\n",
       "      <td>Musa</td>\n",
       "      <td>35.861315</td>\n",
       "      <td>-6.378573</td>\n",
       "      <td>Mshoro</td>\n",
       "      <td>0</td>\n",
       "      <td>Rufiji</td>\n",
       "      <td>Mwinyi</td>\n",
       "      <td>...</td>\n",
       "      <td>never pay</td>\n",
       "      <td>soft</td>\n",
       "      <td>good</td>\n",
       "      <td>insufficient</td>\n",
       "      <td>shallow well</td>\n",
       "      <td>shallow well</td>\n",
       "      <td>groundwater</td>\n",
       "      <td>hand pump</td>\n",
       "      <td>hand pump</td>\n",
       "      <td>functional</td>\n",
       "    </tr>\n",
       "    <tr>\n",
       "      <th>59399</th>\n",
       "      <td>0.0</td>\n",
       "      <td>World Bank</td>\n",
       "      <td>191</td>\n",
       "      <td>World</td>\n",
       "      <td>38.104048</td>\n",
       "      <td>-6.747464</td>\n",
       "      <td>Kwa Mzee Lugawa</td>\n",
       "      <td>0</td>\n",
       "      <td>Wami / Ruvu</td>\n",
       "      <td>Kikatanyemba</td>\n",
       "      <td>...</td>\n",
       "      <td>on failure</td>\n",
       "      <td>salty</td>\n",
       "      <td>salty</td>\n",
       "      <td>enough</td>\n",
       "      <td>shallow well</td>\n",
       "      <td>shallow well</td>\n",
       "      <td>groundwater</td>\n",
       "      <td>hand pump</td>\n",
       "      <td>hand pump</td>\n",
       "      <td>functional</td>\n",
       "    </tr>\n",
       "  </tbody>\n",
       "</table>\n",
       "<p>59400 rows × 37 columns</p>\n",
       "</div>"
      ],
      "text/plain": [
       "       amount_tsh           funder  gps_height     installer  longitude  \\\n",
       "0          6000.0            Roman        1390         Roman  34.938093   \n",
       "1             0.0          Grumeti        1399       GRUMETI  34.698766   \n",
       "2            25.0     Lottery Club         686  World vision  37.460664   \n",
       "3             0.0           Unicef         263        UNICEF  38.486161   \n",
       "4             0.0      Action In A           0       Artisan  31.130847   \n",
       "...           ...              ...         ...           ...        ...   \n",
       "59395        10.0  Germany Republi        1210           CES  37.169807   \n",
       "59396      4700.0      Cefa-njombe        1212          Cefa  35.249991   \n",
       "59397         0.0              NaN           0           NaN  34.017087   \n",
       "59398         0.0            Malec           0          Musa  35.861315   \n",
       "59399         0.0       World Bank         191         World  38.104048   \n",
       "\n",
       "        latitude              wpt_name  num_private                    basin  \\\n",
       "0      -9.856322                  none            0               Lake Nyasa   \n",
       "1      -2.147466              Zahanati            0            Lake Victoria   \n",
       "2      -3.821329           Kwa Mahundi            0                  Pangani   \n",
       "3     -11.155298  Zahanati Ya Nanyumbu            0  Ruvuma / Southern Coast   \n",
       "4      -1.825359               Shuleni            0            Lake Victoria   \n",
       "...          ...                   ...          ...                      ...   \n",
       "59395  -3.253847   Area Three Namba 27            0                  Pangani   \n",
       "59396  -9.070629     Kwa Yahona Kuvala            0                   Rufiji   \n",
       "59397  -8.750434               Mashine            0                   Rufiji   \n",
       "59398  -6.378573                Mshoro            0                   Rufiji   \n",
       "59399  -6.747464       Kwa Mzee Lugawa            0              Wami / Ruvu   \n",
       "\n",
       "         subvillage  ... payment_type  water_quality  quality_group  \\\n",
       "0          Mnyusi B  ...     annually           soft           good   \n",
       "1           Nyamara  ...    never pay           soft           good   \n",
       "2           Majengo  ...   per bucket           soft           good   \n",
       "3        Mahakamani  ...    never pay           soft           good   \n",
       "4        Kyanyamisa  ...    never pay           soft           good   \n",
       "...             ...  ...          ...            ...            ...   \n",
       "59395      Kiduruni  ...   per bucket           soft           good   \n",
       "59396      Igumbilo  ...     annually           soft           good   \n",
       "59397     Madungulu  ...      monthly       fluoride       fluoride   \n",
       "59398        Mwinyi  ...    never pay           soft           good   \n",
       "59399  Kikatanyemba  ...   on failure          salty          salty   \n",
       "\n",
       "           quantity                source           source_type source_class  \\\n",
       "0            enough                spring                spring  groundwater   \n",
       "1      insufficient  rainwater harvesting  rainwater harvesting      surface   \n",
       "2            enough                   dam                   dam      surface   \n",
       "3               dry           machine dbh              borehole  groundwater   \n",
       "4          seasonal  rainwater harvesting  rainwater harvesting      surface   \n",
       "...             ...                   ...                   ...          ...   \n",
       "59395        enough                spring                spring  groundwater   \n",
       "59396        enough                 river            river/lake      surface   \n",
       "59397        enough           machine dbh              borehole  groundwater   \n",
       "59398  insufficient          shallow well          shallow well  groundwater   \n",
       "59399        enough          shallow well          shallow well  groundwater   \n",
       "\n",
       "                   waterpoint_type waterpoint_type_group    status_group  \n",
       "0               communal standpipe    communal standpipe      functional  \n",
       "1               communal standpipe    communal standpipe      functional  \n",
       "2      communal standpipe multiple    communal standpipe      functional  \n",
       "3      communal standpipe multiple    communal standpipe  non functional  \n",
       "4               communal standpipe    communal standpipe      functional  \n",
       "...                            ...                   ...             ...  \n",
       "59395           communal standpipe    communal standpipe      functional  \n",
       "59396           communal standpipe    communal standpipe      functional  \n",
       "59397                    hand pump             hand pump      functional  \n",
       "59398                    hand pump             hand pump      functional  \n",
       "59399                    hand pump             hand pump      functional  \n",
       "\n",
       "[59400 rows x 37 columns]"
      ]
     },
     "execution_count": 19,
     "metadata": {},
     "output_type": "execute_result"
    }
   ],
   "source": [
    "df_train_merged"
   ]
  },
  {
   "cell_type": "code",
   "execution_count": 20,
   "metadata": {},
   "outputs": [
    {
     "data": {
      "text/plain": [
       "0      0.987256\n",
       "6      0.001364\n",
       "1      0.001229\n",
       "5      0.000774\n",
       "8      0.000774\n",
       "         ...   \n",
       "180    0.000017\n",
       "213    0.000017\n",
       "23     0.000017\n",
       "55     0.000017\n",
       "94     0.000017\n",
       "Name: num_private, Length: 65, dtype: float64"
      ]
     },
     "execution_count": 20,
     "metadata": {},
     "output_type": "execute_result"
    }
   ],
   "source": [
    "df_train_merged['num_private'].value_counts(normalize=True)"
   ]
  },
  {
   "cell_type": "code",
   "execution_count": 21,
   "metadata": {},
   "outputs": [
    {
     "data": {
      "text/plain": [
       "19288"
      ]
     },
     "execution_count": 21,
     "metadata": {},
     "output_type": "execute_result"
    }
   ],
   "source": [
    "len(df_train_merged['subvillage'].unique())"
   ]
  },
  {
   "cell_type": "markdown",
   "metadata": {},
   "source": [
    "Chose to drop the column num_private, because the data dictionary does not explain what this column means, and almost 99% of the data is a 0, so it will not help predict. I also chose to drop wpt_name because this has over 37,000 unique values and the highest value is none.  I am also dropping subvillage because it has over 19,000 unique values."
   ]
  },
  {
   "cell_type": "code",
   "execution_count": 22,
   "metadata": {},
   "outputs": [],
   "source": [
    "df_train_merged.drop(['wpt_name', 'num_private','subvillage'], axis=1, inplace=True)"
   ]
  },
  {
   "cell_type": "code",
   "execution_count": 23,
   "metadata": {},
   "outputs": [
    {
     "data": {
      "text/plain": [
       "amount_tsh                   0\n",
       "funder                    3635\n",
       "gps_height                   0\n",
       "installer                 3655\n",
       "longitude                    0\n",
       "latitude                     0\n",
       "basin                        0\n",
       "region                       0\n",
       "region_code                  0\n",
       "district_code                0\n",
       "lga                          0\n",
       "ward                         0\n",
       "population                   0\n",
       "public_meeting            3334\n",
       "scheme_management         3877\n",
       "scheme_name              28166\n",
       "permit                    3056\n",
       "construction_year            0\n",
       "extraction_type              0\n",
       "extraction_type_group        0\n",
       "extraction_type_class        0\n",
       "management                   0\n",
       "management_group             0\n",
       "payment                      0\n",
       "payment_type                 0\n",
       "water_quality                0\n",
       "quality_group                0\n",
       "quantity                     0\n",
       "source                       0\n",
       "source_type                  0\n",
       "source_class                 0\n",
       "waterpoint_type              0\n",
       "waterpoint_type_group        0\n",
       "status_group                 0\n",
       "dtype: int64"
      ]
     },
     "execution_count": 23,
     "metadata": {},
     "output_type": "execute_result"
    }
   ],
   "source": [
    "df_train_merged.isna().sum()"
   ]
  },
  {
   "cell_type": "markdown",
   "metadata": {},
   "source": [
    "scheme_name is almost 50% null values, I will need to decide what I want to do with this column, it's possible I just drop this column all together.  The other features that have null values are funder, installer, public_meeting, scheme_management, and permit.  Since these null values are not as frequent I need to find a way to deal with these, like using the mean, or the most frequent value."
   ]
  },
  {
   "cell_type": "code",
   "execution_count": 24,
   "metadata": {},
   "outputs": [
    {
     "data": {
      "text/plain": [
       " 0       0.344074\n",
       "-15      0.001010\n",
       "-16      0.000926\n",
       "-13      0.000926\n",
       "-20      0.000875\n",
       "           ...   \n",
       " 2285    0.000017\n",
       " 2424    0.000017\n",
       " 2552    0.000017\n",
       " 2413    0.000017\n",
       " 2385    0.000017\n",
       "Name: gps_height, Length: 2428, dtype: float64"
      ]
     },
     "execution_count": 24,
     "metadata": {},
     "output_type": "execute_result"
    }
   ],
   "source": [
    "df_train_merged['gps_height'].value_counts(normalize=True)"
   ]
  },
  {
   "cell_type": "code",
   "execution_count": 25,
   "metadata": {},
   "outputs": [
    {
     "data": {
      "text/plain": [
       "0.0         41639\n",
       "500.0        3102\n",
       "50.0         2472\n",
       "1000.0       1488\n",
       "20.0         1463\n",
       "            ...  \n",
       "8500.0          1\n",
       "6300.0          1\n",
       "220.0           1\n",
       "138000.0        1\n",
       "12.0            1\n",
       "Name: amount_tsh, Length: 98, dtype: int64"
      ]
     },
     "execution_count": 25,
     "metadata": {},
     "output_type": "execute_result"
    }
   ],
   "source": [
    "df_train_merged['amount_tsh'].value_counts()"
   ]
  },
  {
   "cell_type": "markdown",
   "metadata": {},
   "source": [
    "It is believable that amount_tsh has a good amount of zeros because open tanks and closed circulation water systems will have aa total static head of zero."
   ]
  },
  {
   "cell_type": "code",
   "execution_count": 26,
   "metadata": {},
   "outputs": [
    {
     "data": {
      "text/plain": [
       "never pay     25348\n",
       "per bucket     8985\n",
       "monthly        8300\n",
       "unknown        8157\n",
       "on failure     3914\n",
       "annually       3642\n",
       "other          1054\n",
       "Name: payment_type, dtype: int64"
      ]
     },
     "execution_count": 26,
     "metadata": {},
     "output_type": "execute_result"
    }
   ],
   "source": [
    "df_train['payment_type'].value_counts()"
   ]
  },
  {
   "cell_type": "code",
   "execution_count": 27,
   "metadata": {},
   "outputs": [
    {
     "name": "stdout",
     "output_type": "stream",
     "text": [
      "<class 'pandas.core.frame.DataFrame'>\n",
      "Int64Index: 59400 entries, 0 to 59399\n",
      "Data columns (total 34 columns):\n",
      " #   Column                 Non-Null Count  Dtype  \n",
      "---  ------                 --------------  -----  \n",
      " 0   amount_tsh             59400 non-null  float64\n",
      " 1   funder                 55765 non-null  object \n",
      " 2   gps_height             59400 non-null  int64  \n",
      " 3   installer              55745 non-null  object \n",
      " 4   longitude              59400 non-null  float64\n",
      " 5   latitude               59400 non-null  float64\n",
      " 6   basin                  59400 non-null  object \n",
      " 7   region                 59400 non-null  object \n",
      " 8   region_code            59400 non-null  int64  \n",
      " 9   district_code          59400 non-null  int64  \n",
      " 10  lga                    59400 non-null  object \n",
      " 11  ward                   59400 non-null  object \n",
      " 12  population             59400 non-null  int64  \n",
      " 13  public_meeting         56066 non-null  object \n",
      " 14  scheme_management      55523 non-null  object \n",
      " 15  scheme_name            31234 non-null  object \n",
      " 16  permit                 56344 non-null  object \n",
      " 17  construction_year      59400 non-null  int64  \n",
      " 18  extraction_type        59400 non-null  object \n",
      " 19  extraction_type_group  59400 non-null  object \n",
      " 20  extraction_type_class  59400 non-null  object \n",
      " 21  management             59400 non-null  object \n",
      " 22  management_group       59400 non-null  object \n",
      " 23  payment                59400 non-null  object \n",
      " 24  payment_type           59400 non-null  object \n",
      " 25  water_quality          59400 non-null  object \n",
      " 26  quality_group          59400 non-null  object \n",
      " 27  quantity               59400 non-null  object \n",
      " 28  source                 59400 non-null  object \n",
      " 29  source_type            59400 non-null  object \n",
      " 30  source_class           59400 non-null  object \n",
      " 31  waterpoint_type        59400 non-null  object \n",
      " 32  waterpoint_type_group  59400 non-null  object \n",
      " 33  status_group           59400 non-null  object \n",
      "dtypes: float64(3), int64(5), object(26)\n",
      "memory usage: 18.4+ MB\n"
     ]
    }
   ],
   "source": [
    "df_train_merged.info()"
   ]
  },
  {
   "cell_type": "markdown",
   "metadata": {},
   "source": [
    "This is way too many unique values to OneHotEncode on, and will probably make my model too overfit so I'm dropping this column"
   ]
  },
  {
   "cell_type": "code",
   "execution_count": 28,
   "metadata": {},
   "outputs": [
    {
     "data": {
      "text/plain": [
       "21"
      ]
     },
     "execution_count": 28,
     "metadata": {},
     "output_type": "execute_result"
    }
   ],
   "source": [
    "len(df_train_merged['region'].unique())"
   ]
  },
  {
   "cell_type": "code",
   "execution_count": 29,
   "metadata": {},
   "outputs": [
    {
     "data": {
      "text/plain": [
       "9"
      ]
     },
     "execution_count": 29,
     "metadata": {},
     "output_type": "execute_result"
    }
   ],
   "source": [
    "len(df_train_merged['basin'].unique())"
   ]
  },
  {
   "cell_type": "code",
   "execution_count": 30,
   "metadata": {},
   "outputs": [
    {
     "data": {
      "text/html": [
       "<div>\n",
       "<style scoped>\n",
       "    .dataframe tbody tr th:only-of-type {\n",
       "        vertical-align: middle;\n",
       "    }\n",
       "\n",
       "    .dataframe tbody tr th {\n",
       "        vertical-align: top;\n",
       "    }\n",
       "\n",
       "    .dataframe thead th {\n",
       "        text-align: right;\n",
       "    }\n",
       "</style>\n",
       "<table border=\"1\" class=\"dataframe\">\n",
       "  <thead>\n",
       "    <tr style=\"text-align: right;\">\n",
       "      <th></th>\n",
       "      <th>amount_tsh</th>\n",
       "      <th>gps_height</th>\n",
       "      <th>longitude</th>\n",
       "      <th>latitude</th>\n",
       "      <th>region_code</th>\n",
       "      <th>district_code</th>\n",
       "      <th>population</th>\n",
       "      <th>construction_year</th>\n",
       "    </tr>\n",
       "  </thead>\n",
       "  <tbody>\n",
       "    <tr>\n",
       "      <th>count</th>\n",
       "      <td>59400.000000</td>\n",
       "      <td>59400.000000</td>\n",
       "      <td>59400.000000</td>\n",
       "      <td>5.940000e+04</td>\n",
       "      <td>59400.000000</td>\n",
       "      <td>59400.000000</td>\n",
       "      <td>59400.000000</td>\n",
       "      <td>59400.000000</td>\n",
       "    </tr>\n",
       "    <tr>\n",
       "      <th>mean</th>\n",
       "      <td>317.650385</td>\n",
       "      <td>668.297239</td>\n",
       "      <td>34.077427</td>\n",
       "      <td>-5.706033e+00</td>\n",
       "      <td>15.297003</td>\n",
       "      <td>5.629747</td>\n",
       "      <td>179.909983</td>\n",
       "      <td>1300.652475</td>\n",
       "    </tr>\n",
       "    <tr>\n",
       "      <th>std</th>\n",
       "      <td>2997.574558</td>\n",
       "      <td>693.116350</td>\n",
       "      <td>6.567432</td>\n",
       "      <td>2.946019e+00</td>\n",
       "      <td>17.587406</td>\n",
       "      <td>9.633649</td>\n",
       "      <td>471.482176</td>\n",
       "      <td>951.620547</td>\n",
       "    </tr>\n",
       "    <tr>\n",
       "      <th>min</th>\n",
       "      <td>0.000000</td>\n",
       "      <td>-90.000000</td>\n",
       "      <td>0.000000</td>\n",
       "      <td>-1.164944e+01</td>\n",
       "      <td>1.000000</td>\n",
       "      <td>0.000000</td>\n",
       "      <td>0.000000</td>\n",
       "      <td>0.000000</td>\n",
       "    </tr>\n",
       "    <tr>\n",
       "      <th>25%</th>\n",
       "      <td>0.000000</td>\n",
       "      <td>0.000000</td>\n",
       "      <td>33.090347</td>\n",
       "      <td>-8.540621e+00</td>\n",
       "      <td>5.000000</td>\n",
       "      <td>2.000000</td>\n",
       "      <td>0.000000</td>\n",
       "      <td>0.000000</td>\n",
       "    </tr>\n",
       "    <tr>\n",
       "      <th>50%</th>\n",
       "      <td>0.000000</td>\n",
       "      <td>369.000000</td>\n",
       "      <td>34.908743</td>\n",
       "      <td>-5.021597e+00</td>\n",
       "      <td>12.000000</td>\n",
       "      <td>3.000000</td>\n",
       "      <td>25.000000</td>\n",
       "      <td>1986.000000</td>\n",
       "    </tr>\n",
       "    <tr>\n",
       "      <th>75%</th>\n",
       "      <td>20.000000</td>\n",
       "      <td>1319.250000</td>\n",
       "      <td>37.178387</td>\n",
       "      <td>-3.326156e+00</td>\n",
       "      <td>17.000000</td>\n",
       "      <td>5.000000</td>\n",
       "      <td>215.000000</td>\n",
       "      <td>2004.000000</td>\n",
       "    </tr>\n",
       "    <tr>\n",
       "      <th>max</th>\n",
       "      <td>350000.000000</td>\n",
       "      <td>2770.000000</td>\n",
       "      <td>40.345193</td>\n",
       "      <td>-2.000000e-08</td>\n",
       "      <td>99.000000</td>\n",
       "      <td>80.000000</td>\n",
       "      <td>30500.000000</td>\n",
       "      <td>2013.000000</td>\n",
       "    </tr>\n",
       "  </tbody>\n",
       "</table>\n",
       "</div>"
      ],
      "text/plain": [
       "          amount_tsh    gps_height     longitude      latitude   region_code  \\\n",
       "count   59400.000000  59400.000000  59400.000000  5.940000e+04  59400.000000   \n",
       "mean      317.650385    668.297239     34.077427 -5.706033e+00     15.297003   \n",
       "std      2997.574558    693.116350      6.567432  2.946019e+00     17.587406   \n",
       "min         0.000000    -90.000000      0.000000 -1.164944e+01      1.000000   \n",
       "25%         0.000000      0.000000     33.090347 -8.540621e+00      5.000000   \n",
       "50%         0.000000    369.000000     34.908743 -5.021597e+00     12.000000   \n",
       "75%        20.000000   1319.250000     37.178387 -3.326156e+00     17.000000   \n",
       "max    350000.000000   2770.000000     40.345193 -2.000000e-08     99.000000   \n",
       "\n",
       "       district_code    population  construction_year  \n",
       "count   59400.000000  59400.000000       59400.000000  \n",
       "mean        5.629747    179.909983        1300.652475  \n",
       "std         9.633649    471.482176         951.620547  \n",
       "min         0.000000      0.000000           0.000000  \n",
       "25%         2.000000      0.000000           0.000000  \n",
       "50%         3.000000     25.000000        1986.000000  \n",
       "75%         5.000000    215.000000        2004.000000  \n",
       "max        80.000000  30500.000000        2013.000000  "
      ]
     },
     "execution_count": 30,
     "metadata": {},
     "output_type": "execute_result"
    }
   ],
   "source": [
    "df_train_merged.describe()"
   ]
  },
  {
   "cell_type": "code",
   "execution_count": 31,
   "metadata": {},
   "outputs": [
    {
     "name": "stdout",
     "output_type": "stream",
     "text": [
      "<class 'pandas.core.frame.DataFrame'>\n",
      "Int64Index: 59400 entries, 0 to 59399\n",
      "Data columns (total 34 columns):\n",
      " #   Column                 Non-Null Count  Dtype  \n",
      "---  ------                 --------------  -----  \n",
      " 0   amount_tsh             59400 non-null  float64\n",
      " 1   funder                 55765 non-null  object \n",
      " 2   gps_height             59400 non-null  int64  \n",
      " 3   installer              55745 non-null  object \n",
      " 4   longitude              59400 non-null  float64\n",
      " 5   latitude               59400 non-null  float64\n",
      " 6   basin                  59400 non-null  object \n",
      " 7   region                 59400 non-null  object \n",
      " 8   region_code            59400 non-null  int64  \n",
      " 9   district_code          59400 non-null  int64  \n",
      " 10  lga                    59400 non-null  object \n",
      " 11  ward                   59400 non-null  object \n",
      " 12  population             59400 non-null  int64  \n",
      " 13  public_meeting         56066 non-null  object \n",
      " 14  scheme_management      55523 non-null  object \n",
      " 15  scheme_name            31234 non-null  object \n",
      " 16  permit                 56344 non-null  object \n",
      " 17  construction_year      59400 non-null  int64  \n",
      " 18  extraction_type        59400 non-null  object \n",
      " 19  extraction_type_group  59400 non-null  object \n",
      " 20  extraction_type_class  59400 non-null  object \n",
      " 21  management             59400 non-null  object \n",
      " 22  management_group       59400 non-null  object \n",
      " 23  payment                59400 non-null  object \n",
      " 24  payment_type           59400 non-null  object \n",
      " 25  water_quality          59400 non-null  object \n",
      " 26  quality_group          59400 non-null  object \n",
      " 27  quantity               59400 non-null  object \n",
      " 28  source                 59400 non-null  object \n",
      " 29  source_type            59400 non-null  object \n",
      " 30  source_class           59400 non-null  object \n",
      " 31  waterpoint_type        59400 non-null  object \n",
      " 32  waterpoint_type_group  59400 non-null  object \n",
      " 33  status_group           59400 non-null  object \n",
      "dtypes: float64(3), int64(5), object(26)\n",
      "memory usage: 18.4+ MB\n"
     ]
    }
   ],
   "source": [
    "df_train_merged.info()"
   ]
  },
  {
   "cell_type": "markdown",
   "metadata": {},
   "source": [
    "I decided to drop scheme_name because of the amount of nulls it has.  Using any type of Imputer would skew this data too much"
   ]
  },
  {
   "cell_type": "code",
   "execution_count": 32,
   "metadata": {},
   "outputs": [],
   "source": [
    "df_train_merged.drop(['scheme_name'], axis=1, inplace=True)"
   ]
  },
  {
   "cell_type": "code",
   "execution_count": 33,
   "metadata": {},
   "outputs": [
    {
     "name": "stdout",
     "output_type": "stream",
     "text": [
      "<class 'pandas.core.frame.DataFrame'>\n",
      "Int64Index: 59400 entries, 0 to 59399\n",
      "Data columns (total 33 columns):\n",
      " #   Column                 Non-Null Count  Dtype  \n",
      "---  ------                 --------------  -----  \n",
      " 0   amount_tsh             59400 non-null  float64\n",
      " 1   funder                 55765 non-null  object \n",
      " 2   gps_height             59400 non-null  int64  \n",
      " 3   installer              55745 non-null  object \n",
      " 4   longitude              59400 non-null  float64\n",
      " 5   latitude               59400 non-null  float64\n",
      " 6   basin                  59400 non-null  object \n",
      " 7   region                 59400 non-null  object \n",
      " 8   region_code            59400 non-null  int64  \n",
      " 9   district_code          59400 non-null  int64  \n",
      " 10  lga                    59400 non-null  object \n",
      " 11  ward                   59400 non-null  object \n",
      " 12  population             59400 non-null  int64  \n",
      " 13  public_meeting         56066 non-null  object \n",
      " 14  scheme_management      55523 non-null  object \n",
      " 15  permit                 56344 non-null  object \n",
      " 16  construction_year      59400 non-null  int64  \n",
      " 17  extraction_type        59400 non-null  object \n",
      " 18  extraction_type_group  59400 non-null  object \n",
      " 19  extraction_type_class  59400 non-null  object \n",
      " 20  management             59400 non-null  object \n",
      " 21  management_group       59400 non-null  object \n",
      " 22  payment                59400 non-null  object \n",
      " 23  payment_type           59400 non-null  object \n",
      " 24  water_quality          59400 non-null  object \n",
      " 25  quality_group          59400 non-null  object \n",
      " 26  quantity               59400 non-null  object \n",
      " 27  source                 59400 non-null  object \n",
      " 28  source_type            59400 non-null  object \n",
      " 29  source_class           59400 non-null  object \n",
      " 30  waterpoint_type        59400 non-null  object \n",
      " 31  waterpoint_type_group  59400 non-null  object \n",
      " 32  status_group           59400 non-null  object \n",
      "dtypes: float64(3), int64(5), object(25)\n",
      "memory usage: 17.9+ MB\n"
     ]
    }
   ],
   "source": [
    "df_train_merged.info()"
   ]
  },
  {
   "cell_type": "code",
   "execution_count": 34,
   "metadata": {},
   "outputs": [
    {
     "data": {
      "text/plain": [
       "1898"
      ]
     },
     "execution_count": 34,
     "metadata": {},
     "output_type": "execute_result"
    }
   ],
   "source": [
    "len(df_train_merged['funder'].unique())"
   ]
  },
  {
   "cell_type": "code",
   "execution_count": 35,
   "metadata": {},
   "outputs": [
    {
     "data": {
      "text/plain": [
       "2146"
      ]
     },
     "execution_count": 35,
     "metadata": {},
     "output_type": "execute_result"
    }
   ],
   "source": [
    "len(df_train_merged['installer'].unique())"
   ]
  },
  {
   "cell_type": "markdown",
   "metadata": {},
   "source": [
    "I am dropping the funder and installer columns because these both have over 1,800 unique values. I am also dropping region because it is covered by region_code."
   ]
  },
  {
   "cell_type": "code",
   "execution_count": 36,
   "metadata": {},
   "outputs": [],
   "source": [
    "df_train_merged.drop(['funder', 'installer', 'region'], axis=1, inplace=True)"
   ]
  },
  {
   "cell_type": "code",
   "execution_count": 37,
   "metadata": {},
   "outputs": [
    {
     "data": {
      "text/plain": [
       "amount_tsh                  0\n",
       "gps_height                  0\n",
       "longitude                   0\n",
       "latitude                    0\n",
       "basin                       0\n",
       "region_code                 0\n",
       "district_code               0\n",
       "lga                         0\n",
       "ward                        0\n",
       "population                  0\n",
       "public_meeting           3334\n",
       "scheme_management        3877\n",
       "permit                   3056\n",
       "construction_year           0\n",
       "extraction_type             0\n",
       "extraction_type_group       0\n",
       "extraction_type_class       0\n",
       "management                  0\n",
       "management_group            0\n",
       "payment                     0\n",
       "payment_type                0\n",
       "water_quality               0\n",
       "quality_group               0\n",
       "quantity                    0\n",
       "source                      0\n",
       "source_type                 0\n",
       "source_class                0\n",
       "waterpoint_type             0\n",
       "waterpoint_type_group       0\n",
       "status_group                0\n",
       "dtype: int64"
      ]
     },
     "execution_count": 37,
     "metadata": {},
     "output_type": "execute_result"
    }
   ],
   "source": [
    "df_train_merged.isna().sum()"
   ]
  },
  {
   "cell_type": "markdown",
   "metadata": {},
   "source": [
    "I now only have 3 columns with null values, public_meeting, scheme_management, and permit."
   ]
  },
  {
   "cell_type": "code",
   "execution_count": 38,
   "metadata": {},
   "outputs": [
    {
     "name": "stdout",
     "output_type": "stream",
     "text": [
      "<class 'pandas.core.frame.DataFrame'>\n",
      "Int64Index: 59400 entries, 0 to 59399\n",
      "Data columns (total 30 columns):\n",
      " #   Column                 Non-Null Count  Dtype  \n",
      "---  ------                 --------------  -----  \n",
      " 0   amount_tsh             59400 non-null  float64\n",
      " 1   gps_height             59400 non-null  int64  \n",
      " 2   longitude              59400 non-null  float64\n",
      " 3   latitude               59400 non-null  float64\n",
      " 4   basin                  59400 non-null  object \n",
      " 5   region_code            59400 non-null  int64  \n",
      " 6   district_code          59400 non-null  int64  \n",
      " 7   lga                    59400 non-null  object \n",
      " 8   ward                   59400 non-null  object \n",
      " 9   population             59400 non-null  int64  \n",
      " 10  public_meeting         56066 non-null  object \n",
      " 11  scheme_management      55523 non-null  object \n",
      " 12  permit                 56344 non-null  object \n",
      " 13  construction_year      59400 non-null  int64  \n",
      " 14  extraction_type        59400 non-null  object \n",
      " 15  extraction_type_group  59400 non-null  object \n",
      " 16  extraction_type_class  59400 non-null  object \n",
      " 17  management             59400 non-null  object \n",
      " 18  management_group       59400 non-null  object \n",
      " 19  payment                59400 non-null  object \n",
      " 20  payment_type           59400 non-null  object \n",
      " 21  water_quality          59400 non-null  object \n",
      " 22  quality_group          59400 non-null  object \n",
      " 23  quantity               59400 non-null  object \n",
      " 24  source                 59400 non-null  object \n",
      " 25  source_type            59400 non-null  object \n",
      " 26  source_class           59400 non-null  object \n",
      " 27  waterpoint_type        59400 non-null  object \n",
      " 28  waterpoint_type_group  59400 non-null  object \n",
      " 29  status_group           59400 non-null  object \n",
      "dtypes: float64(3), int64(5), object(22)\n",
      "memory usage: 16.5+ MB\n"
     ]
    }
   ],
   "source": [
    "df_train_merged.info()"
   ]
  },
  {
   "cell_type": "code",
   "execution_count": 39,
   "metadata": {},
   "outputs": [
    {
     "data": {
      "text/plain": [
       "VWC                 36793\n",
       "WUG                  5206\n",
       "Water authority      3153\n",
       "WUA                  2883\n",
       "Water Board          2748\n",
       "Parastatal           1680\n",
       "Private operator     1063\n",
       "Company              1061\n",
       "Other                 766\n",
       "SWC                    97\n",
       "Trust                  72\n",
       "None                    1\n",
       "Name: scheme_management, dtype: int64"
      ]
     },
     "execution_count": 39,
     "metadata": {},
     "output_type": "execute_result"
    }
   ],
   "source": [
    "df_train_merged['scheme_management'].value_counts()"
   ]
  },
  {
   "cell_type": "code",
   "execution_count": 40,
   "metadata": {},
   "outputs": [
    {
     "data": {
      "text/plain": [
       "350000.0"
      ]
     },
     "execution_count": 40,
     "metadata": {},
     "output_type": "execute_result"
    }
   ],
   "source": [
    "df_train_merged['amount_tsh'].max()"
   ]
  },
  {
   "cell_type": "markdown",
   "metadata": {},
   "source": [
    "I realized that there some impossible outliers in the amount_tsh column.  There is no chance of a water well have 350,000 meters of total static head. I decided to drop any values that were greater than 2,500 meters."
   ]
  },
  {
   "cell_type": "code",
   "execution_count": 41,
   "metadata": {
    "scrolled": true
   },
   "outputs": [],
   "source": [
    "mask = df_train_merged['amount_tsh'] < 2500"
   ]
  },
  {
   "cell_type": "code",
   "execution_count": 42,
   "metadata": {},
   "outputs": [
    {
     "data": {
      "text/plain": [
       "0        False\n",
       "1         True\n",
       "2         True\n",
       "3         True\n",
       "4         True\n",
       "         ...  \n",
       "59395     True\n",
       "59396    False\n",
       "59397     True\n",
       "59398     True\n",
       "59399     True\n",
       "Name: amount_tsh, Length: 59400, dtype: bool"
      ]
     },
     "execution_count": 42,
     "metadata": {},
     "output_type": "execute_result"
    }
   ],
   "source": [
    "mask"
   ]
  },
  {
   "cell_type": "code",
   "execution_count": 43,
   "metadata": {},
   "outputs": [],
   "source": [
    "df_train_merged = df_train_merged[mask]"
   ]
  },
  {
   "cell_type": "code",
   "execution_count": 44,
   "metadata": {},
   "outputs": [
    {
     "data": {
      "text/html": [
       "<div>\n",
       "<style scoped>\n",
       "    .dataframe tbody tr th:only-of-type {\n",
       "        vertical-align: middle;\n",
       "    }\n",
       "\n",
       "    .dataframe tbody tr th {\n",
       "        vertical-align: top;\n",
       "    }\n",
       "\n",
       "    .dataframe thead th {\n",
       "        text-align: right;\n",
       "    }\n",
       "</style>\n",
       "<table border=\"1\" class=\"dataframe\">\n",
       "  <thead>\n",
       "    <tr style=\"text-align: right;\">\n",
       "      <th></th>\n",
       "      <th>amount_tsh</th>\n",
       "      <th>gps_height</th>\n",
       "      <th>longitude</th>\n",
       "      <th>latitude</th>\n",
       "      <th>basin</th>\n",
       "      <th>region_code</th>\n",
       "      <th>district_code</th>\n",
       "      <th>lga</th>\n",
       "      <th>ward</th>\n",
       "      <th>population</th>\n",
       "      <th>...</th>\n",
       "      <th>payment_type</th>\n",
       "      <th>water_quality</th>\n",
       "      <th>quality_group</th>\n",
       "      <th>quantity</th>\n",
       "      <th>source</th>\n",
       "      <th>source_type</th>\n",
       "      <th>source_class</th>\n",
       "      <th>waterpoint_type</th>\n",
       "      <th>waterpoint_type_group</th>\n",
       "      <th>status_group</th>\n",
       "    </tr>\n",
       "  </thead>\n",
       "  <tbody>\n",
       "    <tr>\n",
       "      <th>1</th>\n",
       "      <td>0.0</td>\n",
       "      <td>1399</td>\n",
       "      <td>34.698766</td>\n",
       "      <td>-2.147466</td>\n",
       "      <td>Lake Victoria</td>\n",
       "      <td>20</td>\n",
       "      <td>2</td>\n",
       "      <td>Serengeti</td>\n",
       "      <td>Natta</td>\n",
       "      <td>280</td>\n",
       "      <td>...</td>\n",
       "      <td>never pay</td>\n",
       "      <td>soft</td>\n",
       "      <td>good</td>\n",
       "      <td>insufficient</td>\n",
       "      <td>rainwater harvesting</td>\n",
       "      <td>rainwater harvesting</td>\n",
       "      <td>surface</td>\n",
       "      <td>communal standpipe</td>\n",
       "      <td>communal standpipe</td>\n",
       "      <td>functional</td>\n",
       "    </tr>\n",
       "    <tr>\n",
       "      <th>2</th>\n",
       "      <td>25.0</td>\n",
       "      <td>686</td>\n",
       "      <td>37.460664</td>\n",
       "      <td>-3.821329</td>\n",
       "      <td>Pangani</td>\n",
       "      <td>21</td>\n",
       "      <td>4</td>\n",
       "      <td>Simanjiro</td>\n",
       "      <td>Ngorika</td>\n",
       "      <td>250</td>\n",
       "      <td>...</td>\n",
       "      <td>per bucket</td>\n",
       "      <td>soft</td>\n",
       "      <td>good</td>\n",
       "      <td>enough</td>\n",
       "      <td>dam</td>\n",
       "      <td>dam</td>\n",
       "      <td>surface</td>\n",
       "      <td>communal standpipe multiple</td>\n",
       "      <td>communal standpipe</td>\n",
       "      <td>functional</td>\n",
       "    </tr>\n",
       "    <tr>\n",
       "      <th>3</th>\n",
       "      <td>0.0</td>\n",
       "      <td>263</td>\n",
       "      <td>38.486161</td>\n",
       "      <td>-11.155298</td>\n",
       "      <td>Ruvuma / Southern Coast</td>\n",
       "      <td>90</td>\n",
       "      <td>63</td>\n",
       "      <td>Nanyumbu</td>\n",
       "      <td>Nanyumbu</td>\n",
       "      <td>58</td>\n",
       "      <td>...</td>\n",
       "      <td>never pay</td>\n",
       "      <td>soft</td>\n",
       "      <td>good</td>\n",
       "      <td>dry</td>\n",
       "      <td>machine dbh</td>\n",
       "      <td>borehole</td>\n",
       "      <td>groundwater</td>\n",
       "      <td>communal standpipe multiple</td>\n",
       "      <td>communal standpipe</td>\n",
       "      <td>non functional</td>\n",
       "    </tr>\n",
       "    <tr>\n",
       "      <th>4</th>\n",
       "      <td>0.0</td>\n",
       "      <td>0</td>\n",
       "      <td>31.130847</td>\n",
       "      <td>-1.825359</td>\n",
       "      <td>Lake Victoria</td>\n",
       "      <td>18</td>\n",
       "      <td>1</td>\n",
       "      <td>Karagwe</td>\n",
       "      <td>Nyakasimbi</td>\n",
       "      <td>0</td>\n",
       "      <td>...</td>\n",
       "      <td>never pay</td>\n",
       "      <td>soft</td>\n",
       "      <td>good</td>\n",
       "      <td>seasonal</td>\n",
       "      <td>rainwater harvesting</td>\n",
       "      <td>rainwater harvesting</td>\n",
       "      <td>surface</td>\n",
       "      <td>communal standpipe</td>\n",
       "      <td>communal standpipe</td>\n",
       "      <td>functional</td>\n",
       "    </tr>\n",
       "    <tr>\n",
       "      <th>5</th>\n",
       "      <td>20.0</td>\n",
       "      <td>0</td>\n",
       "      <td>39.172796</td>\n",
       "      <td>-4.765587</td>\n",
       "      <td>Pangani</td>\n",
       "      <td>4</td>\n",
       "      <td>8</td>\n",
       "      <td>Mkinga</td>\n",
       "      <td>Moa</td>\n",
       "      <td>1</td>\n",
       "      <td>...</td>\n",
       "      <td>per bucket</td>\n",
       "      <td>salty</td>\n",
       "      <td>salty</td>\n",
       "      <td>enough</td>\n",
       "      <td>other</td>\n",
       "      <td>other</td>\n",
       "      <td>unknown</td>\n",
       "      <td>communal standpipe multiple</td>\n",
       "      <td>communal standpipe</td>\n",
       "      <td>functional</td>\n",
       "    </tr>\n",
       "    <tr>\n",
       "      <th>...</th>\n",
       "      <td>...</td>\n",
       "      <td>...</td>\n",
       "      <td>...</td>\n",
       "      <td>...</td>\n",
       "      <td>...</td>\n",
       "      <td>...</td>\n",
       "      <td>...</td>\n",
       "      <td>...</td>\n",
       "      <td>...</td>\n",
       "      <td>...</td>\n",
       "      <td>...</td>\n",
       "      <td>...</td>\n",
       "      <td>...</td>\n",
       "      <td>...</td>\n",
       "      <td>...</td>\n",
       "      <td>...</td>\n",
       "      <td>...</td>\n",
       "      <td>...</td>\n",
       "      <td>...</td>\n",
       "      <td>...</td>\n",
       "      <td>...</td>\n",
       "    </tr>\n",
       "    <tr>\n",
       "      <th>59394</th>\n",
       "      <td>500.0</td>\n",
       "      <td>351</td>\n",
       "      <td>37.634053</td>\n",
       "      <td>-6.124830</td>\n",
       "      <td>Wami / Ruvu</td>\n",
       "      <td>5</td>\n",
       "      <td>6</td>\n",
       "      <td>Mvomero</td>\n",
       "      <td>Diongoya</td>\n",
       "      <td>89</td>\n",
       "      <td>...</td>\n",
       "      <td>monthly</td>\n",
       "      <td>soft</td>\n",
       "      <td>good</td>\n",
       "      <td>enough</td>\n",
       "      <td>machine dbh</td>\n",
       "      <td>borehole</td>\n",
       "      <td>groundwater</td>\n",
       "      <td>communal standpipe</td>\n",
       "      <td>communal standpipe</td>\n",
       "      <td>non functional</td>\n",
       "    </tr>\n",
       "    <tr>\n",
       "      <th>59395</th>\n",
       "      <td>10.0</td>\n",
       "      <td>1210</td>\n",
       "      <td>37.169807</td>\n",
       "      <td>-3.253847</td>\n",
       "      <td>Pangani</td>\n",
       "      <td>3</td>\n",
       "      <td>5</td>\n",
       "      <td>Hai</td>\n",
       "      <td>Masama Magharibi</td>\n",
       "      <td>125</td>\n",
       "      <td>...</td>\n",
       "      <td>per bucket</td>\n",
       "      <td>soft</td>\n",
       "      <td>good</td>\n",
       "      <td>enough</td>\n",
       "      <td>spring</td>\n",
       "      <td>spring</td>\n",
       "      <td>groundwater</td>\n",
       "      <td>communal standpipe</td>\n",
       "      <td>communal standpipe</td>\n",
       "      <td>functional</td>\n",
       "    </tr>\n",
       "    <tr>\n",
       "      <th>59397</th>\n",
       "      <td>0.0</td>\n",
       "      <td>0</td>\n",
       "      <td>34.017087</td>\n",
       "      <td>-8.750434</td>\n",
       "      <td>Rufiji</td>\n",
       "      <td>12</td>\n",
       "      <td>7</td>\n",
       "      <td>Mbarali</td>\n",
       "      <td>Chimala</td>\n",
       "      <td>0</td>\n",
       "      <td>...</td>\n",
       "      <td>monthly</td>\n",
       "      <td>fluoride</td>\n",
       "      <td>fluoride</td>\n",
       "      <td>enough</td>\n",
       "      <td>machine dbh</td>\n",
       "      <td>borehole</td>\n",
       "      <td>groundwater</td>\n",
       "      <td>hand pump</td>\n",
       "      <td>hand pump</td>\n",
       "      <td>functional</td>\n",
       "    </tr>\n",
       "    <tr>\n",
       "      <th>59398</th>\n",
       "      <td>0.0</td>\n",
       "      <td>0</td>\n",
       "      <td>35.861315</td>\n",
       "      <td>-6.378573</td>\n",
       "      <td>Rufiji</td>\n",
       "      <td>1</td>\n",
       "      <td>4</td>\n",
       "      <td>Chamwino</td>\n",
       "      <td>Mvumi Makulu</td>\n",
       "      <td>0</td>\n",
       "      <td>...</td>\n",
       "      <td>never pay</td>\n",
       "      <td>soft</td>\n",
       "      <td>good</td>\n",
       "      <td>insufficient</td>\n",
       "      <td>shallow well</td>\n",
       "      <td>shallow well</td>\n",
       "      <td>groundwater</td>\n",
       "      <td>hand pump</td>\n",
       "      <td>hand pump</td>\n",
       "      <td>functional</td>\n",
       "    </tr>\n",
       "    <tr>\n",
       "      <th>59399</th>\n",
       "      <td>0.0</td>\n",
       "      <td>191</td>\n",
       "      <td>38.104048</td>\n",
       "      <td>-6.747464</td>\n",
       "      <td>Wami / Ruvu</td>\n",
       "      <td>5</td>\n",
       "      <td>2</td>\n",
       "      <td>Morogoro Rural</td>\n",
       "      <td>Ngerengere</td>\n",
       "      <td>150</td>\n",
       "      <td>...</td>\n",
       "      <td>on failure</td>\n",
       "      <td>salty</td>\n",
       "      <td>salty</td>\n",
       "      <td>enough</td>\n",
       "      <td>shallow well</td>\n",
       "      <td>shallow well</td>\n",
       "      <td>groundwater</td>\n",
       "      <td>hand pump</td>\n",
       "      <td>hand pump</td>\n",
       "      <td>functional</td>\n",
       "    </tr>\n",
       "  </tbody>\n",
       "</table>\n",
       "<p>57765 rows × 30 columns</p>\n",
       "</div>"
      ],
      "text/plain": [
       "       amount_tsh  gps_height  longitude   latitude                    basin  \\\n",
       "1             0.0        1399  34.698766  -2.147466            Lake Victoria   \n",
       "2            25.0         686  37.460664  -3.821329                  Pangani   \n",
       "3             0.0         263  38.486161 -11.155298  Ruvuma / Southern Coast   \n",
       "4             0.0           0  31.130847  -1.825359            Lake Victoria   \n",
       "5            20.0           0  39.172796  -4.765587                  Pangani   \n",
       "...           ...         ...        ...        ...                      ...   \n",
       "59394       500.0         351  37.634053  -6.124830              Wami / Ruvu   \n",
       "59395        10.0        1210  37.169807  -3.253847                  Pangani   \n",
       "59397         0.0           0  34.017087  -8.750434                   Rufiji   \n",
       "59398         0.0           0  35.861315  -6.378573                   Rufiji   \n",
       "59399         0.0         191  38.104048  -6.747464              Wami / Ruvu   \n",
       "\n",
       "       region_code  district_code             lga              ward  \\\n",
       "1               20              2       Serengeti             Natta   \n",
       "2               21              4       Simanjiro           Ngorika   \n",
       "3               90             63        Nanyumbu          Nanyumbu   \n",
       "4               18              1         Karagwe        Nyakasimbi   \n",
       "5                4              8          Mkinga               Moa   \n",
       "...            ...            ...             ...               ...   \n",
       "59394            5              6         Mvomero          Diongoya   \n",
       "59395            3              5             Hai  Masama Magharibi   \n",
       "59397           12              7         Mbarali           Chimala   \n",
       "59398            1              4        Chamwino      Mvumi Makulu   \n",
       "59399            5              2  Morogoro Rural        Ngerengere   \n",
       "\n",
       "       population  ... payment_type water_quality quality_group      quantity  \\\n",
       "1             280  ...    never pay          soft          good  insufficient   \n",
       "2             250  ...   per bucket          soft          good        enough   \n",
       "3              58  ...    never pay          soft          good           dry   \n",
       "4               0  ...    never pay          soft          good      seasonal   \n",
       "5               1  ...   per bucket         salty         salty        enough   \n",
       "...           ...  ...          ...           ...           ...           ...   \n",
       "59394          89  ...      monthly          soft          good        enough   \n",
       "59395         125  ...   per bucket          soft          good        enough   \n",
       "59397           0  ...      monthly      fluoride      fluoride        enough   \n",
       "59398           0  ...    never pay          soft          good  insufficient   \n",
       "59399         150  ...   on failure         salty         salty        enough   \n",
       "\n",
       "                     source           source_type source_class  \\\n",
       "1      rainwater harvesting  rainwater harvesting      surface   \n",
       "2                       dam                   dam      surface   \n",
       "3               machine dbh              borehole  groundwater   \n",
       "4      rainwater harvesting  rainwater harvesting      surface   \n",
       "5                     other                 other      unknown   \n",
       "...                     ...                   ...          ...   \n",
       "59394           machine dbh              borehole  groundwater   \n",
       "59395                spring                spring  groundwater   \n",
       "59397           machine dbh              borehole  groundwater   \n",
       "59398          shallow well          shallow well  groundwater   \n",
       "59399          shallow well          shallow well  groundwater   \n",
       "\n",
       "                   waterpoint_type waterpoint_type_group    status_group  \n",
       "1               communal standpipe    communal standpipe      functional  \n",
       "2      communal standpipe multiple    communal standpipe      functional  \n",
       "3      communal standpipe multiple    communal standpipe  non functional  \n",
       "4               communal standpipe    communal standpipe      functional  \n",
       "5      communal standpipe multiple    communal standpipe      functional  \n",
       "...                            ...                   ...             ...  \n",
       "59394           communal standpipe    communal standpipe  non functional  \n",
       "59395           communal standpipe    communal standpipe      functional  \n",
       "59397                    hand pump             hand pump      functional  \n",
       "59398                    hand pump             hand pump      functional  \n",
       "59399                    hand pump             hand pump      functional  \n",
       "\n",
       "[57765 rows x 30 columns]"
      ]
     },
     "execution_count": 44,
     "metadata": {},
     "output_type": "execute_result"
    }
   ],
   "source": [
    "df_train_merged"
   ]
  },
  {
   "cell_type": "code",
   "execution_count": 45,
   "metadata": {},
   "outputs": [
    {
     "data": {
      "text/plain": [
       "count    57765.000000\n",
       "mean       113.281967\n",
       "std        334.144676\n",
       "min          0.000000\n",
       "25%          0.000000\n",
       "50%          0.000000\n",
       "75%         20.000000\n",
       "max       2400.000000\n",
       "Name: amount_tsh, dtype: float64"
      ]
     },
     "execution_count": 45,
     "metadata": {},
     "output_type": "execute_result"
    }
   ],
   "source": [
    "df_train_merged['amount_tsh'].describe()"
   ]
  },
  {
   "cell_type": "code",
   "execution_count": 46,
   "metadata": {},
   "outputs": [
    {
     "data": {
      "text/plain": [
       "1     0.0\n",
       "2    25.0\n",
       "3     0.0\n",
       "4     0.0\n",
       "5    20.0\n",
       "Name: amount_tsh, dtype: float64"
      ]
     },
     "execution_count": 46,
     "metadata": {},
     "output_type": "execute_result"
    }
   ],
   "source": [
    "df_train_merged['amount_tsh'].head()"
   ]
  },
  {
   "cell_type": "markdown",
   "metadata": {},
   "source": [
    "I decided that this question would have better predictions if I dropped the data where the status group was equal to functional needs repair.  I also felt like it was hard to understand how good or bad of shape these wells are in. "
   ]
  },
  {
   "cell_type": "code",
   "execution_count": 47,
   "metadata": {},
   "outputs": [],
   "source": [
    "mask2 = df_train_merged['status_group']!= \"functional needs repair\""
   ]
  },
  {
   "cell_type": "code",
   "execution_count": 48,
   "metadata": {},
   "outputs": [],
   "source": [
    "df_train_merged = df_train_merged[mask2]"
   ]
  },
  {
   "cell_type": "code",
   "execution_count": 49,
   "metadata": {},
   "outputs": [
    {
     "data": {
      "text/plain": [
       "53563"
      ]
     },
     "execution_count": 49,
     "metadata": {},
     "output_type": "execute_result"
    }
   ],
   "source": [
    "df_train_merged['status_group'].value_counts().sum()"
   ]
  },
  {
   "cell_type": "code",
   "execution_count": 50,
   "metadata": {},
   "outputs": [
    {
     "data": {
      "text/html": [
       "<div>\n",
       "<style scoped>\n",
       "    .dataframe tbody tr th:only-of-type {\n",
       "        vertical-align: middle;\n",
       "    }\n",
       "\n",
       "    .dataframe tbody tr th {\n",
       "        vertical-align: top;\n",
       "    }\n",
       "\n",
       "    .dataframe thead th {\n",
       "        text-align: right;\n",
       "    }\n",
       "</style>\n",
       "<table border=\"1\" class=\"dataframe\">\n",
       "  <thead>\n",
       "    <tr style=\"text-align: right;\">\n",
       "      <th></th>\n",
       "      <th>amount_tsh</th>\n",
       "      <th>gps_height</th>\n",
       "      <th>longitude</th>\n",
       "      <th>latitude</th>\n",
       "      <th>basin</th>\n",
       "      <th>region_code</th>\n",
       "      <th>district_code</th>\n",
       "      <th>lga</th>\n",
       "      <th>ward</th>\n",
       "      <th>population</th>\n",
       "      <th>...</th>\n",
       "      <th>payment_type</th>\n",
       "      <th>water_quality</th>\n",
       "      <th>quality_group</th>\n",
       "      <th>quantity</th>\n",
       "      <th>source</th>\n",
       "      <th>source_type</th>\n",
       "      <th>source_class</th>\n",
       "      <th>waterpoint_type</th>\n",
       "      <th>waterpoint_type_group</th>\n",
       "      <th>status_group</th>\n",
       "    </tr>\n",
       "  </thead>\n",
       "  <tbody>\n",
       "    <tr>\n",
       "      <th>1</th>\n",
       "      <td>0.0</td>\n",
       "      <td>1399</td>\n",
       "      <td>34.698766</td>\n",
       "      <td>-2.147466</td>\n",
       "      <td>Lake Victoria</td>\n",
       "      <td>20</td>\n",
       "      <td>2</td>\n",
       "      <td>Serengeti</td>\n",
       "      <td>Natta</td>\n",
       "      <td>280</td>\n",
       "      <td>...</td>\n",
       "      <td>never pay</td>\n",
       "      <td>soft</td>\n",
       "      <td>good</td>\n",
       "      <td>insufficient</td>\n",
       "      <td>rainwater harvesting</td>\n",
       "      <td>rainwater harvesting</td>\n",
       "      <td>surface</td>\n",
       "      <td>communal standpipe</td>\n",
       "      <td>communal standpipe</td>\n",
       "      <td>functional</td>\n",
       "    </tr>\n",
       "    <tr>\n",
       "      <th>2</th>\n",
       "      <td>25.0</td>\n",
       "      <td>686</td>\n",
       "      <td>37.460664</td>\n",
       "      <td>-3.821329</td>\n",
       "      <td>Pangani</td>\n",
       "      <td>21</td>\n",
       "      <td>4</td>\n",
       "      <td>Simanjiro</td>\n",
       "      <td>Ngorika</td>\n",
       "      <td>250</td>\n",
       "      <td>...</td>\n",
       "      <td>per bucket</td>\n",
       "      <td>soft</td>\n",
       "      <td>good</td>\n",
       "      <td>enough</td>\n",
       "      <td>dam</td>\n",
       "      <td>dam</td>\n",
       "      <td>surface</td>\n",
       "      <td>communal standpipe multiple</td>\n",
       "      <td>communal standpipe</td>\n",
       "      <td>functional</td>\n",
       "    </tr>\n",
       "    <tr>\n",
       "      <th>3</th>\n",
       "      <td>0.0</td>\n",
       "      <td>263</td>\n",
       "      <td>38.486161</td>\n",
       "      <td>-11.155298</td>\n",
       "      <td>Ruvuma / Southern Coast</td>\n",
       "      <td>90</td>\n",
       "      <td>63</td>\n",
       "      <td>Nanyumbu</td>\n",
       "      <td>Nanyumbu</td>\n",
       "      <td>58</td>\n",
       "      <td>...</td>\n",
       "      <td>never pay</td>\n",
       "      <td>soft</td>\n",
       "      <td>good</td>\n",
       "      <td>dry</td>\n",
       "      <td>machine dbh</td>\n",
       "      <td>borehole</td>\n",
       "      <td>groundwater</td>\n",
       "      <td>communal standpipe multiple</td>\n",
       "      <td>communal standpipe</td>\n",
       "      <td>non functional</td>\n",
       "    </tr>\n",
       "    <tr>\n",
       "      <th>4</th>\n",
       "      <td>0.0</td>\n",
       "      <td>0</td>\n",
       "      <td>31.130847</td>\n",
       "      <td>-1.825359</td>\n",
       "      <td>Lake Victoria</td>\n",
       "      <td>18</td>\n",
       "      <td>1</td>\n",
       "      <td>Karagwe</td>\n",
       "      <td>Nyakasimbi</td>\n",
       "      <td>0</td>\n",
       "      <td>...</td>\n",
       "      <td>never pay</td>\n",
       "      <td>soft</td>\n",
       "      <td>good</td>\n",
       "      <td>seasonal</td>\n",
       "      <td>rainwater harvesting</td>\n",
       "      <td>rainwater harvesting</td>\n",
       "      <td>surface</td>\n",
       "      <td>communal standpipe</td>\n",
       "      <td>communal standpipe</td>\n",
       "      <td>functional</td>\n",
       "    </tr>\n",
       "    <tr>\n",
       "      <th>5</th>\n",
       "      <td>20.0</td>\n",
       "      <td>0</td>\n",
       "      <td>39.172796</td>\n",
       "      <td>-4.765587</td>\n",
       "      <td>Pangani</td>\n",
       "      <td>4</td>\n",
       "      <td>8</td>\n",
       "      <td>Mkinga</td>\n",
       "      <td>Moa</td>\n",
       "      <td>1</td>\n",
       "      <td>...</td>\n",
       "      <td>per bucket</td>\n",
       "      <td>salty</td>\n",
       "      <td>salty</td>\n",
       "      <td>enough</td>\n",
       "      <td>other</td>\n",
       "      <td>other</td>\n",
       "      <td>unknown</td>\n",
       "      <td>communal standpipe multiple</td>\n",
       "      <td>communal standpipe</td>\n",
       "      <td>functional</td>\n",
       "    </tr>\n",
       "    <tr>\n",
       "      <th>...</th>\n",
       "      <td>...</td>\n",
       "      <td>...</td>\n",
       "      <td>...</td>\n",
       "      <td>...</td>\n",
       "      <td>...</td>\n",
       "      <td>...</td>\n",
       "      <td>...</td>\n",
       "      <td>...</td>\n",
       "      <td>...</td>\n",
       "      <td>...</td>\n",
       "      <td>...</td>\n",
       "      <td>...</td>\n",
       "      <td>...</td>\n",
       "      <td>...</td>\n",
       "      <td>...</td>\n",
       "      <td>...</td>\n",
       "      <td>...</td>\n",
       "      <td>...</td>\n",
       "      <td>...</td>\n",
       "      <td>...</td>\n",
       "      <td>...</td>\n",
       "    </tr>\n",
       "    <tr>\n",
       "      <th>59394</th>\n",
       "      <td>500.0</td>\n",
       "      <td>351</td>\n",
       "      <td>37.634053</td>\n",
       "      <td>-6.124830</td>\n",
       "      <td>Wami / Ruvu</td>\n",
       "      <td>5</td>\n",
       "      <td>6</td>\n",
       "      <td>Mvomero</td>\n",
       "      <td>Diongoya</td>\n",
       "      <td>89</td>\n",
       "      <td>...</td>\n",
       "      <td>monthly</td>\n",
       "      <td>soft</td>\n",
       "      <td>good</td>\n",
       "      <td>enough</td>\n",
       "      <td>machine dbh</td>\n",
       "      <td>borehole</td>\n",
       "      <td>groundwater</td>\n",
       "      <td>communal standpipe</td>\n",
       "      <td>communal standpipe</td>\n",
       "      <td>non functional</td>\n",
       "    </tr>\n",
       "    <tr>\n",
       "      <th>59395</th>\n",
       "      <td>10.0</td>\n",
       "      <td>1210</td>\n",
       "      <td>37.169807</td>\n",
       "      <td>-3.253847</td>\n",
       "      <td>Pangani</td>\n",
       "      <td>3</td>\n",
       "      <td>5</td>\n",
       "      <td>Hai</td>\n",
       "      <td>Masama Magharibi</td>\n",
       "      <td>125</td>\n",
       "      <td>...</td>\n",
       "      <td>per bucket</td>\n",
       "      <td>soft</td>\n",
       "      <td>good</td>\n",
       "      <td>enough</td>\n",
       "      <td>spring</td>\n",
       "      <td>spring</td>\n",
       "      <td>groundwater</td>\n",
       "      <td>communal standpipe</td>\n",
       "      <td>communal standpipe</td>\n",
       "      <td>functional</td>\n",
       "    </tr>\n",
       "    <tr>\n",
       "      <th>59397</th>\n",
       "      <td>0.0</td>\n",
       "      <td>0</td>\n",
       "      <td>34.017087</td>\n",
       "      <td>-8.750434</td>\n",
       "      <td>Rufiji</td>\n",
       "      <td>12</td>\n",
       "      <td>7</td>\n",
       "      <td>Mbarali</td>\n",
       "      <td>Chimala</td>\n",
       "      <td>0</td>\n",
       "      <td>...</td>\n",
       "      <td>monthly</td>\n",
       "      <td>fluoride</td>\n",
       "      <td>fluoride</td>\n",
       "      <td>enough</td>\n",
       "      <td>machine dbh</td>\n",
       "      <td>borehole</td>\n",
       "      <td>groundwater</td>\n",
       "      <td>hand pump</td>\n",
       "      <td>hand pump</td>\n",
       "      <td>functional</td>\n",
       "    </tr>\n",
       "    <tr>\n",
       "      <th>59398</th>\n",
       "      <td>0.0</td>\n",
       "      <td>0</td>\n",
       "      <td>35.861315</td>\n",
       "      <td>-6.378573</td>\n",
       "      <td>Rufiji</td>\n",
       "      <td>1</td>\n",
       "      <td>4</td>\n",
       "      <td>Chamwino</td>\n",
       "      <td>Mvumi Makulu</td>\n",
       "      <td>0</td>\n",
       "      <td>...</td>\n",
       "      <td>never pay</td>\n",
       "      <td>soft</td>\n",
       "      <td>good</td>\n",
       "      <td>insufficient</td>\n",
       "      <td>shallow well</td>\n",
       "      <td>shallow well</td>\n",
       "      <td>groundwater</td>\n",
       "      <td>hand pump</td>\n",
       "      <td>hand pump</td>\n",
       "      <td>functional</td>\n",
       "    </tr>\n",
       "    <tr>\n",
       "      <th>59399</th>\n",
       "      <td>0.0</td>\n",
       "      <td>191</td>\n",
       "      <td>38.104048</td>\n",
       "      <td>-6.747464</td>\n",
       "      <td>Wami / Ruvu</td>\n",
       "      <td>5</td>\n",
       "      <td>2</td>\n",
       "      <td>Morogoro Rural</td>\n",
       "      <td>Ngerengere</td>\n",
       "      <td>150</td>\n",
       "      <td>...</td>\n",
       "      <td>on failure</td>\n",
       "      <td>salty</td>\n",
       "      <td>salty</td>\n",
       "      <td>enough</td>\n",
       "      <td>shallow well</td>\n",
       "      <td>shallow well</td>\n",
       "      <td>groundwater</td>\n",
       "      <td>hand pump</td>\n",
       "      <td>hand pump</td>\n",
       "      <td>functional</td>\n",
       "    </tr>\n",
       "  </tbody>\n",
       "</table>\n",
       "<p>53563 rows × 30 columns</p>\n",
       "</div>"
      ],
      "text/plain": [
       "       amount_tsh  gps_height  longitude   latitude                    basin  \\\n",
       "1             0.0        1399  34.698766  -2.147466            Lake Victoria   \n",
       "2            25.0         686  37.460664  -3.821329                  Pangani   \n",
       "3             0.0         263  38.486161 -11.155298  Ruvuma / Southern Coast   \n",
       "4             0.0           0  31.130847  -1.825359            Lake Victoria   \n",
       "5            20.0           0  39.172796  -4.765587                  Pangani   \n",
       "...           ...         ...        ...        ...                      ...   \n",
       "59394       500.0         351  37.634053  -6.124830              Wami / Ruvu   \n",
       "59395        10.0        1210  37.169807  -3.253847                  Pangani   \n",
       "59397         0.0           0  34.017087  -8.750434                   Rufiji   \n",
       "59398         0.0           0  35.861315  -6.378573                   Rufiji   \n",
       "59399         0.0         191  38.104048  -6.747464              Wami / Ruvu   \n",
       "\n",
       "       region_code  district_code             lga              ward  \\\n",
       "1               20              2       Serengeti             Natta   \n",
       "2               21              4       Simanjiro           Ngorika   \n",
       "3               90             63        Nanyumbu          Nanyumbu   \n",
       "4               18              1         Karagwe        Nyakasimbi   \n",
       "5                4              8          Mkinga               Moa   \n",
       "...            ...            ...             ...               ...   \n",
       "59394            5              6         Mvomero          Diongoya   \n",
       "59395            3              5             Hai  Masama Magharibi   \n",
       "59397           12              7         Mbarali           Chimala   \n",
       "59398            1              4        Chamwino      Mvumi Makulu   \n",
       "59399            5              2  Morogoro Rural        Ngerengere   \n",
       "\n",
       "       population  ... payment_type water_quality quality_group      quantity  \\\n",
       "1             280  ...    never pay          soft          good  insufficient   \n",
       "2             250  ...   per bucket          soft          good        enough   \n",
       "3              58  ...    never pay          soft          good           dry   \n",
       "4               0  ...    never pay          soft          good      seasonal   \n",
       "5               1  ...   per bucket         salty         salty        enough   \n",
       "...           ...  ...          ...           ...           ...           ...   \n",
       "59394          89  ...      monthly          soft          good        enough   \n",
       "59395         125  ...   per bucket          soft          good        enough   \n",
       "59397           0  ...      monthly      fluoride      fluoride        enough   \n",
       "59398           0  ...    never pay          soft          good  insufficient   \n",
       "59399         150  ...   on failure         salty         salty        enough   \n",
       "\n",
       "                     source           source_type source_class  \\\n",
       "1      rainwater harvesting  rainwater harvesting      surface   \n",
       "2                       dam                   dam      surface   \n",
       "3               machine dbh              borehole  groundwater   \n",
       "4      rainwater harvesting  rainwater harvesting      surface   \n",
       "5                     other                 other      unknown   \n",
       "...                     ...                   ...          ...   \n",
       "59394           machine dbh              borehole  groundwater   \n",
       "59395                spring                spring  groundwater   \n",
       "59397           machine dbh              borehole  groundwater   \n",
       "59398          shallow well          shallow well  groundwater   \n",
       "59399          shallow well          shallow well  groundwater   \n",
       "\n",
       "                   waterpoint_type waterpoint_type_group    status_group  \n",
       "1               communal standpipe    communal standpipe      functional  \n",
       "2      communal standpipe multiple    communal standpipe      functional  \n",
       "3      communal standpipe multiple    communal standpipe  non functional  \n",
       "4               communal standpipe    communal standpipe      functional  \n",
       "5      communal standpipe multiple    communal standpipe      functional  \n",
       "...                            ...                   ...             ...  \n",
       "59394           communal standpipe    communal standpipe  non functional  \n",
       "59395           communal standpipe    communal standpipe      functional  \n",
       "59397                    hand pump             hand pump      functional  \n",
       "59398                    hand pump             hand pump      functional  \n",
       "59399                    hand pump             hand pump      functional  \n",
       "\n",
       "[53563 rows x 30 columns]"
      ]
     },
     "execution_count": 50,
     "metadata": {},
     "output_type": "execute_result"
    }
   ],
   "source": [
    "df_train_merged"
   ]
  },
  {
   "cell_type": "markdown",
   "metadata": {},
   "source": [
    "I decided to create a new column called status and this column would put a 0 for non functional water wells and a 1 for functional water wells.  This new column will be my y in my test train split."
   ]
  },
  {
   "cell_type": "code",
   "execution_count": 51,
   "metadata": {
    "scrolled": true
   },
   "outputs": [
    {
     "name": "stderr",
     "output_type": "stream",
     "text": [
      "<ipython-input-51-dea2175edc95>:1: SettingWithCopyWarning: \n",
      "A value is trying to be set on a copy of a slice from a DataFrame.\n",
      "Try using .loc[row_indexer,col_indexer] = value instead\n",
      "\n",
      "See the caveats in the documentation: https://pandas.pydata.org/pandas-docs/stable/user_guide/indexing.html#returning-a-view-versus-a-copy\n",
      "  df_train_merged['status'] = df_train_merged.status_group.map({\"non functional\":0, \"functional\":1})\n"
     ]
    }
   ],
   "source": [
    "df_train_merged['status'] = df_train_merged.status_group.map({\"non functional\":0, \"functional\":1})"
   ]
  },
  {
   "cell_type": "code",
   "execution_count": 52,
   "metadata": {},
   "outputs": [
    {
     "data": {
      "text/html": [
       "<div>\n",
       "<style scoped>\n",
       "    .dataframe tbody tr th:only-of-type {\n",
       "        vertical-align: middle;\n",
       "    }\n",
       "\n",
       "    .dataframe tbody tr th {\n",
       "        vertical-align: top;\n",
       "    }\n",
       "\n",
       "    .dataframe thead th {\n",
       "        text-align: right;\n",
       "    }\n",
       "</style>\n",
       "<table border=\"1\" class=\"dataframe\">\n",
       "  <thead>\n",
       "    <tr style=\"text-align: right;\">\n",
       "      <th></th>\n",
       "      <th>amount_tsh</th>\n",
       "      <th>gps_height</th>\n",
       "      <th>longitude</th>\n",
       "      <th>latitude</th>\n",
       "      <th>basin</th>\n",
       "      <th>region_code</th>\n",
       "      <th>district_code</th>\n",
       "      <th>lga</th>\n",
       "      <th>ward</th>\n",
       "      <th>population</th>\n",
       "      <th>...</th>\n",
       "      <th>water_quality</th>\n",
       "      <th>quality_group</th>\n",
       "      <th>quantity</th>\n",
       "      <th>source</th>\n",
       "      <th>source_type</th>\n",
       "      <th>source_class</th>\n",
       "      <th>waterpoint_type</th>\n",
       "      <th>waterpoint_type_group</th>\n",
       "      <th>status_group</th>\n",
       "      <th>status</th>\n",
       "    </tr>\n",
       "  </thead>\n",
       "  <tbody>\n",
       "    <tr>\n",
       "      <th>1</th>\n",
       "      <td>0.0</td>\n",
       "      <td>1399</td>\n",
       "      <td>34.698766</td>\n",
       "      <td>-2.147466</td>\n",
       "      <td>Lake Victoria</td>\n",
       "      <td>20</td>\n",
       "      <td>2</td>\n",
       "      <td>Serengeti</td>\n",
       "      <td>Natta</td>\n",
       "      <td>280</td>\n",
       "      <td>...</td>\n",
       "      <td>soft</td>\n",
       "      <td>good</td>\n",
       "      <td>insufficient</td>\n",
       "      <td>rainwater harvesting</td>\n",
       "      <td>rainwater harvesting</td>\n",
       "      <td>surface</td>\n",
       "      <td>communal standpipe</td>\n",
       "      <td>communal standpipe</td>\n",
       "      <td>functional</td>\n",
       "      <td>1</td>\n",
       "    </tr>\n",
       "    <tr>\n",
       "      <th>2</th>\n",
       "      <td>25.0</td>\n",
       "      <td>686</td>\n",
       "      <td>37.460664</td>\n",
       "      <td>-3.821329</td>\n",
       "      <td>Pangani</td>\n",
       "      <td>21</td>\n",
       "      <td>4</td>\n",
       "      <td>Simanjiro</td>\n",
       "      <td>Ngorika</td>\n",
       "      <td>250</td>\n",
       "      <td>...</td>\n",
       "      <td>soft</td>\n",
       "      <td>good</td>\n",
       "      <td>enough</td>\n",
       "      <td>dam</td>\n",
       "      <td>dam</td>\n",
       "      <td>surface</td>\n",
       "      <td>communal standpipe multiple</td>\n",
       "      <td>communal standpipe</td>\n",
       "      <td>functional</td>\n",
       "      <td>1</td>\n",
       "    </tr>\n",
       "    <tr>\n",
       "      <th>3</th>\n",
       "      <td>0.0</td>\n",
       "      <td>263</td>\n",
       "      <td>38.486161</td>\n",
       "      <td>-11.155298</td>\n",
       "      <td>Ruvuma / Southern Coast</td>\n",
       "      <td>90</td>\n",
       "      <td>63</td>\n",
       "      <td>Nanyumbu</td>\n",
       "      <td>Nanyumbu</td>\n",
       "      <td>58</td>\n",
       "      <td>...</td>\n",
       "      <td>soft</td>\n",
       "      <td>good</td>\n",
       "      <td>dry</td>\n",
       "      <td>machine dbh</td>\n",
       "      <td>borehole</td>\n",
       "      <td>groundwater</td>\n",
       "      <td>communal standpipe multiple</td>\n",
       "      <td>communal standpipe</td>\n",
       "      <td>non functional</td>\n",
       "      <td>0</td>\n",
       "    </tr>\n",
       "    <tr>\n",
       "      <th>4</th>\n",
       "      <td>0.0</td>\n",
       "      <td>0</td>\n",
       "      <td>31.130847</td>\n",
       "      <td>-1.825359</td>\n",
       "      <td>Lake Victoria</td>\n",
       "      <td>18</td>\n",
       "      <td>1</td>\n",
       "      <td>Karagwe</td>\n",
       "      <td>Nyakasimbi</td>\n",
       "      <td>0</td>\n",
       "      <td>...</td>\n",
       "      <td>soft</td>\n",
       "      <td>good</td>\n",
       "      <td>seasonal</td>\n",
       "      <td>rainwater harvesting</td>\n",
       "      <td>rainwater harvesting</td>\n",
       "      <td>surface</td>\n",
       "      <td>communal standpipe</td>\n",
       "      <td>communal standpipe</td>\n",
       "      <td>functional</td>\n",
       "      <td>1</td>\n",
       "    </tr>\n",
       "    <tr>\n",
       "      <th>5</th>\n",
       "      <td>20.0</td>\n",
       "      <td>0</td>\n",
       "      <td>39.172796</td>\n",
       "      <td>-4.765587</td>\n",
       "      <td>Pangani</td>\n",
       "      <td>4</td>\n",
       "      <td>8</td>\n",
       "      <td>Mkinga</td>\n",
       "      <td>Moa</td>\n",
       "      <td>1</td>\n",
       "      <td>...</td>\n",
       "      <td>salty</td>\n",
       "      <td>salty</td>\n",
       "      <td>enough</td>\n",
       "      <td>other</td>\n",
       "      <td>other</td>\n",
       "      <td>unknown</td>\n",
       "      <td>communal standpipe multiple</td>\n",
       "      <td>communal standpipe</td>\n",
       "      <td>functional</td>\n",
       "      <td>1</td>\n",
       "    </tr>\n",
       "    <tr>\n",
       "      <th>...</th>\n",
       "      <td>...</td>\n",
       "      <td>...</td>\n",
       "      <td>...</td>\n",
       "      <td>...</td>\n",
       "      <td>...</td>\n",
       "      <td>...</td>\n",
       "      <td>...</td>\n",
       "      <td>...</td>\n",
       "      <td>...</td>\n",
       "      <td>...</td>\n",
       "      <td>...</td>\n",
       "      <td>...</td>\n",
       "      <td>...</td>\n",
       "      <td>...</td>\n",
       "      <td>...</td>\n",
       "      <td>...</td>\n",
       "      <td>...</td>\n",
       "      <td>...</td>\n",
       "      <td>...</td>\n",
       "      <td>...</td>\n",
       "      <td>...</td>\n",
       "    </tr>\n",
       "    <tr>\n",
       "      <th>59394</th>\n",
       "      <td>500.0</td>\n",
       "      <td>351</td>\n",
       "      <td>37.634053</td>\n",
       "      <td>-6.124830</td>\n",
       "      <td>Wami / Ruvu</td>\n",
       "      <td>5</td>\n",
       "      <td>6</td>\n",
       "      <td>Mvomero</td>\n",
       "      <td>Diongoya</td>\n",
       "      <td>89</td>\n",
       "      <td>...</td>\n",
       "      <td>soft</td>\n",
       "      <td>good</td>\n",
       "      <td>enough</td>\n",
       "      <td>machine dbh</td>\n",
       "      <td>borehole</td>\n",
       "      <td>groundwater</td>\n",
       "      <td>communal standpipe</td>\n",
       "      <td>communal standpipe</td>\n",
       "      <td>non functional</td>\n",
       "      <td>0</td>\n",
       "    </tr>\n",
       "    <tr>\n",
       "      <th>59395</th>\n",
       "      <td>10.0</td>\n",
       "      <td>1210</td>\n",
       "      <td>37.169807</td>\n",
       "      <td>-3.253847</td>\n",
       "      <td>Pangani</td>\n",
       "      <td>3</td>\n",
       "      <td>5</td>\n",
       "      <td>Hai</td>\n",
       "      <td>Masama Magharibi</td>\n",
       "      <td>125</td>\n",
       "      <td>...</td>\n",
       "      <td>soft</td>\n",
       "      <td>good</td>\n",
       "      <td>enough</td>\n",
       "      <td>spring</td>\n",
       "      <td>spring</td>\n",
       "      <td>groundwater</td>\n",
       "      <td>communal standpipe</td>\n",
       "      <td>communal standpipe</td>\n",
       "      <td>functional</td>\n",
       "      <td>1</td>\n",
       "    </tr>\n",
       "    <tr>\n",
       "      <th>59397</th>\n",
       "      <td>0.0</td>\n",
       "      <td>0</td>\n",
       "      <td>34.017087</td>\n",
       "      <td>-8.750434</td>\n",
       "      <td>Rufiji</td>\n",
       "      <td>12</td>\n",
       "      <td>7</td>\n",
       "      <td>Mbarali</td>\n",
       "      <td>Chimala</td>\n",
       "      <td>0</td>\n",
       "      <td>...</td>\n",
       "      <td>fluoride</td>\n",
       "      <td>fluoride</td>\n",
       "      <td>enough</td>\n",
       "      <td>machine dbh</td>\n",
       "      <td>borehole</td>\n",
       "      <td>groundwater</td>\n",
       "      <td>hand pump</td>\n",
       "      <td>hand pump</td>\n",
       "      <td>functional</td>\n",
       "      <td>1</td>\n",
       "    </tr>\n",
       "    <tr>\n",
       "      <th>59398</th>\n",
       "      <td>0.0</td>\n",
       "      <td>0</td>\n",
       "      <td>35.861315</td>\n",
       "      <td>-6.378573</td>\n",
       "      <td>Rufiji</td>\n",
       "      <td>1</td>\n",
       "      <td>4</td>\n",
       "      <td>Chamwino</td>\n",
       "      <td>Mvumi Makulu</td>\n",
       "      <td>0</td>\n",
       "      <td>...</td>\n",
       "      <td>soft</td>\n",
       "      <td>good</td>\n",
       "      <td>insufficient</td>\n",
       "      <td>shallow well</td>\n",
       "      <td>shallow well</td>\n",
       "      <td>groundwater</td>\n",
       "      <td>hand pump</td>\n",
       "      <td>hand pump</td>\n",
       "      <td>functional</td>\n",
       "      <td>1</td>\n",
       "    </tr>\n",
       "    <tr>\n",
       "      <th>59399</th>\n",
       "      <td>0.0</td>\n",
       "      <td>191</td>\n",
       "      <td>38.104048</td>\n",
       "      <td>-6.747464</td>\n",
       "      <td>Wami / Ruvu</td>\n",
       "      <td>5</td>\n",
       "      <td>2</td>\n",
       "      <td>Morogoro Rural</td>\n",
       "      <td>Ngerengere</td>\n",
       "      <td>150</td>\n",
       "      <td>...</td>\n",
       "      <td>salty</td>\n",
       "      <td>salty</td>\n",
       "      <td>enough</td>\n",
       "      <td>shallow well</td>\n",
       "      <td>shallow well</td>\n",
       "      <td>groundwater</td>\n",
       "      <td>hand pump</td>\n",
       "      <td>hand pump</td>\n",
       "      <td>functional</td>\n",
       "      <td>1</td>\n",
       "    </tr>\n",
       "  </tbody>\n",
       "</table>\n",
       "<p>53563 rows × 31 columns</p>\n",
       "</div>"
      ],
      "text/plain": [
       "       amount_tsh  gps_height  longitude   latitude                    basin  \\\n",
       "1             0.0        1399  34.698766  -2.147466            Lake Victoria   \n",
       "2            25.0         686  37.460664  -3.821329                  Pangani   \n",
       "3             0.0         263  38.486161 -11.155298  Ruvuma / Southern Coast   \n",
       "4             0.0           0  31.130847  -1.825359            Lake Victoria   \n",
       "5            20.0           0  39.172796  -4.765587                  Pangani   \n",
       "...           ...         ...        ...        ...                      ...   \n",
       "59394       500.0         351  37.634053  -6.124830              Wami / Ruvu   \n",
       "59395        10.0        1210  37.169807  -3.253847                  Pangani   \n",
       "59397         0.0           0  34.017087  -8.750434                   Rufiji   \n",
       "59398         0.0           0  35.861315  -6.378573                   Rufiji   \n",
       "59399         0.0         191  38.104048  -6.747464              Wami / Ruvu   \n",
       "\n",
       "       region_code  district_code             lga              ward  \\\n",
       "1               20              2       Serengeti             Natta   \n",
       "2               21              4       Simanjiro           Ngorika   \n",
       "3               90             63        Nanyumbu          Nanyumbu   \n",
       "4               18              1         Karagwe        Nyakasimbi   \n",
       "5                4              8          Mkinga               Moa   \n",
       "...            ...            ...             ...               ...   \n",
       "59394            5              6         Mvomero          Diongoya   \n",
       "59395            3              5             Hai  Masama Magharibi   \n",
       "59397           12              7         Mbarali           Chimala   \n",
       "59398            1              4        Chamwino      Mvumi Makulu   \n",
       "59399            5              2  Morogoro Rural        Ngerengere   \n",
       "\n",
       "       population  ... water_quality quality_group      quantity  \\\n",
       "1             280  ...          soft          good  insufficient   \n",
       "2             250  ...          soft          good        enough   \n",
       "3              58  ...          soft          good           dry   \n",
       "4               0  ...          soft          good      seasonal   \n",
       "5               1  ...         salty         salty        enough   \n",
       "...           ...  ...           ...           ...           ...   \n",
       "59394          89  ...          soft          good        enough   \n",
       "59395         125  ...          soft          good        enough   \n",
       "59397           0  ...      fluoride      fluoride        enough   \n",
       "59398           0  ...          soft          good  insufficient   \n",
       "59399         150  ...         salty         salty        enough   \n",
       "\n",
       "                     source           source_type source_class  \\\n",
       "1      rainwater harvesting  rainwater harvesting      surface   \n",
       "2                       dam                   dam      surface   \n",
       "3               machine dbh              borehole  groundwater   \n",
       "4      rainwater harvesting  rainwater harvesting      surface   \n",
       "5                     other                 other      unknown   \n",
       "...                     ...                   ...          ...   \n",
       "59394           machine dbh              borehole  groundwater   \n",
       "59395                spring                spring  groundwater   \n",
       "59397           machine dbh              borehole  groundwater   \n",
       "59398          shallow well          shallow well  groundwater   \n",
       "59399          shallow well          shallow well  groundwater   \n",
       "\n",
       "                   waterpoint_type waterpoint_type_group    status_group  \\\n",
       "1               communal standpipe    communal standpipe      functional   \n",
       "2      communal standpipe multiple    communal standpipe      functional   \n",
       "3      communal standpipe multiple    communal standpipe  non functional   \n",
       "4               communal standpipe    communal standpipe      functional   \n",
       "5      communal standpipe multiple    communal standpipe      functional   \n",
       "...                            ...                   ...             ...   \n",
       "59394           communal standpipe    communal standpipe  non functional   \n",
       "59395           communal standpipe    communal standpipe      functional   \n",
       "59397                    hand pump             hand pump      functional   \n",
       "59398                    hand pump             hand pump      functional   \n",
       "59399                    hand pump             hand pump      functional   \n",
       "\n",
       "      status  \n",
       "1          1  \n",
       "2          1  \n",
       "3          0  \n",
       "4          1  \n",
       "5          1  \n",
       "...      ...  \n",
       "59394      0  \n",
       "59395      1  \n",
       "59397      1  \n",
       "59398      1  \n",
       "59399      1  \n",
       "\n",
       "[53563 rows x 31 columns]"
      ]
     },
     "execution_count": 52,
     "metadata": {},
     "output_type": "execute_result"
    }
   ],
   "source": [
    "df_train_merged"
   ]
  },
  {
   "cell_type": "code",
   "execution_count": 53,
   "metadata": {},
   "outputs": [
    {
     "data": {
      "text/plain": [
       "communal standpipe    30583\n",
       "hand pump             16110\n",
       "other                  6065\n",
       "improved spring         684\n",
       "cattle trough           114\n",
       "dam                       7\n",
       "Name: waterpoint_type_group, dtype: int64"
      ]
     },
     "execution_count": 53,
     "metadata": {},
     "output_type": "execute_result"
    }
   ],
   "source": [
    "df_train_merged['waterpoint_type_group'].value_counts()"
   ]
  },
  {
   "cell_type": "code",
   "execution_count": 54,
   "metadata": {},
   "outputs": [
    {
     "data": {
      "text/plain": [
       "functional        0.578832\n",
       "non functional    0.421168\n",
       "Name: status_group, dtype: float64"
      ]
     },
     "execution_count": 54,
     "metadata": {},
     "output_type": "execute_result"
    }
   ],
   "source": [
    "df_train_merged['status_group'].value_counts(normalize=True)"
   ]
  },
  {
   "cell_type": "code",
   "execution_count": 55,
   "metadata": {},
   "outputs": [
    {
     "data": {
      "text/plain": [
       "amount_tsh                  0\n",
       "gps_height                  0\n",
       "longitude                   0\n",
       "latitude                    0\n",
       "basin                       0\n",
       "region_code                 0\n",
       "district_code               0\n",
       "lga                         0\n",
       "ward                        0\n",
       "population                  0\n",
       "public_meeting           3168\n",
       "scheme_management        3643\n",
       "permit                   2734\n",
       "construction_year           0\n",
       "extraction_type             0\n",
       "extraction_type_group       0\n",
       "extraction_type_class       0\n",
       "management                  0\n",
       "management_group            0\n",
       "payment                     0\n",
       "payment_type                0\n",
       "water_quality               0\n",
       "quality_group               0\n",
       "quantity                    0\n",
       "source                      0\n",
       "source_type                 0\n",
       "source_class                0\n",
       "waterpoint_type             0\n",
       "waterpoint_type_group       0\n",
       "status_group                0\n",
       "status                      0\n",
       "dtype: int64"
      ]
     },
     "execution_count": 55,
     "metadata": {},
     "output_type": "execute_result"
    }
   ],
   "source": [
    "df_train_merged.isna().sum()"
   ]
  },
  {
   "cell_type": "markdown",
   "metadata": {},
   "source": [
    "I decided to drop the nulls in the permit column and then convert this column from a boolean to an integer column."
   ]
  },
  {
   "cell_type": "code",
   "execution_count": 56,
   "metadata": {},
   "outputs": [
    {
     "data": {
      "text/plain": [
       "1         True\n",
       "2         True\n",
       "3         True\n",
       "4         True\n",
       "5         True\n",
       "         ...  \n",
       "59394     True\n",
       "59395     True\n",
       "59397    False\n",
       "59398     True\n",
       "59399     True\n",
       "Name: permit, Length: 53563, dtype: object"
      ]
     },
     "execution_count": 56,
     "metadata": {},
     "output_type": "execute_result"
    }
   ],
   "source": [
    "df_train_merged['permit']"
   ]
  },
  {
   "cell_type": "code",
   "execution_count": 57,
   "metadata": {},
   "outputs": [],
   "source": [
    "mask3 = df_train_merged['permit'].isna()"
   ]
  },
  {
   "cell_type": "code",
   "execution_count": 58,
   "metadata": {},
   "outputs": [],
   "source": [
    "df_train_merged = df_train_merged[~ mask3]"
   ]
  },
  {
   "cell_type": "code",
   "execution_count": 59,
   "metadata": {
    "scrolled": false
   },
   "outputs": [
    {
     "data": {
      "text/plain": [
       "amount_tsh                  0\n",
       "gps_height                  0\n",
       "longitude                   0\n",
       "latitude                    0\n",
       "basin                       0\n",
       "region_code                 0\n",
       "district_code               0\n",
       "lga                         0\n",
       "ward                        0\n",
       "population                  0\n",
       "public_meeting           2903\n",
       "scheme_management        3604\n",
       "permit                      0\n",
       "construction_year           0\n",
       "extraction_type             0\n",
       "extraction_type_group       0\n",
       "extraction_type_class       0\n",
       "management                  0\n",
       "management_group            0\n",
       "payment                     0\n",
       "payment_type                0\n",
       "water_quality               0\n",
       "quality_group               0\n",
       "quantity                    0\n",
       "source                      0\n",
       "source_type                 0\n",
       "source_class                0\n",
       "waterpoint_type             0\n",
       "waterpoint_type_group       0\n",
       "status_group                0\n",
       "status                      0\n",
       "dtype: int64"
      ]
     },
     "execution_count": 59,
     "metadata": {},
     "output_type": "execute_result"
    }
   ],
   "source": [
    "df_train_merged.isna().sum()"
   ]
  },
  {
   "cell_type": "code",
   "execution_count": 60,
   "metadata": {},
   "outputs": [
    {
     "name": "stderr",
     "output_type": "stream",
     "text": [
      "<ipython-input-60-4b29544105b5>:1: SettingWithCopyWarning: \n",
      "A value is trying to be set on a copy of a slice from a DataFrame.\n",
      "Try using .loc[row_indexer,col_indexer] = value instead\n",
      "\n",
      "See the caveats in the documentation: https://pandas.pydata.org/pandas-docs/stable/user_guide/indexing.html#returning-a-view-versus-a-copy\n",
      "  df_train_merged['permit'] = df_train_merged['permit'].astype(int)\n"
     ]
    }
   ],
   "source": [
    "df_train_merged['permit'] = df_train_merged['permit'].astype(int)"
   ]
  },
  {
   "cell_type": "code",
   "execution_count": 61,
   "metadata": {},
   "outputs": [
    {
     "data": {
      "text/plain": [
       "1        1\n",
       "2        1\n",
       "3        1\n",
       "4        1\n",
       "5        1\n",
       "        ..\n",
       "59394    1\n",
       "59395    1\n",
       "59397    0\n",
       "59398    1\n",
       "59399    1\n",
       "Name: permit, Length: 50829, dtype: int64"
      ]
     },
     "execution_count": 61,
     "metadata": {},
     "output_type": "execute_result"
    }
   ],
   "source": [
    "df_train_merged['permit']"
   ]
  },
  {
   "cell_type": "code",
   "execution_count": 62,
   "metadata": {},
   "outputs": [
    {
     "data": {
      "text/plain": [
       "1    0.68941\n",
       "0    0.31059\n",
       "Name: permit, dtype: float64"
      ]
     },
     "execution_count": 62,
     "metadata": {},
     "output_type": "execute_result"
    }
   ],
   "source": [
    "df_train_merged['permit'].value_counts(normalize=True)"
   ]
  },
  {
   "cell_type": "code",
   "execution_count": 63,
   "metadata": {},
   "outputs": [],
   "source": [
    "permit_df = df_train_merged.groupby('permit')['status'].mean()"
   ]
  },
  {
   "cell_type": "code",
   "execution_count": 64,
   "metadata": {},
   "outputs": [
    {
     "data": {
      "text/plain": [
       "permit\n",
       "0    0.552987\n",
       "1    0.588408\n",
       "Name: status, dtype: float64"
      ]
     },
     "execution_count": 64,
     "metadata": {},
     "output_type": "execute_result"
    }
   ],
   "source": [
    "permit_df"
   ]
  },
  {
   "cell_type": "markdown",
   "metadata": {},
   "source": [
    "I ran a heat map to check on the correlations of my integer columns."
   ]
  },
  {
   "cell_type": "code",
   "execution_count": 65,
   "metadata": {},
   "outputs": [
    {
     "data": {
      "image/png": "[encoded data removed]",
      "text/plain": [
       "<Figure size 1440x1440 with 2 Axes>"
      ]
     },
     "metadata": {
      "needs_background": "light"
     },
     "output_type": "display_data"
    }
   ],
   "source": [
    "# Create the correlation matrix\n",
    "corr = df_train_merged.corr(method = 'pearson')\n",
    "\n",
    "\n",
    "mask = np.triu(np.ones_like(corr, dtype=bool))\n",
    "\n",
    "# Add the mask to the heatmap\n",
    "fig, ax = plt.subplots(figsize=(20,20)) \n",
    "ax = sns.heatmap(corr, mask=mask, cmap= \"RdYlGn\", center=0, linewidths=1, annot=True, fmt=\".2f\")\n",
    "ax.set_xticklabels(ax.get_xticklabels(), rotation=90)\n",
    "ax.set_yticklabels(ax.get_xticklabels())\n",
    "plt.show()"
   ]
  },
  {
   "cell_type": "markdown",
   "metadata": {},
   "source": [
    "I am creating a DataFrame for waterpoint type group so I can graph how the values in this column relate to the status of the wells."
   ]
  },
  {
   "cell_type": "code",
   "execution_count": 66,
   "metadata": {
    "scrolled": true
   },
   "outputs": [
    {
     "data": {
      "text/html": [
       "<div>\n",
       "<style scoped>\n",
       "    .dataframe tbody tr th:only-of-type {\n",
       "        vertical-align: middle;\n",
       "    }\n",
       "\n",
       "    .dataframe tbody tr th {\n",
       "        vertical-align: top;\n",
       "    }\n",
       "\n",
       "    .dataframe thead th {\n",
       "        text-align: right;\n",
       "    }\n",
       "</style>\n",
       "<table border=\"1\" class=\"dataframe\">\n",
       "  <thead>\n",
       "    <tr style=\"text-align: right;\">\n",
       "      <th></th>\n",
       "      <th>waterpoint_type_group</th>\n",
       "      <th>status</th>\n",
       "    </tr>\n",
       "  </thead>\n",
       "  <tbody>\n",
       "    <tr>\n",
       "      <th>1</th>\n",
       "      <td>communal standpipe</td>\n",
       "      <td>1</td>\n",
       "    </tr>\n",
       "    <tr>\n",
       "      <th>2</th>\n",
       "      <td>communal standpipe</td>\n",
       "      <td>1</td>\n",
       "    </tr>\n",
       "    <tr>\n",
       "      <th>3</th>\n",
       "      <td>communal standpipe</td>\n",
       "      <td>0</td>\n",
       "    </tr>\n",
       "    <tr>\n",
       "      <th>4</th>\n",
       "      <td>communal standpipe</td>\n",
       "      <td>1</td>\n",
       "    </tr>\n",
       "    <tr>\n",
       "      <th>5</th>\n",
       "      <td>communal standpipe</td>\n",
       "      <td>1</td>\n",
       "    </tr>\n",
       "    <tr>\n",
       "      <th>...</th>\n",
       "      <td>...</td>\n",
       "      <td>...</td>\n",
       "    </tr>\n",
       "    <tr>\n",
       "      <th>59394</th>\n",
       "      <td>communal standpipe</td>\n",
       "      <td>0</td>\n",
       "    </tr>\n",
       "    <tr>\n",
       "      <th>59395</th>\n",
       "      <td>communal standpipe</td>\n",
       "      <td>1</td>\n",
       "    </tr>\n",
       "    <tr>\n",
       "      <th>59397</th>\n",
       "      <td>hand pump</td>\n",
       "      <td>1</td>\n",
       "    </tr>\n",
       "    <tr>\n",
       "      <th>59398</th>\n",
       "      <td>hand pump</td>\n",
       "      <td>1</td>\n",
       "    </tr>\n",
       "    <tr>\n",
       "      <th>59399</th>\n",
       "      <td>hand pump</td>\n",
       "      <td>1</td>\n",
       "    </tr>\n",
       "  </tbody>\n",
       "</table>\n",
       "<p>50829 rows × 2 columns</p>\n",
       "</div>"
      ],
      "text/plain": [
       "      waterpoint_type_group  status\n",
       "1        communal standpipe       1\n",
       "2        communal standpipe       1\n",
       "3        communal standpipe       0\n",
       "4        communal standpipe       1\n",
       "5        communal standpipe       1\n",
       "...                     ...     ...\n",
       "59394    communal standpipe       0\n",
       "59395    communal standpipe       1\n",
       "59397             hand pump       1\n",
       "59398             hand pump       1\n",
       "59399             hand pump       1\n",
       "\n",
       "[50829 rows x 2 columns]"
      ]
     },
     "execution_count": 66,
     "metadata": {},
     "output_type": "execute_result"
    }
   ],
   "source": [
    "WPT = df_train_merged[['waterpoint_type_group', 'status']]\n",
    "\n",
    "WPT"
   ]
  },
  {
   "cell_type": "code",
   "execution_count": 67,
   "metadata": {},
   "outputs": [
    {
     "data": {
      "text/plain": [
       "communal standpipe    28647\n",
       "hand pump             15642\n",
       "other                  5768\n",
       "improved spring         680\n",
       "cattle trough            86\n",
       "dam                       6\n",
       "Name: waterpoint_type_group, dtype: int64"
      ]
     },
     "execution_count": 67,
     "metadata": {},
     "output_type": "execute_result"
    }
   ],
   "source": [
    "WPT['waterpoint_type_group'].value_counts()"
   ]
  },
  {
   "cell_type": "code",
   "execution_count": 68,
   "metadata": {},
   "outputs": [],
   "source": [
    "mask5 = ((WPT['waterpoint_type_group']== \"improved spring\") |(WPT['waterpoint_type_group']== \"hand pump\") | (WPT['waterpoint_type_group']== \"communal standpipe\") |  (WPT['waterpoint_type_group']== \"other\"))"
   ]
  },
  {
   "cell_type": "code",
   "execution_count": 69,
   "metadata": {},
   "outputs": [],
   "source": [
    "WPT = WPT[mask5]"
   ]
  },
  {
   "cell_type": "code",
   "execution_count": 70,
   "metadata": {},
   "outputs": [
    {
     "data": {
      "text/plain": [
       "communal standpipe    28647\n",
       "hand pump             15642\n",
       "other                  5768\n",
       "improved spring         680\n",
       "Name: waterpoint_type_group, dtype: int64"
      ]
     },
     "execution_count": 70,
     "metadata": {},
     "output_type": "execute_result"
    }
   ],
   "source": [
    "WPT['waterpoint_type_group'].value_counts()"
   ]
  },
  {
   "cell_type": "code",
   "execution_count": 71,
   "metadata": {},
   "outputs": [],
   "source": [
    "WPT_clean = WPT.groupby('waterpoint_type_group')['status'].mean()"
   ]
  },
  {
   "cell_type": "code",
   "execution_count": 72,
   "metadata": {
    "scrolled": true
   },
   "outputs": [
    {
     "data": {
      "text/plain": [
       "waterpoint_type_group\n",
       "communal standpipe    0.618738\n",
       "hand pump             0.652730\n",
       "improved spring       0.801471\n",
       "other                 0.138176\n",
       "Name: status, dtype: float64"
      ]
     },
     "execution_count": 72,
     "metadata": {},
     "output_type": "execute_result"
    }
   ],
   "source": [
    "WPT_clean"
   ]
  },
  {
   "cell_type": "code",
   "execution_count": 73,
   "metadata": {},
   "outputs": [],
   "source": [
    "WPT_sort = sorted(WPT_clean.values)"
   ]
  },
  {
   "cell_type": "code",
   "execution_count": 74,
   "metadata": {},
   "outputs": [],
   "source": [
    "WPT_list= ['other' , 'communal standpipe' , 'hand pump' , 'improved spring']"
   ]
  },
  {
   "cell_type": "code",
   "execution_count": 75,
   "metadata": {},
   "outputs": [
    {
     "data": {
      "image/png": "[encoded data removed]",
      "text/plain": [
       "<Figure size 432x288 with 1 Axes>"
      ]
     },
     "metadata": {
      "needs_background": "light"
     },
     "output_type": "display_data"
    }
   ],
   "source": [
    "fig = plt.figure()\n",
    "\n",
    "\n",
    "plt.bar(WPT_list,WPT_sort)\n",
    "plt.title('Functional Water Wells by Waterpoint')\n",
    "plt.xlabel('Waterpoint Type')\n",
    "plt.ylabel('Percent Functional')\n",
    "plt.grid(False)\n",
    "#plt.savefig('./WaterpointType.jpeg',bbox_inches='tight', dpi=200);"
   ]
  },
  {
   "cell_type": "markdown",
   "metadata": {},
   "source": [
    "Here I am creating my X and y and then running a train test split, with 80% of my data in the training data and 20% in the testing data."
   ]
  },
  {
   "cell_type": "markdown",
   "metadata": {},
   "source": [
    "## Modeling "
   ]
  },
  {
   "cell_type": "code",
   "execution_count": 168,
   "metadata": {},
   "outputs": [],
   "source": [
    "X = df_train_merged.drop(['status_group', 'status'], axis=1)\n",
    "y = df_train_merged['status']"
   ]
  },
  {
   "cell_type": "code",
   "execution_count": 169,
   "metadata": {},
   "outputs": [],
   "source": [
    "X_train, X_test, y_train, y_test = train_test_split(X, y, test_size=0.2, random_state=42)"
   ]
  },
  {
   "cell_type": "markdown",
   "metadata": {},
   "source": [
    "I am creating a function to grab my columns with floats and integers, and an equation to grab all my object columns. "
   ]
  },
  {
   "cell_type": "code",
   "execution_count": 170,
   "metadata": {},
   "outputs": [],
   "source": [
    "def grab_numeric(df):\n",
    "    return df.select_dtypes(include=['float', 'int'])"
   ]
  },
  {
   "cell_type": "code",
   "execution_count": 171,
   "metadata": {},
   "outputs": [],
   "source": [
    "def grab_object(df):\n",
    "    return df.select_dtypes(include=['object'])"
   ]
  },
  {
   "cell_type": "markdown",
   "metadata": {},
   "source": [
    "Running a functon transformer on my 2 functions."
   ]
  },
  {
   "cell_type": "code",
   "execution_count": 172,
   "metadata": {},
   "outputs": [],
   "source": [
    "GrabNumeric = FunctionTransformer(grab_numeric)"
   ]
  },
  {
   "cell_type": "code",
   "execution_count": 173,
   "metadata": {},
   "outputs": [],
   "source": [
    "GrabObject = FunctionTransformer(grab_object)"
   ]
  },
  {
   "cell_type": "code",
   "execution_count": 174,
   "metadata": {},
   "outputs": [
    {
     "data": {
      "text/plain": [
       "FunctionTransformer(func=<function grab_numeric at 0x7fdf551a9790>)"
      ]
     },
     "execution_count": 174,
     "metadata": {},
     "output_type": "execute_result"
    }
   ],
   "source": [
    "GrabNumeric.fit(X_train)"
   ]
  },
  {
   "cell_type": "markdown",
   "metadata": {},
   "source": [
    "Creating my pipe and subpipes."
   ]
  },
  {
   "cell_type": "code",
   "execution_count": 175,
   "metadata": {},
   "outputs": [],
   "source": [
    "pipe = Pipeline(steps=[\n",
    "    ('num', GrabNumeric),\n",
    "    ('ss', StandardScaler())\n",
    "])\n"
   ]
  },
  {
   "cell_type": "code",
   "execution_count": 176,
   "metadata": {},
   "outputs": [],
   "source": [
    "subpipe_num = Pipeline(steps=[('num_impute', SimpleImputer()),\n",
    "                              ('ss', StandardScaler())])\n",
    "\n",
    "\n",
    "subpipe_cat = Pipeline(steps=[('cat_impute', SimpleImputer(strategy='most_frequent')),\n",
    "                              ('ohe', OneHotEncoder(sparse=False, handle_unknown='ignore'))])"
   ]
  },
  {
   "cell_type": "code",
   "execution_count": 177,
   "metadata": {},
   "outputs": [
    {
     "name": "stdout",
     "output_type": "stream",
     "text": [
      "<class 'pandas.core.frame.DataFrame'>\n",
      "Int64Index: 40663 entries, 57746 to 18478\n",
      "Data columns (total 29 columns):\n",
      " #   Column                 Non-Null Count  Dtype  \n",
      "---  ------                 --------------  -----  \n",
      " 0   amount_tsh             40663 non-null  float64\n",
      " 1   gps_height             40663 non-null  int64  \n",
      " 2   longitude              40663 non-null  float64\n",
      " 3   latitude               40663 non-null  float64\n",
      " 4   basin                  40663 non-null  object \n",
      " 5   region_code            40663 non-null  int64  \n",
      " 6   district_code          40663 non-null  int64  \n",
      " 7   lga                    40663 non-null  object \n",
      " 8   ward                   40663 non-null  object \n",
      " 9   population             40663 non-null  int64  \n",
      " 10  public_meeting         38341 non-null  object \n",
      " 11  scheme_management      37786 non-null  object \n",
      " 12  permit                 40663 non-null  int64  \n",
      " 13  construction_year      40663 non-null  int64  \n",
      " 14  extraction_type        40663 non-null  object \n",
      " 15  extraction_type_group  40663 non-null  object \n",
      " 16  extraction_type_class  40663 non-null  object \n",
      " 17  management             40663 non-null  object \n",
      " 18  management_group       40663 non-null  object \n",
      " 19  payment                40663 non-null  object \n",
      " 20  payment_type           40663 non-null  object \n",
      " 21  water_quality          40663 non-null  object \n",
      " 22  quality_group          40663 non-null  object \n",
      " 23  quantity               40663 non-null  object \n",
      " 24  source                 40663 non-null  object \n",
      " 25  source_type            40663 non-null  object \n",
      " 26  source_class           40663 non-null  object \n",
      " 27  waterpoint_type        40663 non-null  object \n",
      " 28  waterpoint_type_group  40663 non-null  object \n",
      "dtypes: float64(3), int64(6), object(20)\n",
      "memory usage: 9.3+ MB\n"
     ]
    }
   ],
   "source": [
    "X_train.info()"
   ]
  },
  {
   "cell_type": "markdown",
   "metadata": {},
   "source": [
    "Creating my Column Transformer."
   ]
  },
  {
   "cell_type": "code",
   "execution_count": 182,
   "metadata": {},
   "outputs": [],
   "source": [
    "ct = ColumnTransformer(transformers= [\n",
    "    ('subpipe_num' , subpipe_num, [0,1,2,3,5,6,9,12]),\n",
    "    ('subpipe_cat' , subpipe_cat, [7,8,10,11,13,14,15,16,17,18,19,20,21,22,23,24,25,26,27,28]),\n",
    "    \n",
    "    \n",
    "])"
   ]
  },
  {
   "cell_type": "markdown",
   "metadata": {},
   "source": [
    "Fitting and transforming my data on my X_train"
   ]
  },
  {
   "cell_type": "code",
   "execution_count": 81,
   "metadata": {},
   "outputs": [
    {
     "data": {
      "text/html": [
       "<div>\n",
       "<style scoped>\n",
       "    .dataframe tbody tr th:only-of-type {\n",
       "        vertical-align: middle;\n",
       "    }\n",
       "\n",
       "    .dataframe tbody tr th {\n",
       "        vertical-align: top;\n",
       "    }\n",
       "\n",
       "    .dataframe thead th {\n",
       "        text-align: right;\n",
       "    }\n",
       "</style>\n",
       "<table border=\"1\" class=\"dataframe\">\n",
       "  <thead>\n",
       "    <tr style=\"text-align: right;\">\n",
       "      <th></th>\n",
       "      <th>0</th>\n",
       "      <th>1</th>\n",
       "      <th>2</th>\n",
       "      <th>3</th>\n",
       "      <th>4</th>\n",
       "      <th>5</th>\n",
       "      <th>6</th>\n",
       "      <th>7</th>\n",
       "      <th>8</th>\n",
       "      <th>9</th>\n",
       "      <th>...</th>\n",
       "      <th>2309</th>\n",
       "      <th>2310</th>\n",
       "      <th>2311</th>\n",
       "      <th>2312</th>\n",
       "      <th>2313</th>\n",
       "      <th>2314</th>\n",
       "      <th>2315</th>\n",
       "      <th>2316</th>\n",
       "      <th>2317</th>\n",
       "      <th>2318</th>\n",
       "    </tr>\n",
       "  </thead>\n",
       "  <tbody>\n",
       "    <tr>\n",
       "      <th>0</th>\n",
       "      <td>-0.341056</td>\n",
       "      <td>-0.928923</td>\n",
       "      <td>-0.131048</td>\n",
       "      <td>1.007250</td>\n",
       "      <td>0.186240</td>\n",
       "      <td>-0.189282</td>\n",
       "      <td>-0.397723</td>\n",
       "      <td>0.669335</td>\n",
       "      <td>0.0</td>\n",
       "      <td>0.0</td>\n",
       "      <td>...</td>\n",
       "      <td>0.0</td>\n",
       "      <td>1.0</td>\n",
       "      <td>0.0</td>\n",
       "      <td>0.0</td>\n",
       "      <td>0.0</td>\n",
       "      <td>0.0</td>\n",
       "      <td>0.0</td>\n",
       "      <td>1.0</td>\n",
       "      <td>0.0</td>\n",
       "      <td>0.0</td>\n",
       "    </tr>\n",
       "    <tr>\n",
       "      <th>1</th>\n",
       "      <td>-0.195408</td>\n",
       "      <td>-0.956436</td>\n",
       "      <td>0.798457</td>\n",
       "      <td>-0.392786</td>\n",
       "      <td>-0.472151</td>\n",
       "      <td>-0.288886</td>\n",
       "      <td>-0.364361</td>\n",
       "      <td>-1.494020</td>\n",
       "      <td>0.0</td>\n",
       "      <td>0.0</td>\n",
       "      <td>...</td>\n",
       "      <td>0.0</td>\n",
       "      <td>0.0</td>\n",
       "      <td>0.0</td>\n",
       "      <td>0.0</td>\n",
       "      <td>0.0</td>\n",
       "      <td>1.0</td>\n",
       "      <td>0.0</td>\n",
       "      <td>0.0</td>\n",
       "      <td>0.0</td>\n",
       "      <td>0.0</td>\n",
       "    </tr>\n",
       "    <tr>\n",
       "      <th>2</th>\n",
       "      <td>-0.341056</td>\n",
       "      <td>-0.928923</td>\n",
       "      <td>-0.096663</td>\n",
       "      <td>0.845068</td>\n",
       "      <td>0.076508</td>\n",
       "      <td>-0.388490</td>\n",
       "      <td>-0.397723</td>\n",
       "      <td>-1.494020</td>\n",
       "      <td>0.0</td>\n",
       "      <td>0.0</td>\n",
       "      <td>...</td>\n",
       "      <td>0.0</td>\n",
       "      <td>0.0</td>\n",
       "      <td>0.0</td>\n",
       "      <td>1.0</td>\n",
       "      <td>0.0</td>\n",
       "      <td>0.0</td>\n",
       "      <td>0.0</td>\n",
       "      <td>0.0</td>\n",
       "      <td>0.0</td>\n",
       "      <td>1.0</td>\n",
       "    </tr>\n",
       "    <tr>\n",
       "      <th>3</th>\n",
       "      <td>-0.341056</td>\n",
       "      <td>-0.216482</td>\n",
       "      <td>0.570273</td>\n",
       "      <td>-1.422941</td>\n",
       "      <td>3.533061</td>\n",
       "      <td>3.695267</td>\n",
       "      <td>0.158304</td>\n",
       "      <td>0.669335</td>\n",
       "      <td>0.0</td>\n",
       "      <td>0.0</td>\n",
       "      <td>...</td>\n",
       "      <td>0.0</td>\n",
       "      <td>0.0</td>\n",
       "      <td>0.0</td>\n",
       "      <td>1.0</td>\n",
       "      <td>0.0</td>\n",
       "      <td>0.0</td>\n",
       "      <td>0.0</td>\n",
       "      <td>0.0</td>\n",
       "      <td>0.0</td>\n",
       "      <td>1.0</td>\n",
       "    </tr>\n",
       "    <tr>\n",
       "      <th>4</th>\n",
       "      <td>-0.341056</td>\n",
       "      <td>-0.928923</td>\n",
       "      <td>-0.209080</td>\n",
       "      <td>-1.232399</td>\n",
       "      <td>-0.197821</td>\n",
       "      <td>0.009925</td>\n",
       "      <td>-0.397723</td>\n",
       "      <td>-1.494020</td>\n",
       "      <td>0.0</td>\n",
       "      <td>0.0</td>\n",
       "      <td>...</td>\n",
       "      <td>0.0</td>\n",
       "      <td>1.0</td>\n",
       "      <td>0.0</td>\n",
       "      <td>0.0</td>\n",
       "      <td>0.0</td>\n",
       "      <td>0.0</td>\n",
       "      <td>0.0</td>\n",
       "      <td>1.0</td>\n",
       "      <td>0.0</td>\n",
       "      <td>0.0</td>\n",
       "    </tr>\n",
       "    <tr>\n",
       "      <th>...</th>\n",
       "      <td>...</td>\n",
       "      <td>...</td>\n",
       "      <td>...</td>\n",
       "      <td>...</td>\n",
       "      <td>...</td>\n",
       "      <td>...</td>\n",
       "      <td>...</td>\n",
       "      <td>...</td>\n",
       "      <td>...</td>\n",
       "      <td>...</td>\n",
       "      <td>...</td>\n",
       "      <td>...</td>\n",
       "      <td>...</td>\n",
       "      <td>...</td>\n",
       "      <td>...</td>\n",
       "      <td>...</td>\n",
       "      <td>...</td>\n",
       "      <td>...</td>\n",
       "      <td>...</td>\n",
       "      <td>...</td>\n",
       "      <td>...</td>\n",
       "    </tr>\n",
       "    <tr>\n",
       "      <th>40658</th>\n",
       "      <td>0.241537</td>\n",
       "      <td>1.386509</td>\n",
       "      <td>0.153005</td>\n",
       "      <td>-1.198642</td>\n",
       "      <td>-0.252687</td>\n",
       "      <td>-0.189282</td>\n",
       "      <td>0.047099</td>\n",
       "      <td>0.669335</td>\n",
       "      <td>0.0</td>\n",
       "      <td>0.0</td>\n",
       "      <td>...</td>\n",
       "      <td>0.0</td>\n",
       "      <td>0.0</td>\n",
       "      <td>0.0</td>\n",
       "      <td>0.0</td>\n",
       "      <td>0.0</td>\n",
       "      <td>1.0</td>\n",
       "      <td>0.0</td>\n",
       "      <td>0.0</td>\n",
       "      <td>0.0</td>\n",
       "      <td>0.0</td>\n",
       "    </tr>\n",
       "    <tr>\n",
       "      <th>40659</th>\n",
       "      <td>-0.341056</td>\n",
       "      <td>-0.962228</td>\n",
       "      <td>0.805744</td>\n",
       "      <td>-0.401543</td>\n",
       "      <td>-0.472151</td>\n",
       "      <td>-0.288886</td>\n",
       "      <td>-0.075227</td>\n",
       "      <td>-1.494020</td>\n",
       "      <td>0.0</td>\n",
       "      <td>0.0</td>\n",
       "      <td>...</td>\n",
       "      <td>0.0</td>\n",
       "      <td>0.0</td>\n",
       "      <td>0.0</td>\n",
       "      <td>1.0</td>\n",
       "      <td>0.0</td>\n",
       "      <td>0.0</td>\n",
       "      <td>0.0</td>\n",
       "      <td>0.0</td>\n",
       "      <td>0.0</td>\n",
       "      <td>1.0</td>\n",
       "    </tr>\n",
       "    <tr>\n",
       "      <th>40660</th>\n",
       "      <td>-0.341056</td>\n",
       "      <td>-0.928923</td>\n",
       "      <td>-0.317284</td>\n",
       "      <td>1.130293</td>\n",
       "      <td>0.186240</td>\n",
       "      <td>-0.089678</td>\n",
       "      <td>-0.397723</td>\n",
       "      <td>0.669335</td>\n",
       "      <td>0.0</td>\n",
       "      <td>0.0</td>\n",
       "      <td>...</td>\n",
       "      <td>0.0</td>\n",
       "      <td>1.0</td>\n",
       "      <td>0.0</td>\n",
       "      <td>0.0</td>\n",
       "      <td>0.0</td>\n",
       "      <td>0.0</td>\n",
       "      <td>0.0</td>\n",
       "      <td>1.0</td>\n",
       "      <td>0.0</td>\n",
       "      <td>0.0</td>\n",
       "    </tr>\n",
       "    <tr>\n",
       "      <th>40661</th>\n",
       "      <td>0.387186</td>\n",
       "      <td>1.111380</td>\n",
       "      <td>-0.641667</td>\n",
       "      <td>0.451145</td>\n",
       "      <td>0.021643</td>\n",
       "      <td>-0.388490</td>\n",
       "      <td>0.981224</td>\n",
       "      <td>0.669335</td>\n",
       "      <td>0.0</td>\n",
       "      <td>0.0</td>\n",
       "      <td>...</td>\n",
       "      <td>0.0</td>\n",
       "      <td>0.0</td>\n",
       "      <td>0.0</td>\n",
       "      <td>0.0</td>\n",
       "      <td>0.0</td>\n",
       "      <td>1.0</td>\n",
       "      <td>0.0</td>\n",
       "      <td>0.0</td>\n",
       "      <td>0.0</td>\n",
       "      <td>0.0</td>\n",
       "    </tr>\n",
       "    <tr>\n",
       "      <th>40662</th>\n",
       "      <td>-0.341056</td>\n",
       "      <td>2.329189</td>\n",
       "      <td>0.058481</td>\n",
       "      <td>-1.314334</td>\n",
       "      <td>-0.252687</td>\n",
       "      <td>-0.189282</td>\n",
       "      <td>-0.339896</td>\n",
       "      <td>0.669335</td>\n",
       "      <td>0.0</td>\n",
       "      <td>0.0</td>\n",
       "      <td>...</td>\n",
       "      <td>0.0</td>\n",
       "      <td>0.0</td>\n",
       "      <td>0.0</td>\n",
       "      <td>0.0</td>\n",
       "      <td>0.0</td>\n",
       "      <td>1.0</td>\n",
       "      <td>0.0</td>\n",
       "      <td>0.0</td>\n",
       "      <td>0.0</td>\n",
       "      <td>0.0</td>\n",
       "    </tr>\n",
       "  </tbody>\n",
       "</table>\n",
       "<p>40663 rows × 2319 columns</p>\n",
       "</div>"
      ],
      "text/plain": [
       "           0         1         2         3         4         5         6     \\\n",
       "0     -0.341056 -0.928923 -0.131048  1.007250  0.186240 -0.189282 -0.397723   \n",
       "1     -0.195408 -0.956436  0.798457 -0.392786 -0.472151 -0.288886 -0.364361   \n",
       "2     -0.341056 -0.928923 -0.096663  0.845068  0.076508 -0.388490 -0.397723   \n",
       "3     -0.341056 -0.216482  0.570273 -1.422941  3.533061  3.695267  0.158304   \n",
       "4     -0.341056 -0.928923 -0.209080 -1.232399 -0.197821  0.009925 -0.397723   \n",
       "...         ...       ...       ...       ...       ...       ...       ...   \n",
       "40658  0.241537  1.386509  0.153005 -1.198642 -0.252687 -0.189282  0.047099   \n",
       "40659 -0.341056 -0.962228  0.805744 -0.401543 -0.472151 -0.288886 -0.075227   \n",
       "40660 -0.341056 -0.928923 -0.317284  1.130293  0.186240 -0.089678 -0.397723   \n",
       "40661  0.387186  1.111380 -0.641667  0.451145  0.021643 -0.388490  0.981224   \n",
       "40662 -0.341056  2.329189  0.058481 -1.314334 -0.252687 -0.189282 -0.339896   \n",
       "\n",
       "           7     8     9     ...  2309  2310  2311  2312  2313  2314  2315  \\\n",
       "0      0.669335   0.0   0.0  ...   0.0   1.0   0.0   0.0   0.0   0.0   0.0   \n",
       "1     -1.494020   0.0   0.0  ...   0.0   0.0   0.0   0.0   0.0   1.0   0.0   \n",
       "2     -1.494020   0.0   0.0  ...   0.0   0.0   0.0   1.0   0.0   0.0   0.0   \n",
       "3      0.669335   0.0   0.0  ...   0.0   0.0   0.0   1.0   0.0   0.0   0.0   \n",
       "4     -1.494020   0.0   0.0  ...   0.0   1.0   0.0   0.0   0.0   0.0   0.0   \n",
       "...         ...   ...   ...  ...   ...   ...   ...   ...   ...   ...   ...   \n",
       "40658  0.669335   0.0   0.0  ...   0.0   0.0   0.0   0.0   0.0   1.0   0.0   \n",
       "40659 -1.494020   0.0   0.0  ...   0.0   0.0   0.0   1.0   0.0   0.0   0.0   \n",
       "40660  0.669335   0.0   0.0  ...   0.0   1.0   0.0   0.0   0.0   0.0   0.0   \n",
       "40661  0.669335   0.0   0.0  ...   0.0   0.0   0.0   0.0   0.0   1.0   0.0   \n",
       "40662  0.669335   0.0   0.0  ...   0.0   0.0   0.0   0.0   0.0   1.0   0.0   \n",
       "\n",
       "       2316  2317  2318  \n",
       "0       1.0   0.0   0.0  \n",
       "1       0.0   0.0   0.0  \n",
       "2       0.0   0.0   1.0  \n",
       "3       0.0   0.0   1.0  \n",
       "4       1.0   0.0   0.0  \n",
       "...     ...   ...   ...  \n",
       "40658   0.0   0.0   0.0  \n",
       "40659   0.0   0.0   1.0  \n",
       "40660   1.0   0.0   0.0  \n",
       "40661   0.0   0.0   0.0  \n",
       "40662   0.0   0.0   0.0  \n",
       "\n",
       "[40663 rows x 2319 columns]"
      ]
     },
     "execution_count": 81,
     "metadata": {},
     "output_type": "execute_result"
    }
   ],
   "source": [
    "pd.DataFrame(ct.fit_transform(X_train))"
   ]
  },
  {
   "cell_type": "markdown",
   "metadata": {},
   "source": [
    "Creating a class ModelWithCV that will be used to see cross validiation scores of our models."
   ]
  },
  {
   "cell_type": "code",
   "execution_count": 82,
   "metadata": {},
   "outputs": [],
   "source": [
    "class ModelWithCV():\n",
    "    '''Structure to save the model and more easily see its crossvalidation'''\n",
    "    \n",
    "    def __init__(self, model, model_name, X, y, cv_now=True):\n",
    "        self.model = model\n",
    "        self.name = model_name\n",
    "        self.X = X\n",
    "        self.y = y\n",
    "        # For CV results\n",
    "        self.cv_results = None\n",
    "        self.cv_mean = None\n",
    "        self.cv_median = None\n",
    "        self.cv_std = None\n",
    "        #\n",
    "        if cv_now:\n",
    "            self.cross_validate()\n",
    "        \n",
    "    def cross_validate(self, X=None, y=None, kfolds=10):\n",
    "        '''\n",
    "        Perform cross-validation and return results.\n",
    "        \n",
    "        Args: \n",
    "          X:\n",
    "            Optional; Training data to perform CV on. Otherwise use X from object\n",
    "          y:\n",
    "            Optional; Training data to perform CV on. Otherwise use y from object\n",
    "          kfolds:\n",
    "            Optional; Number of folds for CV (default is 10)  \n",
    "        '''\n",
    "        \n",
    "        cv_X = X if X else self.X\n",
    "        cv_y = y if y else self.y\n",
    "\n",
    "        self.cv_results = cross_val_score(self.model, cv_X, cv_y, cv=kfolds)\n",
    "        self.cv_mean = np.mean(self.cv_results)\n",
    "        self.cv_median = np.median(self.cv_results)\n",
    "        self.cv_std = np.std(self.cv_results)\n",
    "\n",
    "        \n",
    "    def print_cv_summary(self):\n",
    "        cv_summary = (\n",
    "        f'''CV Results for `{self.name}` model:\n",
    "            {self.cv_mean:.5f} ± {self.cv_std:.5f} accuracy\n",
    "        ''')\n",
    "        print(cv_summary)\n",
    "\n",
    "        \n",
    "    def plot_cv(self, ax):\n",
    "        '''\n",
    "        Plot the cross-validation values using the array of results and given \n",
    "        Axis for plotting.\n",
    "        '''\n",
    "        ax.set_title(f'CV Results for `{self.name}` Model')\n",
    "        # Thinner violinplot with higher bw\n",
    "        sns.violinplot(y=self.cv_results, ax=ax, bw=.4)\n",
    "        sns.swarmplot(\n",
    "                y=self.cv_results,\n",
    "                color='orange',\n",
    "                size=10,\n",
    "                alpha= 0.8,\n",
    "                ax=ax\n",
    "        )\n",
    "\n",
    "        return ax"
   ]
  },
  {
   "cell_type": "markdown",
   "metadata": {},
   "source": [
    "### Dummy Model"
   ]
  },
  {
   "cell_type": "code",
   "execution_count": 83,
   "metadata": {},
   "outputs": [],
   "source": [
    "dummy_model_pipe = Pipeline(steps = [\n",
    "    ('ct', ct),\n",
    "    ('dummy_model' , DummyClassifier(strategy = 'most_frequent'))\n",
    "])"
   ]
  },
  {
   "cell_type": "code",
   "execution_count": 84,
   "metadata": {},
   "outputs": [
    {
     "data": {
      "text/plain": [
       "Pipeline(steps=[('ct',\n",
       "                 ColumnTransformer(transformers=[('subpipe_num',\n",
       "                                                  Pipeline(steps=[('num_impute',\n",
       "                                                                   SimpleImputer()),\n",
       "                                                                  ('ss',\n",
       "                                                                   StandardScaler())]),\n",
       "                                                  [0, 1, 2, 3, 5, 6, 9, 12]),\n",
       "                                                 ('subpipe_cat',\n",
       "                                                  Pipeline(steps=[('cat_impute',\n",
       "                                                                   SimpleImputer(strategy='most_frequent')),\n",
       "                                                                  ('ohe',\n",
       "                                                                   OneHotEncoder(handle_unknown='ignore',\n",
       "                                                                                 sparse=False))]),\n",
       "                                                  [7, 8, 10, 11, 13, 14, 15, 16,\n",
       "                                                   17, 18, 19, 20, 21, 22, 23,\n",
       "                                                   24, 25, 26, 27, 28])])),\n",
       "                ('dummy_model', DummyClassifier(strategy='most_frequent'))])"
      ]
     },
     "execution_count": 84,
     "metadata": {},
     "output_type": "execute_result"
    }
   ],
   "source": [
    "dummy_model_pipe.fit(X_train, y_train)"
   ]
  },
  {
   "cell_type": "markdown",
   "metadata": {},
   "source": [
    "This score below will be our baseline on which we are trying to improve through our next models."
   ]
  },
  {
   "cell_type": "code",
   "execution_count": 85,
   "metadata": {},
   "outputs": [
    {
     "data": {
      "text/plain": [
       "0.5771831886481568"
      ]
     },
     "execution_count": 85,
     "metadata": {},
     "output_type": "execute_result"
    }
   ],
   "source": [
    "dummy_model_pipe.score(X_train, y_train)"
   ]
  },
  {
   "cell_type": "code",
   "execution_count": 86,
   "metadata": {},
   "outputs": [],
   "source": [
    "dummy_pipe = ModelWithCV(dummy_model_pipe, 'dummy', X_train, y_train)"
   ]
  },
  {
   "cell_type": "code",
   "execution_count": 87,
   "metadata": {},
   "outputs": [
    {
     "data": {
      "text/plain": [
       "<AxesSubplot:title={'center':'CV Results for `dummy` Model'}>"
      ]
     },
     "execution_count": 87,
     "metadata": {},
     "output_type": "execute_result"
    },
    {
     "data": {
      "image/png": "[encoded data removed]",
      "text/plain": [
       "<Figure size 432x288 with 1 Axes>"
      ]
     },
     "metadata": {
      "needs_background": "light"
     },
     "output_type": "display_data"
    }
   ],
   "source": [
    "fig, ax = plt.subplots()\n",
    "\n",
    "dummy_pipe.plot_cv(ax=ax)"
   ]
  },
  {
   "cell_type": "code",
   "execution_count": 229,
   "metadata": {},
   "outputs": [],
   "source": [
    "dummy_model_filename = 'Pickles/dummy_model.sav'"
   ]
  },
  {
   "cell_type": "code",
   "execution_count": 228,
   "metadata": {},
   "outputs": [],
   "source": [
    "pickle.dump(dummy_pipe, open(dummy_model_filename, 'wb'))"
   ]
  },
  {
   "cell_type": "code",
   "execution_count": null,
   "metadata": {},
   "outputs": [],
   "source": [
    "# dummy_model_pickle = pickle.load(open('dummy_model.sav', 'rb'))"
   ]
  },
  {
   "cell_type": "markdown",
   "metadata": {},
   "source": [
    "### Logistic Regression First Simple Model"
   ]
  },
  {
   "cell_type": "markdown",
   "metadata": {},
   "source": [
    "I chose Logistic Regression for my first model because will help me understand the relationship between my dependent and independent variables by estimating probabilities."
   ]
  },
  {
   "cell_type": "code",
   "execution_count": 89,
   "metadata": {},
   "outputs": [],
   "source": [
    "logreg_model_pipe= Pipeline(steps=[\n",
    "    ('ct', ct),\n",
    "    ('logreg', LogisticRegression(random_state=42))\n",
    "])"
   ]
  },
  {
   "cell_type": "code",
   "execution_count": 90,
   "metadata": {},
   "outputs": [
    {
     "name": "stderr",
     "output_type": "stream",
     "text": [
      "/Users/jordan/opt/anaconda3/envs/learn-env/lib/python3.8/site-packages/sklearn/linear_model/_logistic.py:814: ConvergenceWarning: lbfgs failed to converge (status=1):\n",
      "STOP: TOTAL NO. of ITERATIONS REACHED LIMIT.\n",
      "\n",
      "Increase the number of iterations (max_iter) or scale the data as shown in:\n",
      "    https://scikit-learn.org/stable/modules/preprocessing.html\n",
      "Please also refer to the documentation for alternative solver options:\n",
      "    https://scikit-learn.org/stable/modules/linear_model.html#logistic-regression\n",
      "  n_iter_i = _check_optimize_result(\n"
     ]
    },
    {
     "data": {
      "text/plain": [
       "Pipeline(steps=[('ct',\n",
       "                 ColumnTransformer(transformers=[('subpipe_num',\n",
       "                                                  Pipeline(steps=[('num_impute',\n",
       "                                                                   SimpleImputer()),\n",
       "                                                                  ('ss',\n",
       "                                                                   StandardScaler())]),\n",
       "                                                  [0, 1, 2, 3, 5, 6, 9, 12]),\n",
       "                                                 ('subpipe_cat',\n",
       "                                                  Pipeline(steps=[('cat_impute',\n",
       "                                                                   SimpleImputer(strategy='most_frequent')),\n",
       "                                                                  ('ohe',\n",
       "                                                                   OneHotEncoder(handle_unknown='ignore',\n",
       "                                                                                 sparse=False))]),\n",
       "                                                  [7, 8, 10, 11, 13, 14, 15, 16,\n",
       "                                                   17, 18, 19, 20, 21, 22, 23,\n",
       "                                                   24, 25, 26, 27, 28])])),\n",
       "                ('logreg', LogisticRegression(random_state=42))])"
      ]
     },
     "execution_count": 90,
     "metadata": {},
     "output_type": "execute_result"
    }
   ],
   "source": [
    "logreg_model_pipe.fit(X_train, y_train)"
   ]
  },
  {
   "cell_type": "code",
   "execution_count": 92,
   "metadata": {},
   "outputs": [
    {
     "name": "stderr",
     "output_type": "stream",
     "text": [
      "/Users/jordan/opt/anaconda3/envs/learn-env/lib/python3.8/site-packages/sklearn/linear_model/_logistic.py:814: ConvergenceWarning: lbfgs failed to converge (status=1):\n",
      "STOP: TOTAL NO. of ITERATIONS REACHED LIMIT.\n",
      "\n",
      "Increase the number of iterations (max_iter) or scale the data as shown in:\n",
      "    https://scikit-learn.org/stable/modules/preprocessing.html\n",
      "Please also refer to the documentation for alternative solver options:\n",
      "    https://scikit-learn.org/stable/modules/linear_model.html#logistic-regression\n",
      "  n_iter_i = _check_optimize_result(\n",
      "/Users/jordan/opt/anaconda3/envs/learn-env/lib/python3.8/site-packages/sklearn/linear_model/_logistic.py:814: ConvergenceWarning: lbfgs failed to converge (status=1):\n",
      "STOP: TOTAL NO. of ITERATIONS REACHED LIMIT.\n",
      "\n",
      "Increase the number of iterations (max_iter) or scale the data as shown in:\n",
      "    https://scikit-learn.org/stable/modules/preprocessing.html\n",
      "Please also refer to the documentation for alternative solver options:\n",
      "    https://scikit-learn.org/stable/modules/linear_model.html#logistic-regression\n",
      "  n_iter_i = _check_optimize_result(\n",
      "/Users/jordan/opt/anaconda3/envs/learn-env/lib/python3.8/site-packages/sklearn/linear_model/_logistic.py:814: ConvergenceWarning: lbfgs failed to converge (status=1):\n",
      "STOP: TOTAL NO. of ITERATIONS REACHED LIMIT.\n",
      "\n",
      "Increase the number of iterations (max_iter) or scale the data as shown in:\n",
      "    https://scikit-learn.org/stable/modules/preprocessing.html\n",
      "Please also refer to the documentation for alternative solver options:\n",
      "    https://scikit-learn.org/stable/modules/linear_model.html#logistic-regression\n",
      "  n_iter_i = _check_optimize_result(\n",
      "/Users/jordan/opt/anaconda3/envs/learn-env/lib/python3.8/site-packages/sklearn/linear_model/_logistic.py:814: ConvergenceWarning: lbfgs failed to converge (status=1):\n",
      "STOP: TOTAL NO. of ITERATIONS REACHED LIMIT.\n",
      "\n",
      "Increase the number of iterations (max_iter) or scale the data as shown in:\n",
      "    https://scikit-learn.org/stable/modules/preprocessing.html\n",
      "Please also refer to the documentation for alternative solver options:\n",
      "    https://scikit-learn.org/stable/modules/linear_model.html#logistic-regression\n",
      "  n_iter_i = _check_optimize_result(\n",
      "/Users/jordan/opt/anaconda3/envs/learn-env/lib/python3.8/site-packages/sklearn/linear_model/_logistic.py:814: ConvergenceWarning: lbfgs failed to converge (status=1):\n",
      "STOP: TOTAL NO. of ITERATIONS REACHED LIMIT.\n",
      "\n",
      "Increase the number of iterations (max_iter) or scale the data as shown in:\n",
      "    https://scikit-learn.org/stable/modules/preprocessing.html\n",
      "Please also refer to the documentation for alternative solver options:\n",
      "    https://scikit-learn.org/stable/modules/linear_model.html#logistic-regression\n",
      "  n_iter_i = _check_optimize_result(\n",
      "/Users/jordan/opt/anaconda3/envs/learn-env/lib/python3.8/site-packages/sklearn/linear_model/_logistic.py:814: ConvergenceWarning: lbfgs failed to converge (status=1):\n",
      "STOP: TOTAL NO. of ITERATIONS REACHED LIMIT.\n",
      "\n",
      "Increase the number of iterations (max_iter) or scale the data as shown in:\n",
      "    https://scikit-learn.org/stable/modules/preprocessing.html\n",
      "Please also refer to the documentation for alternative solver options:\n",
      "    https://scikit-learn.org/stable/modules/linear_model.html#logistic-regression\n",
      "  n_iter_i = _check_optimize_result(\n",
      "/Users/jordan/opt/anaconda3/envs/learn-env/lib/python3.8/site-packages/sklearn/linear_model/_logistic.py:814: ConvergenceWarning: lbfgs failed to converge (status=1):\n",
      "STOP: TOTAL NO. of ITERATIONS REACHED LIMIT.\n",
      "\n",
      "Increase the number of iterations (max_iter) or scale the data as shown in:\n",
      "    https://scikit-learn.org/stable/modules/preprocessing.html\n",
      "Please also refer to the documentation for alternative solver options:\n",
      "    https://scikit-learn.org/stable/modules/linear_model.html#logistic-regression\n",
      "  n_iter_i = _check_optimize_result(\n",
      "/Users/jordan/opt/anaconda3/envs/learn-env/lib/python3.8/site-packages/sklearn/linear_model/_logistic.py:814: ConvergenceWarning: lbfgs failed to converge (status=1):\n",
      "STOP: TOTAL NO. of ITERATIONS REACHED LIMIT.\n",
      "\n",
      "Increase the number of iterations (max_iter) or scale the data as shown in:\n",
      "    https://scikit-learn.org/stable/modules/preprocessing.html\n",
      "Please also refer to the documentation for alternative solver options:\n",
      "    https://scikit-learn.org/stable/modules/linear_model.html#logistic-regression\n",
      "  n_iter_i = _check_optimize_result(\n",
      "/Users/jordan/opt/anaconda3/envs/learn-env/lib/python3.8/site-packages/sklearn/linear_model/_logistic.py:814: ConvergenceWarning: lbfgs failed to converge (status=1):\n",
      "STOP: TOTAL NO. of ITERATIONS REACHED LIMIT.\n",
      "\n",
      "Increase the number of iterations (max_iter) or scale the data as shown in:\n",
      "    https://scikit-learn.org/stable/modules/preprocessing.html\n",
      "Please also refer to the documentation for alternative solver options:\n",
      "    https://scikit-learn.org/stable/modules/linear_model.html#logistic-regression\n",
      "  n_iter_i = _check_optimize_result(\n",
      "/Users/jordan/opt/anaconda3/envs/learn-env/lib/python3.8/site-packages/sklearn/linear_model/_logistic.py:814: ConvergenceWarning: lbfgs failed to converge (status=1):\n",
      "STOP: TOTAL NO. of ITERATIONS REACHED LIMIT.\n",
      "\n",
      "Increase the number of iterations (max_iter) or scale the data as shown in:\n",
      "    https://scikit-learn.org/stable/modules/preprocessing.html\n",
      "Please also refer to the documentation for alternative solver options:\n",
      "    https://scikit-learn.org/stable/modules/linear_model.html#logistic-regression\n",
      "  n_iter_i = _check_optimize_result(\n"
     ]
    }
   ],
   "source": [
    "log_pipe = ModelWithCV(logreg_model_pipe, model_name = 'log_pipe', X=X_train, y=y_train)"
   ]
  },
  {
   "cell_type": "code",
   "execution_count": 93,
   "metadata": {},
   "outputs": [
    {
     "name": "stdout",
     "output_type": "stream",
     "text": [
      "CV Results for `log_pipe` model:\n",
      "            0.82321 ± 0.00420 accuracy\n",
      "        \n"
     ]
    }
   ],
   "source": [
    "log_pipe.print_cv_summary()"
   ]
  },
  {
   "cell_type": "code",
   "execution_count": 94,
   "metadata": {},
   "outputs": [
    {
     "data": {
      "text/plain": [
       "<AxesSubplot:title={'center':'CV Results for `log_pipe` Model'}>"
      ]
     },
     "execution_count": 94,
     "metadata": {},
     "output_type": "execute_result"
    },
    {
     "data": {
      "image/png": "[encoded data removed]",
      "text/plain": [
       "<Figure size 432x288 with 1 Axes>"
      ]
     },
     "metadata": {
      "needs_background": "light"
     },
     "output_type": "display_data"
    }
   ],
   "source": [
    "fig, ax = plt.subplots()\n",
    "\n",
    "log_pipe.plot_cv(ax=ax)"
   ]
  },
  {
   "cell_type": "code",
   "execution_count": 230,
   "metadata": {},
   "outputs": [],
   "source": [
    "logreg_model_filename = 'Pickles/logreg_model.sav'"
   ]
  },
  {
   "cell_type": "code",
   "execution_count": 231,
   "metadata": {},
   "outputs": [],
   "source": [
    "pickle.dump(log_pipe, open(logreg_model_filename, 'wb'))"
   ]
  },
  {
   "cell_type": "code",
   "execution_count": null,
   "metadata": {},
   "outputs": [],
   "source": [
    "# logreg_model_pickle = pickle.load(open('logreg_model.sav', 'rb'))"
   ]
  },
  {
   "cell_type": "markdown",
   "metadata": {},
   "source": [
    "### GridSearch with Logistic Regression"
   ]
  },
  {
   "cell_type": "markdown",
   "metadata": {},
   "source": [
    "Next I chose to run a simple gridsearch where my only parameter is increasing the maximum iterations, from the default of 100 to 1,000. "
   ]
  },
  {
   "cell_type": "code",
   "execution_count": 95,
   "metadata": {},
   "outputs": [],
   "source": [
    "logreg_params = {}\n",
    "logreg_params['logreg__max_iter'] = [1000]\n",
    "\n"
   ]
  },
  {
   "cell_type": "code",
   "execution_count": null,
   "metadata": {},
   "outputs": [],
   "source": [
    "logreg_grid = GridSearchCV(logreg_model_pipe, param_grid = logreg_params, cv = 3, verbose = 3)"
   ]
  },
  {
   "cell_type": "code",
   "execution_count": 97,
   "metadata": {},
   "outputs": [
    {
     "name": "stdout",
     "output_type": "stream",
     "text": [
      "Fitting 3 folds for each of 1 candidates, totalling 3 fits\n",
      "[CV 1/3] END .............logreg__max_iter=1000;, score=0.823 total time=  37.6s\n",
      "[CV 2/3] END .............logreg__max_iter=1000;, score=0.822 total time=  34.4s\n",
      "[CV 3/3] END .............logreg__max_iter=1000;, score=0.819 total time=  37.0s\n"
     ]
    },
    {
     "data": {
      "text/plain": [
       "GridSearchCV(cv=3,\n",
       "             estimator=Pipeline(steps=[('ct',\n",
       "                                        ColumnTransformer(transformers=[('subpipe_num',\n",
       "                                                                         Pipeline(steps=[('num_impute',\n",
       "                                                                                          SimpleImputer()),\n",
       "                                                                                         ('ss',\n",
       "                                                                                          StandardScaler())]),\n",
       "                                                                         [0, 1,\n",
       "                                                                          2, 3,\n",
       "                                                                          5, 6,\n",
       "                                                                          9,\n",
       "                                                                          12]),\n",
       "                                                                        ('subpipe_cat',\n",
       "                                                                         Pipeline(steps=[('cat_impute',\n",
       "                                                                                          SimpleImputer(strategy='most_frequent')),\n",
       "                                                                                         ('ohe',\n",
       "                                                                                          OneHotEncoder(handle_unknown='ignore',\n",
       "                                                                                                        sparse=False))]),\n",
       "                                                                         [7, 8,\n",
       "                                                                          10,\n",
       "                                                                          11,\n",
       "                                                                          13,\n",
       "                                                                          14,\n",
       "                                                                          15,\n",
       "                                                                          16,\n",
       "                                                                          17,\n",
       "                                                                          18,\n",
       "                                                                          19,\n",
       "                                                                          20,\n",
       "                                                                          21,\n",
       "                                                                          22,\n",
       "                                                                          23,\n",
       "                                                                          24,\n",
       "                                                                          25,\n",
       "                                                                          26,\n",
       "                                                                          27,\n",
       "                                                                          28])])),\n",
       "                                       ('logreg',\n",
       "                                        LogisticRegression(random_state=42))]),\n",
       "             param_grid={'logreg__max_iter': [1000]}, verbose=3)"
      ]
     },
     "execution_count": 97,
     "metadata": {},
     "output_type": "execute_result"
    }
   ],
   "source": [
    "logreg_grid.fit(X_train, y_train)"
   ]
  },
  {
   "cell_type": "code",
   "execution_count": 233,
   "metadata": {},
   "outputs": [
    {
     "data": {
      "text/plain": [
       "0.8214592681457548"
      ]
     },
     "execution_count": 233,
     "metadata": {},
     "output_type": "execute_result"
    }
   ],
   "source": [
    "logreg_grid.best_score_"
   ]
  },
  {
   "cell_type": "code",
   "execution_count": 4,
   "metadata": {},
   "outputs": [],
   "source": [
    "logreg_grid_filename = 'Pickles/logreg_grid.sav'"
   ]
  },
  {
   "cell_type": "code",
   "execution_count": null,
   "metadata": {},
   "outputs": [],
   "source": [
    "pickle.dump(logreg_grid, open(logreg_grid_filename, 'wb'))"
   ]
  },
  {
   "cell_type": "code",
   "execution_count": null,
   "metadata": {},
   "outputs": [],
   "source": [
    "# logreg_model_pickle = pickle.load(open('logreg_model.sav', 'rb'))"
   ]
  },
  {
   "cell_type": "markdown",
   "metadata": {},
   "source": [
    "### Random Forest Model"
   ]
  },
  {
   "cell_type": "markdown",
   "metadata": {},
   "source": [
    "I chose to run a Random Forest Model next because it works well with high dimensionality and with a lot of data.  "
   ]
  },
  {
   "cell_type": "code",
   "execution_count": 100,
   "metadata": {},
   "outputs": [],
   "source": [
    "rf_class = RandomForestClassifier(random_state=42)\n",
    "\n",
    "rf_model_pipe = Pipeline([('ct', ct), ('rfc', rf_class)])"
   ]
  },
  {
   "cell_type": "code",
   "execution_count": 101,
   "metadata": {},
   "outputs": [
    {
     "data": {
      "text/plain": [
       "Pipeline(steps=[('ct',\n",
       "                 ColumnTransformer(transformers=[('subpipe_num',\n",
       "                                                  Pipeline(steps=[('num_impute',\n",
       "                                                                   SimpleImputer()),\n",
       "                                                                  ('ss',\n",
       "                                                                   StandardScaler())]),\n",
       "                                                  [0, 1, 2, 3, 5, 6, 9, 12]),\n",
       "                                                 ('subpipe_cat',\n",
       "                                                  Pipeline(steps=[('cat_impute',\n",
       "                                                                   SimpleImputer(strategy='most_frequent')),\n",
       "                                                                  ('ohe',\n",
       "                                                                   OneHotEncoder(handle_unknown='ignore',\n",
       "                                                                                 sparse=False))]),\n",
       "                                                  [7, 8, 10, 11, 13, 14, 15, 16,\n",
       "                                                   17, 18, 19, 20, 21, 22, 23,\n",
       "                                                   24, 25, 26, 27, 28])])),\n",
       "                ('rfc', RandomForestClassifier(random_state=42))])"
      ]
     },
     "execution_count": 101,
     "metadata": {},
     "output_type": "execute_result"
    }
   ],
   "source": [
    "rf_model_pipe.fit(X_train, y_train)"
   ]
  },
  {
   "cell_type": "code",
   "execution_count": 102,
   "metadata": {},
   "outputs": [],
   "source": [
    "rf_model = ModelWithCV(rf_model_pipe, 'forest_pipe', X_train, y_train)"
   ]
  },
  {
   "cell_type": "code",
   "execution_count": 106,
   "metadata": {},
   "outputs": [
    {
     "data": {
      "text/plain": [
       "<AxesSubplot:title={'center':'CV Results for `forest_pipe` Model'}>"
      ]
     },
     "execution_count": 106,
     "metadata": {},
     "output_type": "execute_result"
    },
    {
     "data": {
      "image/png": "[encoded data removed]",
      "text/plain": [
       "<Figure size 432x288 with 1 Axes>"
      ]
     },
     "metadata": {
      "needs_background": "light"
     },
     "output_type": "display_data"
    }
   ],
   "source": [
    "fig, ax = plt.subplots()\n",
    "\n",
    "rf_model.plot_cv(ax=ax)"
   ]
  },
  {
   "cell_type": "code",
   "execution_count": 108,
   "metadata": {
    "scrolled": true
   },
   "outputs": [
    {
     "name": "stdout",
     "output_type": "stream",
     "text": [
      "CV Results for `forest_pipe` model:\n",
      "            0.85097 ± 0.00708 accuracy\n",
      "        \n"
     ]
    }
   ],
   "source": [
    "rf_model.print_cv_summary()"
   ]
  },
  {
   "cell_type": "code",
   "execution_count": 1,
   "metadata": {},
   "outputs": [],
   "source": [
    "rf_model_filename = 'Pickles/rf_model.sav'"
   ]
  },
  {
   "cell_type": "code",
   "execution_count": null,
   "metadata": {},
   "outputs": [],
   "source": [
    "pickle.dump(rf_model, open(rf_model_filename, 'wb'))"
   ]
  },
  {
   "cell_type": "code",
   "execution_count": null,
   "metadata": {},
   "outputs": [],
   "source": [
    "# rf_model_pickle = pickle.load(open('rf_model.sav', 'rb'))"
   ]
  },
  {
   "cell_type": "markdown",
   "metadata": {},
   "source": [
    "### XGBoost Classification - Best Model"
   ]
  },
  {
   "cell_type": "markdown",
   "metadata": {},
   "source": [
    "Next I chose to run an XGBoost Classifier.  I chose this because this is similar to a Random Forest, but uses a different training algorithm.  This felt like an appropriate choice because my Random Forest model had the highest score so far."
   ]
  },
  {
   "cell_type": "code",
   "execution_count": 114,
   "metadata": {},
   "outputs": [],
   "source": [
    "xgb_class = xgboost.XGBClassifier(random_state=42, objective='binary:logistic')"
   ]
  },
  {
   "cell_type": "code",
   "execution_count": 116,
   "metadata": {},
   "outputs": [],
   "source": [
    "xgb_model_pipe = Pipeline ([('ct', ct), ('xgb', xgb_class)])"
   ]
  },
  {
   "cell_type": "code",
   "execution_count": 121,
   "metadata": {},
   "outputs": [],
   "source": [
    "xgb = xgb_model_pipe.fit(X_train, y_train)"
   ]
  },
  {
   "cell_type": "code",
   "execution_count": 122,
   "metadata": {},
   "outputs": [],
   "source": [
    "def scoring(estimator, X, y):\n",
    "    '''\n",
    "    Prints the accuracy, precision, and recall of the given fitted estimator and data.\n",
    "    \n",
    "    Prints the confusion matrix.\n",
    "    '''\n",
    "    p_score = precision_score(y, estimator.predict(X))\n",
    "    r_score = recall_score(y, estimator.predict(X))\n",
    "    \n",
    "    print(f'Accuracy: {estimator.score(X, y)}')\n",
    "    print(f'Precision: {p_score}')\n",
    "    print(f'Recall: {r_score}')\n",
    "    \n",
    "    plot_confusion_matrix(estimator, X, y)"
   ]
  },
  {
   "cell_type": "code",
   "execution_count": 124,
   "metadata": {
    "scrolled": false
   },
   "outputs": [
    {
     "name": "stdout",
     "output_type": "stream",
     "text": [
      "Accuracy: 0.8612497848166638\n",
      "Precision: 0.8390642829973374\n",
      "Recall: 0.9398806987643801\n"
     ]
    },
    {
     "name": "stderr",
     "output_type": "stream",
     "text": [
      "/Users/jordan/opt/anaconda3/envs/learn-env/lib/python3.8/site-packages/sklearn/utils/deprecation.py:87: FutureWarning: Function plot_confusion_matrix is deprecated; Function `plot_confusion_matrix` is deprecated in 1.0 and will be removed in 1.2. Use one of the class methods: ConfusionMatrixDisplay.from_predictions or ConfusionMatrixDisplay.from_estimator.\n",
      "  warnings.warn(msg, category=FutureWarning)\n"
     ]
    },
    {
     "data": {
      "image/png": "[encoded data removed]",
      "text/plain": [
       "<Figure size 432x288 with 2 Axes>"
      ]
     },
     "metadata": {
      "needs_background": "light"
     },
     "output_type": "display_data"
    }
   ],
   "source": [
    "scoring(xgb, X_train, y_train)"
   ]
  },
  {
   "cell_type": "markdown",
   "metadata": {},
   "source": [
    "As you can see in the confusion matrix above, my model predicts true negatives much more accurately than it predicts true positives."
   ]
  },
  {
   "cell_type": "code",
   "execution_count": 143,
   "metadata": {},
   "outputs": [
    {
     "name": "stdout",
     "output_type": "stream",
     "text": [
      "Accuracy: 0.8492032264410782\n",
      "Precision: 0.8327718223583461\n",
      "Recall: 0.9249872427283552\n"
     ]
    },
    {
     "name": "stderr",
     "output_type": "stream",
     "text": [
      "/Users/jordan/opt/anaconda3/envs/learn-env/lib/python3.8/site-packages/sklearn/utils/deprecation.py:87: FutureWarning: Function plot_confusion_matrix is deprecated; Function `plot_confusion_matrix` is deprecated in 1.0 and will be removed in 1.2. Use one of the class methods: ConfusionMatrixDisplay.from_predictions or ConfusionMatrixDisplay.from_estimator.\n",
      "  warnings.warn(msg, category=FutureWarning)\n"
     ]
    },
    {
     "data": {
      "image/png": "[encoded data removed]",
      "text/plain": [
       "<Figure size 432x288 with 2 Axes>"
      ]
     },
     "metadata": {
      "needs_background": "light"
     },
     "output_type": "display_data"
    }
   ],
   "source": [
    "scoring(xgb, X_test, y_test)"
   ]
  },
  {
   "cell_type": "code",
   "execution_count": 238,
   "metadata": {},
   "outputs": [],
   "source": [
    "xgb_model_filename = 'Pickles/xgb_model.sav'"
   ]
  },
  {
   "cell_type": "code",
   "execution_count": 239,
   "metadata": {},
   "outputs": [],
   "source": [
    "pickle.dump(xgb, open(xgb_model_filename, 'wb'))"
   ]
  },
  {
   "cell_type": "code",
   "execution_count": null,
   "metadata": {},
   "outputs": [],
   "source": [
    "# rf_model_pickle = pickle.load(open('xgb_model.sav', 'rb'))"
   ]
  },
  {
   "cell_type": "markdown",
   "metadata": {},
   "source": [
    "### GridSearch with XGBoost"
   ]
  },
  {
   "cell_type": "markdown",
   "metadata": {},
   "source": [
    "I decided to run a GridSearch on my XGBoost model.  I tuned the max_depth, n_estimators, and learning_rate parameters to see if I could improve my model from the default values of XGBoost. The default parameters are max_depth=3 , n_estimators =100, and learning_rate = .1"
   ]
  },
  {
   "cell_type": "code",
   "execution_count": 136,
   "metadata": {},
   "outputs": [],
   "source": [
    "xgb_gs_class = xgboost.XGBClassifier(random_state=42, objective='binary:logistic')"
   ]
  },
  {
   "cell_type": "code",
   "execution_count": 137,
   "metadata": {},
   "outputs": [],
   "source": [
    "xgb_gs_model_pipe = Pipeline ([('ct', ct), ('xgb', xgb_gs_class)])"
   ]
  },
  {
   "cell_type": "code",
   "execution_count": 138,
   "metadata": {},
   "outputs": [],
   "source": [
    "xgbparameters = {\n",
    "    'xgb__max_depth': (2, 5, 10),\n",
    "    'xgb__n_estimators': (60, 150, 240),\n",
    "    'xgb__learning_rate': [0.1, 0.01, 0.05]\n",
    "}"
   ]
  },
  {
   "cell_type": "code",
   "execution_count": 139,
   "metadata": {},
   "outputs": [],
   "source": [
    "xgb_grid_search = GridSearchCV(\n",
    "    estimator=xgb_gs_model_pipe,\n",
    "    param_grid=xgbparameters,\n",
    "    scoring = 'accuracy',\n",
    "    cv = 3,\n",
    "    verbose= 3\n",
    ")"
   ]
  },
  {
   "cell_type": "code",
   "execution_count": 140,
   "metadata": {},
   "outputs": [
    {
     "name": "stdout",
     "output_type": "stream",
     "text": [
      "Fitting 3 folds for each of 27 candidates, totalling 81 fits\n",
      "[CV 1/3] END xgb__learning_rate=0.1, xgb__max_depth=2, xgb__n_estimators=60;, score=0.774 total time=  35.0s\n",
      "[CV 2/3] END xgb__learning_rate=0.1, xgb__max_depth=2, xgb__n_estimators=60;, score=0.766 total time=  27.6s\n",
      "[CV 3/3] END xgb__learning_rate=0.1, xgb__max_depth=2, xgb__n_estimators=60;, score=0.767 total time=  23.6s\n",
      "[CV 1/3] END xgb__learning_rate=0.1, xgb__max_depth=2, xgb__n_estimators=150;, score=0.787 total time=  55.9s\n",
      "[CV 2/3] END xgb__learning_rate=0.1, xgb__max_depth=2, xgb__n_estimators=150;, score=0.784 total time=  56.2s\n",
      "[CV 3/3] END xgb__learning_rate=0.1, xgb__max_depth=2, xgb__n_estimators=150;, score=0.782 total time=  53.5s\n",
      "[CV 1/3] END xgb__learning_rate=0.1, xgb__max_depth=2, xgb__n_estimators=240;, score=0.794 total time= 1.3min\n",
      "[CV 2/3] END xgb__learning_rate=0.1, xgb__max_depth=2, xgb__n_estimators=240;, score=0.795 total time= 1.3min\n",
      "[CV 3/3] END xgb__learning_rate=0.1, xgb__max_depth=2, xgb__n_estimators=240;, score=0.793 total time= 1.3min\n",
      "[CV 1/3] END xgb__learning_rate=0.1, xgb__max_depth=5, xgb__n_estimators=60;, score=0.804 total time=  47.4s\n",
      "[CV 2/3] END xgb__learning_rate=0.1, xgb__max_depth=5, xgb__n_estimators=60;, score=0.799 total time=  47.4s\n",
      "[CV 3/3] END xgb__learning_rate=0.1, xgb__max_depth=5, xgb__n_estimators=60;, score=0.799 total time=  47.3s\n",
      "[CV 1/3] END xgb__learning_rate=0.1, xgb__max_depth=5, xgb__n_estimators=150;, score=0.821 total time= 1.9min\n",
      "[CV 2/3] END xgb__learning_rate=0.1, xgb__max_depth=5, xgb__n_estimators=150;, score=0.817 total time= 1.9min\n",
      "[CV 3/3] END xgb__learning_rate=0.1, xgb__max_depth=5, xgb__n_estimators=150;, score=0.817 total time= 1.9min\n",
      "[CV 1/3] END xgb__learning_rate=0.1, xgb__max_depth=5, xgb__n_estimators=240;, score=0.827 total time= 3.0min\n",
      "[CV 2/3] END xgb__learning_rate=0.1, xgb__max_depth=5, xgb__n_estimators=240;, score=0.824 total time= 2.9min\n",
      "[CV 3/3] END xgb__learning_rate=0.1, xgb__max_depth=5, xgb__n_estimators=240;, score=0.823 total time= 3.0min\n",
      "[CV 1/3] END xgb__learning_rate=0.1, xgb__max_depth=10, xgb__n_estimators=60;, score=0.836 total time= 1.4min\n",
      "[CV 2/3] END xgb__learning_rate=0.1, xgb__max_depth=10, xgb__n_estimators=60;, score=0.834 total time= 1.5min\n",
      "[CV 3/3] END xgb__learning_rate=0.1, xgb__max_depth=10, xgb__n_estimators=60;, score=0.832 total time= 1.4min\n",
      "[CV 1/3] END xgb__learning_rate=0.1, xgb__max_depth=10, xgb__n_estimators=150;, score=0.842 total time= 3.5min\n",
      "[CV 2/3] END xgb__learning_rate=0.1, xgb__max_depth=10, xgb__n_estimators=150;, score=0.841 total time= 3.5min\n",
      "[CV 3/3] END xgb__learning_rate=0.1, xgb__max_depth=10, xgb__n_estimators=150;, score=0.840 total time= 3.5min\n",
      "[CV 1/3] END xgb__learning_rate=0.1, xgb__max_depth=10, xgb__n_estimators=240;, score=0.845 total time= 5.6min\n",
      "[CV 2/3] END xgb__learning_rate=0.1, xgb__max_depth=10, xgb__n_estimators=240;, score=0.844 total time= 5.6min\n",
      "[CV 3/3] END xgb__learning_rate=0.1, xgb__max_depth=10, xgb__n_estimators=240;, score=0.842 total time= 5.6min\n",
      "[CV 1/3] END xgb__learning_rate=0.01, xgb__max_depth=2, xgb__n_estimators=60;, score=0.747 total time=  22.7s\n",
      "[CV 2/3] END xgb__learning_rate=0.01, xgb__max_depth=2, xgb__n_estimators=60;, score=0.743 total time=  22.5s\n",
      "[CV 3/3] END xgb__learning_rate=0.01, xgb__max_depth=2, xgb__n_estimators=60;, score=0.739 total time=  23.5s\n",
      "[CV 1/3] END xgb__learning_rate=0.01, xgb__max_depth=2, xgb__n_estimators=150;, score=0.749 total time= 1.3min\n",
      "[CV 2/3] END xgb__learning_rate=0.01, xgb__max_depth=2, xgb__n_estimators=150;, score=0.750 total time=  51.9s\n",
      "[CV 3/3] END xgb__learning_rate=0.01, xgb__max_depth=2, xgb__n_estimators=150;, score=0.745 total time=  50.7s\n",
      "[CV 1/3] END xgb__learning_rate=0.01, xgb__max_depth=2, xgb__n_estimators=240;, score=0.751 total time= 1.3min\n",
      "[CV 2/3] END xgb__learning_rate=0.01, xgb__max_depth=2, xgb__n_estimators=240;, score=0.750 total time= 1.3min\n",
      "[CV 3/3] END xgb__learning_rate=0.01, xgb__max_depth=2, xgb__n_estimators=240;, score=0.747 total time= 1.3min\n",
      "[CV 1/3] END xgb__learning_rate=0.01, xgb__max_depth=5, xgb__n_estimators=60;, score=0.773 total time=  46.3s\n",
      "[CV 2/3] END xgb__learning_rate=0.01, xgb__max_depth=5, xgb__n_estimators=60;, score=0.768 total time=  46.1s\n",
      "[CV 3/3] END xgb__learning_rate=0.01, xgb__max_depth=5, xgb__n_estimators=60;, score=0.762 total time=  46.3s\n",
      "[CV 1/3] END xgb__learning_rate=0.01, xgb__max_depth=5, xgb__n_estimators=150;, score=0.782 total time= 1.8min\n",
      "[CV 2/3] END xgb__learning_rate=0.01, xgb__max_depth=5, xgb__n_estimators=150;, score=0.774 total time= 1.8min\n",
      "[CV 3/3] END xgb__learning_rate=0.01, xgb__max_depth=5, xgb__n_estimators=150;, score=0.771 total time= 1.9min\n",
      "[CV 1/3] END xgb__learning_rate=0.01, xgb__max_depth=5, xgb__n_estimators=240;, score=0.789 total time= 2.9min\n",
      "[CV 2/3] END xgb__learning_rate=0.01, xgb__max_depth=5, xgb__n_estimators=240;, score=0.781 total time= 2.9min\n",
      "[CV 3/3] END xgb__learning_rate=0.01, xgb__max_depth=5, xgb__n_estimators=240;, score=0.776 total time= 2.9min\n",
      "[CV 1/3] END xgb__learning_rate=0.01, xgb__max_depth=10, xgb__n_estimators=60;, score=0.809 total time= 1.5min\n",
      "[CV 2/3] END xgb__learning_rate=0.01, xgb__max_depth=10, xgb__n_estimators=60;, score=0.808 total time= 1.4min\n",
      "[CV 3/3] END xgb__learning_rate=0.01, xgb__max_depth=10, xgb__n_estimators=60;, score=0.802 total time= 1.5min\n",
      "[CV 1/3] END xgb__learning_rate=0.01, xgb__max_depth=10, xgb__n_estimators=150;, score=0.819 total time= 3.6min\n",
      "[CV 2/3] END xgb__learning_rate=0.01, xgb__max_depth=10, xgb__n_estimators=150;, score=0.820 total time= 3.5min\n",
      "[CV 3/3] END xgb__learning_rate=0.01, xgb__max_depth=10, xgb__n_estimators=150;, score=0.815 total time= 3.5min\n",
      "[CV 1/3] END xgb__learning_rate=0.01, xgb__max_depth=10, xgb__n_estimators=240;, score=0.826 total time= 5.6min\n",
      "[CV 2/3] END xgb__learning_rate=0.01, xgb__max_depth=10, xgb__n_estimators=240;, score=0.826 total time= 5.6min\n",
      "[CV 3/3] END xgb__learning_rate=0.01, xgb__max_depth=10, xgb__n_estimators=240;, score=0.824 total time= 5.6min\n",
      "[CV 1/3] END xgb__learning_rate=0.05, xgb__max_depth=2, xgb__n_estimators=60;, score=0.754 total time=  24.6s\n",
      "[CV 2/3] END xgb__learning_rate=0.05, xgb__max_depth=2, xgb__n_estimators=60;, score=0.751 total time=  24.3s\n",
      "[CV 3/3] END xgb__learning_rate=0.05, xgb__max_depth=2, xgb__n_estimators=60;, score=0.749 total time=  22.5s\n",
      "[CV 1/3] END xgb__learning_rate=0.05, xgb__max_depth=2, xgb__n_estimators=150;, score=0.779 total time=  50.1s\n",
      "[CV 2/3] END xgb__learning_rate=0.05, xgb__max_depth=2, xgb__n_estimators=150;, score=0.772 total time=  50.8s\n",
      "[CV 3/3] END xgb__learning_rate=0.05, xgb__max_depth=2, xgb__n_estimators=150;, score=0.768 total time=  50.7s\n",
      "[CV 1/3] END xgb__learning_rate=0.05, xgb__max_depth=2, xgb__n_estimators=240;, score=0.787 total time= 1.3min\n",
      "[CV 2/3] END xgb__learning_rate=0.05, xgb__max_depth=2, xgb__n_estimators=240;, score=0.781 total time= 1.3min\n",
      "[CV 3/3] END xgb__learning_rate=0.05, xgb__max_depth=2, xgb__n_estimators=240;, score=0.777 total time= 1.3min\n",
      "[CV 1/3] END xgb__learning_rate=0.05, xgb__max_depth=5, xgb__n_estimators=60;, score=0.792 total time=  46.3s\n",
      "[CV 2/3] END xgb__learning_rate=0.05, xgb__max_depth=5, xgb__n_estimators=60;, score=0.787 total time=  46.5s\n",
      "[CV 3/3] END xgb__learning_rate=0.05, xgb__max_depth=5, xgb__n_estimators=60;, score=0.782 total time=  46.3s\n",
      "[CV 1/3] END xgb__learning_rate=0.05, xgb__max_depth=5, xgb__n_estimators=150;, score=0.808 total time= 1.8min\n",
      "[CV 2/3] END xgb__learning_rate=0.05, xgb__max_depth=5, xgb__n_estimators=150;, score=0.803 total time= 1.8min\n",
      "[CV 3/3] END xgb__learning_rate=0.05, xgb__max_depth=5, xgb__n_estimators=150;, score=0.801 total time= 1.8min\n",
      "[CV 1/3] END xgb__learning_rate=0.05, xgb__max_depth=5, xgb__n_estimators=240;, score=0.818 total time= 2.9min\n",
      "[CV 2/3] END xgb__learning_rate=0.05, xgb__max_depth=5, xgb__n_estimators=240;, score=0.813 total time= 3.0min\n",
      "[CV 3/3] END xgb__learning_rate=0.05, xgb__max_depth=5, xgb__n_estimators=240;, score=0.810 total time= 2.9min\n",
      "[CV 1/3] END xgb__learning_rate=0.05, xgb__max_depth=10, xgb__n_estimators=60;, score=0.830 total time= 1.4min\n",
      "[CV 2/3] END xgb__learning_rate=0.05, xgb__max_depth=10, xgb__n_estimators=60;, score=0.829 total time= 1.4min\n"
     ]
    },
    {
     "name": "stdout",
     "output_type": "stream",
     "text": [
      "[CV 3/3] END xgb__learning_rate=0.05, xgb__max_depth=10, xgb__n_estimators=60;, score=0.827 total time= 1.4min\n",
      "[CV 1/3] END xgb__learning_rate=0.05, xgb__max_depth=10, xgb__n_estimators=150;, score=0.837 total time= 3.5min\n",
      "[CV 2/3] END xgb__learning_rate=0.05, xgb__max_depth=10, xgb__n_estimators=150;, score=0.838 total time= 3.5min\n",
      "[CV 3/3] END xgb__learning_rate=0.05, xgb__max_depth=10, xgb__n_estimators=150;, score=0.833 total time= 3.5min\n",
      "[CV 1/3] END xgb__learning_rate=0.05, xgb__max_depth=10, xgb__n_estimators=240;, score=0.842 total time= 5.7min\n",
      "[CV 2/3] END xgb__learning_rate=0.05, xgb__max_depth=10, xgb__n_estimators=240;, score=0.842 total time= 5.6min\n",
      "[CV 3/3] END xgb__learning_rate=0.05, xgb__max_depth=10, xgb__n_estimators=240;, score=0.835 total time= 5.6min\n"
     ]
    }
   ],
   "source": [
    "xgb = xgb_grid_search.fit(X_train, y_train)"
   ]
  },
  {
   "cell_type": "code",
   "execution_count": 141,
   "metadata": {},
   "outputs": [
    {
     "data": {
      "text/plain": [
       "0.8437153853267341"
      ]
     },
     "execution_count": 141,
     "metadata": {},
     "output_type": "execute_result"
    }
   ],
   "source": [
    "xgb.best_score_"
   ]
  },
  {
   "cell_type": "markdown",
   "metadata": {},
   "source": [
    "The XGBoost GridSearch accuracy score did not beat the XGBoost with default values."
   ]
  },
  {
   "cell_type": "code",
   "execution_count": 142,
   "metadata": {
    "scrolled": true
   },
   "outputs": [
    {
     "data": {
      "text/plain": [
       "{'xgb__learning_rate': 0.1, 'xgb__max_depth': 10, 'xgb__n_estimators': 240}"
      ]
     },
     "execution_count": 142,
     "metadata": {},
     "output_type": "execute_result"
    }
   ],
   "source": [
    "xgb.best_params_"
   ]
  },
  {
   "cell_type": "code",
   "execution_count": 240,
   "metadata": {},
   "outputs": [],
   "source": [
    "xgb_grid_model_filename = 'Pickles/xgb_grid_model.sav'"
   ]
  },
  {
   "cell_type": "code",
   "execution_count": 241,
   "metadata": {},
   "outputs": [],
   "source": [
    "pickle.dump(xgb_grid_search, open(xgb_grid_model_filename, 'wb'))"
   ]
  },
  {
   "cell_type": "code",
   "execution_count": null,
   "metadata": {},
   "outputs": [],
   "source": [
    "# rf_model_pickle = pickle.load(open('xgb_grid_model.sav', 'rb'))"
   ]
  },
  {
   "cell_type": "markdown",
   "metadata": {},
   "source": [
    "### Next Steps "
   ]
  },
  {
   "cell_type": "markdown",
   "metadata": {},
   "source": [
    "Need to run another GridSearch and raise my max_depth and n_estimators learning_rate. Unfortunately time did not allow me to do this."
   ]
  }
 ],
 "metadata": {
  "kernelspec": {
   "display_name": "Python (learn-env)",
   "language": "python",
   "name": "learn-env"
  },
  "language_info": {
   "codemirror_mode": {
    "name": "ipython",
    "version": 3
   },
   "file_extension": ".py",
   "mimetype": "text/x-python",
   "name": "python",
   "nbconvert_exporter": "python",
   "pygments_lexer": "ipython3",
   "version": "3.8.5"
  }
 },
 "nbformat": 4,
 "nbformat_minor": 4
}
